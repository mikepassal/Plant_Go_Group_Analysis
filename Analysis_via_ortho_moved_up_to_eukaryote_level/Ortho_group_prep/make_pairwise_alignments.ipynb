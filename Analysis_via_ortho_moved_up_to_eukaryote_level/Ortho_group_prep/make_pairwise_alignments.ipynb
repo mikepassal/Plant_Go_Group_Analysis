{
 "cells": [
  {
   "cell_type": "code",
   "execution_count": 1,
   "metadata": {},
   "outputs": [],
   "source": [
    "import pickle \n",
    "import pandas as pd\n",
    "import itertools\n",
    "import tqdm as tq\n",
    "import Name_resolver \n",
    "import numpy as np"
   ]
  },
  {
   "cell_type": "code",
   "execution_count": 2,
   "metadata": {},
   "outputs": [],
   "source": [
    "genes_pd = pickle.load(open('/data/passala/Generated_Tables/Comparing_all_go_groups_across_species/OrthoDB_python_files/orthodb_v11_genes.p','rb'))\n",
    "og2genes_pd = pd.read_csv('/data/passala/OrthoDB_data/eukaryota_groups.csv',names = ['Orthogroup','Gene','Species'])"
   ]
  },
  {
   "cell_type": "code",
   "execution_count": 3,
   "metadata": {},
   "outputs": [],
   "source": [
    "og2genes_pd['Ortholevel'] = og2genes_pd['Orthogroup'].str.split('t').str[1]"
   ]
  },
  {
   "cell_type": "code",
   "execution_count": 23,
   "metadata": {},
   "outputs": [],
   "source": [
    "species_with_nets = pd.read_csv('/data/passala/Generated_Tables/Reference_tables/species_for_running_cross_ortho_analysis.csv')\n",
    "\n",
    "# # species_with_nets = species_with_nets.drop(index = [13,14])\n",
    "# # species_with_nets.loc[0,'Taxa ID'] = 39947 \n",
    "taxa_to_keep = species_with_nets['Taxa ID'].to_list()\n"
   ]
  },
  {
   "cell_type": "code",
   "execution_count": 5,
   "metadata": {},
   "outputs": [],
   "source": [
    "og2genes_only_cococonet = og2genes_pd.loc[og2genes_pd['Species'].isin(taxa_to_keep)]\n"
   ]
  },
  {
   "cell_type": "code",
   "execution_count": 6,
   "metadata": {},
   "outputs": [],
   "source": [
    "groups_present = og2genes_only_cococonet['Species'].unique()\n"
   ]
  },
  {
   "cell_type": "code",
   "execution_count": 7,
   "metadata": {},
   "outputs": [],
   "source": [
    "species_to_run_on = species_with_nets['Taxa ID'].loc[species_with_nets['Taxa ID'].isin(groups_present)].to_list()"
   ]
  },
  {
   "cell_type": "code",
   "execution_count": 8,
   "metadata": {},
   "outputs": [],
   "source": [
    "species_combinations = list(itertools.combinations(species_to_run_on,2))"
   ]
  },
  {
   "cell_type": "code",
   "execution_count": 9,
   "metadata": {},
   "outputs": [],
   "source": [
    "ncbi_mapping = pd.read_csv('/data/passala/OrthoDB_data/NCBI_data/merged_ncbi_to_orthodb_fixed_non_genesymbol.csv')"
   ]
  },
  {
   "cell_type": "code",
   "execution_count": 11,
   "metadata": {},
   "outputs": [],
   "source": [
    "og2genes_only_cococonet = og2genes_only_cococonet.merge(right = ncbi_mapping[['Orthodb Gene','Symbol']], right_on = 'Orthodb Gene',left_on='Gene')"
   ]
  },
  {
   "cell_type": "code",
   "execution_count": 13,
   "metadata": {},
   "outputs": [],
   "source": [
    "og2genes_only_cococonet.to_csv('/data/passala/OrthoDB_data/NCBI_data/eukaryota_level_stuff/og_2_Genes_with_network_id.csv',index = False)"
   ]
  },
  {
   "cell_type": "code",
   "execution_count": 14,
   "metadata": {},
   "outputs": [
    {
     "name": "stderr",
     "output_type": "stream",
     "text": [
      "outer:  10%|█         | 14/136 [06:46<58:59, 29.01s/it]           \n"
     ]
    },
    {
     "ename": "ValueError",
     "evalue": "No objects to concatenate",
     "output_type": "error",
     "traceback": [
      "\u001b[0;31m---------------------------------------------------------------------------\u001b[0m",
      "\u001b[0;31mValueError\u001b[0m                                Traceback (most recent call last)",
      "\u001b[1;32m/data/passala/git/Plant_Go_Group_Analysis/Analysis_via_ortho_moved_up_to_eukaryote_level/Ortho_group_prep/make_pairwise_alignments.ipynb Cell 15\u001b[0m in \u001b[0;36m<cell line: 1>\u001b[0;34m()\u001b[0m\n\u001b[1;32m     <a href='vscode-notebook-cell://ssh-remote%2Brugen20/data/passala/git/Plant_Go_Group_Analysis/Analysis_via_ortho_moved_up_to_eukaryote_level/Ortho_group_prep/make_pairwise_alignments.ipynb#X20sdnNjb2RlLXJlbW90ZQ%3D%3D?line=16'>17</a>\u001b[0m     current_orthogroup_pd[\u001b[39m'\u001b[39m\u001b[39mOrthogroup\u001b[39m\u001b[39m'\u001b[39m] \u001b[39m=\u001b[39m orthogroup\n\u001b[1;32m     <a href='vscode-notebook-cell://ssh-remote%2Brugen20/data/passala/git/Plant_Go_Group_Analysis/Analysis_via_ortho_moved_up_to_eukaryote_level/Ortho_group_prep/make_pairwise_alignments.ipynb#X20sdnNjb2RlLXJlbW90ZQ%3D%3D?line=17'>18</a>\u001b[0m     list_of_orthogene_pds\u001b[39m.\u001b[39mappend(current_orthogroup_pd)\n\u001b[0;32m---> <a href='vscode-notebook-cell://ssh-remote%2Brugen20/data/passala/git/Plant_Go_Group_Analysis/Analysis_via_ortho_moved_up_to_eukaryote_level/Ortho_group_prep/make_pairwise_alignments.ipynb#X20sdnNjb2RlLXJlbW90ZQ%3D%3D?line=19'>20</a>\u001b[0m final_species_lineup \u001b[39m=\u001b[39m pd\u001b[39m.\u001b[39;49mconcat(list_of_orthogene_pds)\n\u001b[1;32m     <a href='vscode-notebook-cell://ssh-remote%2Brugen20/data/passala/git/Plant_Go_Group_Analysis/Analysis_via_ortho_moved_up_to_eukaryote_level/Ortho_group_prep/make_pairwise_alignments.ipynb#X20sdnNjb2RlLXJlbW90ZQ%3D%3D?line=20'>21</a>\u001b[0m ncbi_added_once \u001b[39m=\u001b[39m final_species_lineup\u001b[39m.\u001b[39mmerge(right \u001b[39m=\u001b[39m ncbi_mapping[[\u001b[39m'\u001b[39m\u001b[39mOrthodb Gene\u001b[39m\u001b[39m'\u001b[39m,\u001b[39m'\u001b[39m\u001b[39mSymbol\u001b[39m\u001b[39m'\u001b[39m]], right_on \u001b[39m=\u001b[39m \u001b[39m'\u001b[39m\u001b[39mOrthodb Gene\u001b[39m\u001b[39m'\u001b[39m,left_on\u001b[39m=\u001b[39m\u001b[39mf\u001b[39m\u001b[39m'\u001b[39m\u001b[39m{\u001b[39;00mspecies_1_name\u001b[39m}\u001b[39;00m\u001b[39m OrthoGene\u001b[39m\u001b[39m'\u001b[39m)\n\u001b[1;32m     <a href='vscode-notebook-cell://ssh-remote%2Brugen20/data/passala/git/Plant_Go_Group_Analysis/Analysis_via_ortho_moved_up_to_eukaryote_level/Ortho_group_prep/make_pairwise_alignments.ipynb#X20sdnNjb2RlLXJlbW90ZQ%3D%3D?line=21'>22</a>\u001b[0m ncbi_added_once_clean\u001b[39m=\u001b[39m ncbi_added_once\u001b[39m.\u001b[39mdrop(columns \u001b[39m=\u001b[39m \u001b[39m'\u001b[39m\u001b[39mOrthodb Gene\u001b[39m\u001b[39m'\u001b[39m)\u001b[39m.\u001b[39mrename(columns \u001b[39m=\u001b[39m {\u001b[39m'\u001b[39m\u001b[39mSymbol\u001b[39m\u001b[39m'\u001b[39m:\u001b[39mf\u001b[39m\u001b[39m'\u001b[39m\u001b[39m{\u001b[39;00mspecies_1_name\u001b[39m}\u001b[39;00m\u001b[39m Symbol\u001b[39m\u001b[39m'\u001b[39m})\n",
      "File \u001b[0;32m~/miniconda3/envs/Single_cell_data_fix/lib/python3.9/site-packages/pandas/util/_decorators.py:331\u001b[0m, in \u001b[0;36mdeprecate_nonkeyword_arguments.<locals>.decorate.<locals>.wrapper\u001b[0;34m(*args, **kwargs)\u001b[0m\n\u001b[1;32m    325\u001b[0m \u001b[39mif\u001b[39;00m \u001b[39mlen\u001b[39m(args) \u001b[39m>\u001b[39m num_allow_args:\n\u001b[1;32m    326\u001b[0m     warnings\u001b[39m.\u001b[39mwarn(\n\u001b[1;32m    327\u001b[0m         msg\u001b[39m.\u001b[39mformat(arguments\u001b[39m=\u001b[39m_format_argument_list(allow_args)),\n\u001b[1;32m    328\u001b[0m         \u001b[39mFutureWarning\u001b[39;00m,\n\u001b[1;32m    329\u001b[0m         stacklevel\u001b[39m=\u001b[39mfind_stack_level(),\n\u001b[1;32m    330\u001b[0m     )\n\u001b[0;32m--> 331\u001b[0m \u001b[39mreturn\u001b[39;00m func(\u001b[39m*\u001b[39;49margs, \u001b[39m*\u001b[39;49m\u001b[39m*\u001b[39;49mkwargs)\n",
      "File \u001b[0;32m~/miniconda3/envs/Single_cell_data_fix/lib/python3.9/site-packages/pandas/core/reshape/concat.py:368\u001b[0m, in \u001b[0;36mconcat\u001b[0;34m(objs, axis, join, ignore_index, keys, levels, names, verify_integrity, sort, copy)\u001b[0m\n\u001b[1;32m    146\u001b[0m \u001b[39m@deprecate_nonkeyword_arguments\u001b[39m(version\u001b[39m=\u001b[39m\u001b[39mNone\u001b[39;00m, allowed_args\u001b[39m=\u001b[39m[\u001b[39m\"\u001b[39m\u001b[39mobjs\u001b[39m\u001b[39m\"\u001b[39m])\n\u001b[1;32m    147\u001b[0m \u001b[39mdef\u001b[39;00m \u001b[39mconcat\u001b[39m(\n\u001b[1;32m    148\u001b[0m     objs: Iterable[NDFrame] \u001b[39m|\u001b[39m Mapping[HashableT, NDFrame],\n\u001b[0;32m   (...)\u001b[0m\n\u001b[1;32m    157\u001b[0m     copy: \u001b[39mbool\u001b[39m \u001b[39m=\u001b[39m \u001b[39mTrue\u001b[39;00m,\n\u001b[1;32m    158\u001b[0m ) \u001b[39m-\u001b[39m\u001b[39m>\u001b[39m DataFrame \u001b[39m|\u001b[39m Series:\n\u001b[1;32m    159\u001b[0m     \u001b[39m\"\"\"\u001b[39;00m\n\u001b[1;32m    160\u001b[0m \u001b[39m    Concatenate pandas objects along a particular axis.\u001b[39;00m\n\u001b[1;32m    161\u001b[0m \n\u001b[0;32m   (...)\u001b[0m\n\u001b[1;32m    366\u001b[0m \u001b[39m    1   3   4\u001b[39;00m\n\u001b[1;32m    367\u001b[0m \u001b[39m    \"\"\"\u001b[39;00m\n\u001b[0;32m--> 368\u001b[0m     op \u001b[39m=\u001b[39m _Concatenator(\n\u001b[1;32m    369\u001b[0m         objs,\n\u001b[1;32m    370\u001b[0m         axis\u001b[39m=\u001b[39;49maxis,\n\u001b[1;32m    371\u001b[0m         ignore_index\u001b[39m=\u001b[39;49mignore_index,\n\u001b[1;32m    372\u001b[0m         join\u001b[39m=\u001b[39;49mjoin,\n\u001b[1;32m    373\u001b[0m         keys\u001b[39m=\u001b[39;49mkeys,\n\u001b[1;32m    374\u001b[0m         levels\u001b[39m=\u001b[39;49mlevels,\n\u001b[1;32m    375\u001b[0m         names\u001b[39m=\u001b[39;49mnames,\n\u001b[1;32m    376\u001b[0m         verify_integrity\u001b[39m=\u001b[39;49mverify_integrity,\n\u001b[1;32m    377\u001b[0m         copy\u001b[39m=\u001b[39;49mcopy,\n\u001b[1;32m    378\u001b[0m         sort\u001b[39m=\u001b[39;49msort,\n\u001b[1;32m    379\u001b[0m     )\n\u001b[1;32m    381\u001b[0m     \u001b[39mreturn\u001b[39;00m op\u001b[39m.\u001b[39mget_result()\n",
      "File \u001b[0;32m~/miniconda3/envs/Single_cell_data_fix/lib/python3.9/site-packages/pandas/core/reshape/concat.py:425\u001b[0m, in \u001b[0;36m_Concatenator.__init__\u001b[0;34m(self, objs, axis, join, keys, levels, names, ignore_index, verify_integrity, copy, sort)\u001b[0m\n\u001b[1;32m    422\u001b[0m     objs \u001b[39m=\u001b[39m \u001b[39mlist\u001b[39m(objs)\n\u001b[1;32m    424\u001b[0m \u001b[39mif\u001b[39;00m \u001b[39mlen\u001b[39m(objs) \u001b[39m==\u001b[39m \u001b[39m0\u001b[39m:\n\u001b[0;32m--> 425\u001b[0m     \u001b[39mraise\u001b[39;00m \u001b[39mValueError\u001b[39;00m(\u001b[39m\"\u001b[39m\u001b[39mNo objects to concatenate\u001b[39m\u001b[39m\"\u001b[39m)\n\u001b[1;32m    427\u001b[0m \u001b[39mif\u001b[39;00m keys \u001b[39mis\u001b[39;00m \u001b[39mNone\u001b[39;00m:\n\u001b[1;32m    428\u001b[0m     objs \u001b[39m=\u001b[39m \u001b[39mlist\u001b[39m(com\u001b[39m.\u001b[39mnot_none(\u001b[39m*\u001b[39mobjs))\n",
      "\u001b[0;31mValueError\u001b[0m: No objects to concatenate"
     ]
    }
   ],
   "source": [
    "for combo in tq.tqdm(species_combinations,desc='outer',position = 0):\n",
    "    species_1,species_2 = combo[0],combo[1]\n",
    "\n",
    "    species_1_name = Name_resolver.species_name_resolver(species_1,desired_type='common')\n",
    "    species_2_name = Name_resolver.species_name_resolver(species_2,desired_type='common')\n",
    "\n",
    "    first_species_ortho_groups = og2genes_only_cococonet.loc[og2genes_only_cococonet['Species'] == species_1]\n",
    "    second_species_ortho_groups = og2genes_only_cococonet.loc[og2genes_only_cococonet['Species'] == species_2]\n",
    "    shared_orthogroups = np.intersect1d(first_species_ortho_groups['Orthogroup'].unique(),second_species_ortho_groups['Orthogroup'].unique())\n",
    "\n",
    "    list_of_orthogene_pds = []\n",
    "    for orthogroup in tq.tqdm(shared_orthogroups,desc ='inner_loop',position= 0,leave = False):\n",
    "        species_1_genes = first_species_ortho_groups['Gene'].loc[first_species_ortho_groups['Orthogroup']== orthogroup].to_list()\n",
    "        species_2_genes = second_species_ortho_groups['Gene'].loc[second_species_ortho_groups['Orthogroup'] == orthogroup].to_list()\n",
    "        all_gene_combos = list(itertools.product(species_1_genes,species_2_genes))\n",
    "        current_orthogroup_pd = pd.DataFrame(columns = [f'{species_1_name} OrthoGene',f'{species_2_name} OrthoGene'],data = all_gene_combos)\n",
    "        current_orthogroup_pd['Orthogroup'] = orthogroup\n",
    "        list_of_orthogene_pds.append(current_orthogroup_pd)\n",
    "\n",
    "    final_species_lineup = pd.concat(list_of_orthogene_pds)\n",
    "    ncbi_added_once = final_species_lineup.merge(right = ncbi_mapping[['Orthodb Gene','Symbol']], right_on = 'Orthodb Gene',left_on=f'{species_1_name} OrthoGene')\n",
    "    ncbi_added_once_clean= ncbi_added_once.drop(columns = 'Orthodb Gene').rename(columns = {'Symbol':f'{species_1_name} Symbol'})\n",
    "    ncbi_added_twice = ncbi_added_once_clean.merge(right = ncbi_mapping[['Orthodb Gene','Symbol']], right_on = 'Orthodb Gene',left_on=f'{species_2_name} OrthoGene')\n",
    "    full_final = ncbi_added_twice.drop(columns = 'Orthodb Gene').rename(columns = {'Symbol':f'{species_2_name} Symbol'})\n",
    "    final_species_file_name = f\"/data/passala/OrthoDB_data/Eukaryota_level_orthodb/V_11_pairwise_maps/{species_1_name}_to_{species_2_name}_ortholog_NM.csv\"\n",
    "    full_final.to_csv(final_species_file_name, index=False)"
   ]
  }
 ],
 "metadata": {
  "kernelspec": {
   "display_name": "Single_cell_data_fix",
   "language": "python",
   "name": "python3"
  },
  "language_info": {
   "codemirror_mode": {
    "name": "ipython",
    "version": 3
   },
   "file_extension": ".py",
   "mimetype": "text/x-python",
   "name": "python",
   "nbconvert_exporter": "python",
   "pygments_lexer": "ipython3",
   "version": "3.9.13"
  },
  "orig_nbformat": 4
 },
 "nbformat": 4,
 "nbformat_minor": 2
}
