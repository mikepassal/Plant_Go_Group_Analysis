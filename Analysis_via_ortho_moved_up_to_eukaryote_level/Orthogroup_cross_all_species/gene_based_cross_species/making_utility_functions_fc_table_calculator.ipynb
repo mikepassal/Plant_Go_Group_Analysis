{
 "cells": [
  {
   "cell_type": "code",
   "execution_count": 1,
   "metadata": {},
   "outputs": [],
   "source": [
    "import pandas as pd\n",
    "import numpy as np\n",
    "import CococoNet_reader\n",
    "import Name_resolver\n",
    "import os\n",
    "import itertools\n",
    "import warnings\n",
    "import tqdm\n",
    "warnings.simplefilter(action='ignore', category=FutureWarning)\n"
   ]
  },
  {
   "cell_type": "code",
   "execution_count": 2,
   "metadata": {},
   "outputs": [],
   "source": [
    "def get_n_m_table(species_1,species_2):\n",
    "    \"\"\"Takes two species common names in any order and returns the N to M table for that pair with species_1 as column 1 and species_2 as column 2 \n",
    "\n",
    "    Args:\n",
    "        species_1 (str): species common name\n",
    "        species_2 (str): species common name\n",
    "\n",
    "    Returns:\n",
    "        str: All N-M gene pairs\n",
    "    \"\"\"\n",
    "    import pandas as pd\n",
    "    import os \n",
    "\n",
    "    list_of_files = os.listdir('/data/passala/OrthoDB_data/Eukaryota_level_orthodb/V_11_pairwise_maps')\n",
    "    trimmed_to_species_1 = list(filter(lambda x:species_1 in x, list_of_files))\n",
    "    final_file = list(filter(lambda x: species_2 in x, trimmed_to_species_1))[0]\n",
    "    formatted_final_file = f\"/data/passala/OrthoDB_data/Eukaryota_level_orthodb/V_11_pairwise_maps/{final_file}\"\n",
    "    read_in_file = pd.read_csv(formatted_final_file)\n",
    "    redone_file = read_in_file[[f\"{species_1} Symbol\",f\"{species_2} Symbol\",\"Orthogroup\"]]\n",
    "    redone_file = redone_file.rename(columns = {f\"{species_1} Symbol\":f'{species_1}',f\"{species_2} Symbol\":f\"{species_2}\"})\n",
    "    return redone_file\n",
    "\n",
    "    "
   ]
  },
  {
   "cell_type": "code",
   "execution_count": 3,
   "metadata": {},
   "outputs": [],
   "source": [
    "def Calculate_Score_list_for_thresholding(coconet_1, coconet_2, Species_1 = 'rice',Species_2 = 'maize', ):\n",
    "\n",
    "    import pandas as pd\n",
    "    import CococoNet_reader\n",
    "    import itertools\n",
    "    #Get Species Names in Common form \n",
    "    common_name_1 = Name_resolver.species_name_resolver(Species_1,'common')\n",
    "    common_name_2 = Name_resolver.species_name_resolver(Species_2,'common')\n",
    "\n",
    "\n",
    "    cross_species_n_m_genes = get_n_m_table(common_name_1,common_name_2)\n",
    "\n",
    "    ### Get one to ones\n",
    "    cross_species_map_one_to_one = cross_species_n_m_genes.drop_duplicates(subset=common_name_1, keep= False,)\n",
    "    cross_species_map_one_to_one = cross_species_map_one_to_one.drop_duplicates(subset= common_name_2, keep= False)\n",
    "\n",
    "    ## Convert to Dictionary\n",
    "    dictionary_mapper_one_to_two = cross_species_map_one_to_one.set_index(common_name_1).to_dict()[common_name_2]\n",
    "    dictionary_mapper_dos_to_uno = cross_species_map_one_to_one.set_index(common_name_2).to_dict()[common_name_1]\n",
    "\n",
    "    ## Read In Cococonets \n",
    "    coconet_species_one = coconet_1\n",
    "    coconet_species_two = coconet_2\n",
    "\n",
    "    cross_species_n_m_genes['Group ID'] = 'Unassigned'\n",
    "    \n",
    "\n",
    "    ## Assign Genes to Groups\n",
    "    id_indexer = 0\n",
    "    for gene_pair in cross_species_n_m_genes.iterrows():\n",
    "        \n",
    "        if gene_pair[1]['Group ID'] == 'Unassigned':\n",
    "            current_species_1_gene = gene_pair[1][common_name_1]\n",
    "            current_species_2_gene = gene_pair[1][common_name_2]\n",
    "            cross_species_n_m_genes['Group ID'].loc[(cross_species_n_m_genes[common_name_1] == current_species_1_gene) & (cross_species_n_m_genes['Group ID'] == 'Unassigned')] = id_indexer\n",
    "            cross_species_n_m_genes['Group ID'].loc[(cross_species_n_m_genes[common_name_2] == current_species_2_gene) & (cross_species_n_m_genes['Group ID'] == 'Unassigned')] = id_indexer\n",
    "\n",
    "            all_labeled_groups = cross_species_n_m_genes.loc[cross_species_n_m_genes['Group ID'] == id_indexer]\n",
    "\n",
    "            all_labeled_groups_species_1_genes = all_labeled_groups[common_name_1].to_list()\n",
    "            all_labeled_groups_species_2_genes = all_labeled_groups[common_name_2].to_list()\n",
    "\n",
    "            cross_species_n_m_genes['Group ID'].loc[cross_species_n_m_genes[common_name_1].isin(all_labeled_groups_species_1_genes)] = id_indexer\n",
    "            cross_species_n_m_genes['Group ID'].loc[cross_species_n_m_genes[common_name_2].isin(all_labeled_groups_species_2_genes)] = id_indexer\n",
    "\n",
    "            id_indexer += 1\n",
    "\n",
    "\n",
    "\n",
    "    #Identify Pairs for evaluation\n",
    "    all_pairs_to_evaluate_for_functional_conservation = pd.DataFrame(columns = [common_name_1,common_name_2,'Group Number'])\n",
    "    for group_number in list(set(cross_species_n_m_genes['Group ID'].to_list())):\n",
    "        current_gene_map = cross_species_n_m_genes.loc[cross_species_n_m_genes['Group ID'] == group_number]\n",
    "        list_of_species_1_genes_in_group = list(set(current_gene_map[common_name_1].to_list()))\n",
    "        list_of_species_2_genes_in_group = list(set(current_gene_map[common_name_2].to_list()))\n",
    "        all_combo_list_current_genes = itertools.product(list_of_species_1_genes_in_group,list_of_species_2_genes_in_group)\n",
    "        all_combo_list_current_genes = list(map(list,all_combo_list_current_genes))\n",
    "        current_list_of_pairs = pd.DataFrame(all_combo_list_current_genes,columns = [Species_1,Species_2])\n",
    "        current_list_of_pairs['Group Number'] = group_number\n",
    "        all_pairs_to_evaluate_for_functional_conservation = all_pairs_to_evaluate_for_functional_conservation.append(current_list_of_pairs)\n",
    "\n",
    "\n",
    "    \n",
    "    all_pairs_to_evaluate_for_functional_conservation['Species 1 Score'] = np.nan\n",
    "    all_pairs_to_evaluate_for_functional_conservation['Species 2 Score'] = np.nan\n",
    "\n",
    "\n",
    "    ## Trim cococonets to match\n",
    "\n",
    "\n",
    "    trimmed_species_1_cococonet = coconet_species_one[coconet_species_one.columns.intersection(cross_species_n_m_genes[common_name_1].to_list())]\n",
    "    trimmed_species_1_cococonet = trimmed_species_1_cococonet[trimmed_species_1_cococonet.index.isin(cross_species_n_m_genes[common_name_1].to_list())]\n",
    "    double_species_1_trimmed_cococonet = trimmed_species_1_cococonet[trimmed_species_1_cococonet.columns.intersection(cross_species_map_one_to_one[common_name_1].to_list())]\n",
    "    double_species_1_trimmed_cococonet = double_species_1_trimmed_cococonet.replace(1,0)\n",
    "\n",
    "    trimmed_species_2_cococonet = coconet_species_two[coconet_species_two.columns.intersection(cross_species_n_m_genes[common_name_2].to_list())]\n",
    "    trimmed_species_2_cococonet = trimmed_species_2_cococonet[trimmed_species_2_cococonet.index.isin(cross_species_n_m_genes[common_name_2].to_list())]\n",
    "    double_species_2_trimmed_cococonet = trimmed_species_2_cococonet[trimmed_species_2_cococonet.columns.intersection(cross_species_map_one_to_one[common_name_2].to_list())]\n",
    "    double_species_2_trimmed_cococonet = double_species_2_trimmed_cococonet.replace(1,0)\n",
    "\n",
    "\n",
    "    ## Rank\n",
    "    species_1_cococonet_ranked = trimmed_species_1_cococonet.rank()\n",
    "    species_2_cococonet_ranked = trimmed_species_2_cococonet.rank()\n",
    "\n",
    "    #Do top 10 Genes\n",
    "    top_10_species_1_genes = np.array(\n",
    "        [double_species_1_trimmed_cococonet.T[c].nlargest(10).index.values for c in double_species_1_trimmed_cococonet.T]\n",
    "    )  # using pair list above, cut down top 10 list to relevant genes, probably by adding list as a column in panda and then filtering panda to index of pair list\n",
    "    top_10_species_1_genes_dataframe = pd.DataFrame(\n",
    "        data=top_10_species_1_genes,\n",
    "        index=double_species_1_trimmed_cococonet.index,\n",
    "        columns=[\n",
    "            \"One\",\n",
    "            \"Two\",\n",
    "            \"Three\",\n",
    "            \"Four\",\n",
    "            \"Five\",\n",
    "            \"Six\",\n",
    "            \"Seven\",\n",
    "            \"Eight\",\n",
    "            \"Nine\",\n",
    "            \"Ten\",\n",
    "        ],\n",
    "    )\n",
    "\n",
    "    #Convert \n",
    "    top_10_species_1_genes_as_species_2 = top_10_species_1_genes_dataframe.replace(to_replace=dictionary_mapper_one_to_two)\n",
    "\n",
    "    # Get genes for checking \n",
    "    have_species_1_pairs = all_pairs_to_evaluate_for_functional_conservation.loc[all_pairs_to_evaluate_for_functional_conservation[common_name_1].isin(top_10_species_1_genes_as_species_2.index)]\n",
    "    trimmed_all_gene_pairs_for_fc = have_species_1_pairs.loc[have_species_1_pairs[common_name_2].isin(trimmed_species_2_cococonet.index)]\n",
    "    trimmed_all_gene_pairs_for_fc = trimmed_all_gene_pairs_for_fc.reset_index(drop = True)\n",
    "\n",
    "    # Get values in species 2 \n",
    "    for two_genes in trimmed_all_gene_pairs_for_fc.iterrows():\n",
    "        current_species_1_gene = two_genes[1][common_name_1]\n",
    "        current_species_2_gene = two_genes[1][common_name_2]\n",
    "        finger_print_genes = top_10_species_1_genes_as_species_2.loc[current_species_1_gene].to_list()\n",
    "        gene_ranks_in_species_2 = species_2_cococonet_ranked.loc[species_2_cococonet_ranked.index.isin(finger_print_genes), current_species_2_gene]\n",
    "        avg_rank_in_species_2 = gene_ranks_in_species_2.mean()\n",
    "        index_from_pairs = two_genes[0]\n",
    "        trimmed_all_gene_pairs_for_fc.at[index_from_pairs, 'Species 1 Score'] = avg_rank_in_species_2\n",
    "\n",
    "    #Repeat for Species 2 \n",
    "\n",
    "    top_10_species_2_genes = np.array(\n",
    "        [double_species_2_trimmed_cococonet.T[c].nlargest(10).index.values for c in double_species_2_trimmed_cococonet.T]\n",
    "    )  # using pair list above, cut down top 10 list to relevant genes, probably by adding list as a column in panda and then filtering panda to index of pair list\n",
    "    top_10_species_2_genes_dataframe = pd.DataFrame(\n",
    "        data=top_10_species_2_genes,\n",
    "        index=double_species_2_trimmed_cococonet.index,\n",
    "        columns=[\n",
    "            \"One\",\n",
    "            \"Two\",\n",
    "            \"Three\",\n",
    "            \"Four\",\n",
    "            \"Five\",\n",
    "            \"Six\",\n",
    "            \"Seven\",\n",
    "            \"Eight\",\n",
    "            \"Nine\",\n",
    "            \"Ten\",\n",
    "        ],\n",
    "    )\n",
    "    \n",
    "\n",
    "    #convert \n",
    "    top_10_species_2_genes_as_species_1 = top_10_species_2_genes_dataframe.replace(to_replace=dictionary_mapper_dos_to_uno)\n",
    "\n",
    "\n",
    "    # Get values in species 1 \n",
    "    for two_genes in trimmed_all_gene_pairs_for_fc.iterrows():\n",
    "        current_species_1_gene = two_genes[1][common_name_1]\n",
    "        current_species_2_gene = two_genes[1][common_name_2]\n",
    "        finger_print_genes = top_10_species_2_genes_as_species_1.loc[current_species_2_gene].to_list()\n",
    "        gene_ranks_in_species_1 = species_1_cococonet_ranked.loc[species_1_cococonet_ranked.index.isin(finger_print_genes), current_species_1_gene]\n",
    "        avg_rank_in_species_1 = gene_ranks_in_species_1.mean()\n",
    "        index_from_pairs = two_genes[0]\n",
    "        trimmed_all_gene_pairs_for_fc.loc[index_from_pairs, 'Species 2 Score'] = avg_rank_in_species_1\n",
    "    \n",
    "    #Caluclate Divisors \n",
    "    Number_of_species_1_genes = len(top_10_species_1_genes_as_species_2)\n",
    "    Number_of_species_2_genes = len(top_10_species_2_genes_as_species_1)\n",
    "\n",
    "\n",
    "    species_1_score_divisor = Number_of_species_2_genes - 4.5\n",
    "    species_2_score_divisor = Number_of_species_1_genes-4.5\n",
    "\n",
    "    #Divide and Average \n",
    "    trimmed_all_gene_pairs_for_fc['Species 1 Score'] = trimmed_all_gene_pairs_for_fc['Species 1 Score']/species_1_score_divisor\n",
    "    trimmed_all_gene_pairs_for_fc['Species 2 Score'] = trimmed_all_gene_pairs_for_fc['Species 2 Score']/species_2_score_divisor\n",
    "    trimmed_all_gene_pairs_for_fc['Total Score'] = trimmed_all_gene_pairs_for_fc[['Species 1 Score','Species 2 Score']].mean(axis = 1)\n",
    "    \n",
    "    return trimmed_all_gene_pairs_for_fc"
   ]
  },
  {
   "cell_type": "code",
   "execution_count": 4,
   "metadata": {},
   "outputs": [],
   "source": [
    "species_to_run_on = pd.read_csv('/data/passala/Generated_Tables/Reference_tables/species_for_running_cross_ortho_analysis.csv')\n"
   ]
  },
  {
   "cell_type": "code",
   "execution_count": 5,
   "metadata": {},
   "outputs": [],
   "source": [
    "list_of_species_to_run_on = species_to_run_on['Common Name'].to_list()\n"
   ]
  },
  {
   "cell_type": "code",
   "execution_count": 6,
   "metadata": {},
   "outputs": [
    {
     "name": "stderr",
     "output_type": "stream",
     "text": [
      "100%|██████████| 15/15 [07:15<00:00, 29.00s/it]\n"
     ]
    }
   ],
   "source": [
    "all_coconets = {}\n",
    "for species in tqdm.tqdm(list_of_species_to_run_on):\n",
    "    current_net = CococoNet_reader.read_cococonet(species)\n",
    "    all_coconets[species] = current_net"
   ]
  },
  {
   "cell_type": "code",
   "execution_count": 7,
   "metadata": {},
   "outputs": [],
   "source": [
    "all_combos_to_run_on = list(itertools.combinations(list_of_species_to_run_on,2))\n"
   ]
  },
  {
   "cell_type": "code",
   "execution_count": 8,
   "metadata": {},
   "outputs": [
    {
     "data": {
      "text/plain": [
       "105"
      ]
     },
     "execution_count": 8,
     "metadata": {},
     "output_type": "execute_result"
    }
   ],
   "source": [
    "len(all_combos_to_run_on)\n"
   ]
  },
  {
   "cell_type": "code",
   "execution_count": 9,
   "metadata": {},
   "outputs": [],
   "source": [
    "generated_files = os.listdir('/data/passala/Generated_Tables/Comparing_all_orthogorups_across_plants/N_M_FC_tables')"
   ]
  },
  {
   "cell_type": "code",
   "execution_count": 10,
   "metadata": {},
   "outputs": [
    {
     "data": {
      "text/plain": [
       "105"
      ]
     },
     "execution_count": 10,
     "metadata": {},
     "output_type": "execute_result"
    }
   ],
   "source": [
    "len(generated_files)"
   ]
  },
  {
   "cell_type": "code",
   "execution_count": 11,
   "metadata": {},
   "outputs": [
    {
     "name": "stderr",
     "output_type": "stream",
     "text": [
      " 80%|████████  | 84/105 [24:01:42<5:42:32, 978.68s/it]  "
     ]
    }
   ],
   "source": [
    "for combo in tqdm.tqdm(all_combos_to_run_on):\n",
    "    species_1 = combo[0]\n",
    "    species_2 = combo[1]\n",
    "    coconet_spec_1 = all_coconets[species_1]\n",
    "    coconet_spec_2 = all_coconets[species_2]\n",
    "    \n",
    "    score_list = Calculate_Score_list_for_thresholding(coconet_1=coconet_spec_1, coconet_2= coconet_spec_2, Species_1= species_1, Species_2= species_2)\n",
    "    score_list.to_csv(f'/data/passala/Generated_Tables/Comparing_all_orthogorups_across_plants/Orthogroups_at_eukaryote_level/N_M_FC_based_on_gene/{species_1}_{species_2}_NM.csv')\n"
   ]
  },
  {
   "cell_type": "code",
   "execution_count": null,
   "metadata": {},
   "outputs": [],
   "source": []
  }
 ],
 "metadata": {
  "kernelspec": {
   "display_name": "Single_cell_data_fix",
   "language": "python",
   "name": "python3"
  },
  "language_info": {
   "codemirror_mode": {
    "name": "ipython",
    "version": 3
   },
   "file_extension": ".py",
   "mimetype": "text/x-python",
   "name": "python",
   "nbconvert_exporter": "python",
   "pygments_lexer": "ipython3",
   "version": "3.9.13"
  },
  "orig_nbformat": 4
 },
 "nbformat": 4,
 "nbformat_minor": 2
}
