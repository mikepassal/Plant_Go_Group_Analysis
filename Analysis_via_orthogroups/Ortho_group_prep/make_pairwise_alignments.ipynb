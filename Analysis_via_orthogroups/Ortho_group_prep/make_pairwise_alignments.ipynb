{
 "cells": [
  {
   "cell_type": "code",
   "execution_count": 1,
   "metadata": {},
   "outputs": [],
   "source": [
    "import pickle \n",
    "import pandas as pd\n",
    "import itertools\n",
    "import tqdm as tq\n",
    "import Name_resolver \n",
    "import numpy as np"
   ]
  },
  {
   "cell_type": "code",
   "execution_count": 2,
   "metadata": {},
   "outputs": [],
   "source": [
    "genes_pd = pickle.load(open('/data/passala/Generated_Tables/Comparing_all_go_groups_across_species/OrthoDB_python_files/orthodb_v11_genes.p','rb'))\n",
    "og2genes_pd = pd.read_csv('/data/passala/OrthoDB_data/embryophyta_groups.csv',names = ['Orthogroup','Gene','Species'])"
   ]
  },
  {
   "cell_type": "code",
   "execution_count": 3,
   "metadata": {},
   "outputs": [],
   "source": [
    "og2genes_pd['Ortholevel'] = og2genes_pd['Orthogroup'].str.split('t').str[1]"
   ]
  },
  {
   "cell_type": "code",
   "execution_count": 4,
   "metadata": {},
   "outputs": [],
   "source": [
    "species_with_nets = pd.read_csv('/data/passala/Generated_Tables/Reference_tables/Species_name_resolver.csv')\n",
    "species_with_nets = species_with_nets[:18]\n",
    "# # species_with_nets = species_with_nets.drop(index = [13,14])\n",
    "# # species_with_nets.loc[0,'Taxa ID'] = 39947 \n",
    "taxa_to_keep = species_with_nets['Taxa ID'].to_list()\n"
   ]
  },
  {
   "cell_type": "code",
   "execution_count": 5,
   "metadata": {},
   "outputs": [],
   "source": [
    "taxa_to_keep.append('3694')\n"
   ]
  },
  {
   "cell_type": "code",
   "execution_count": 6,
   "metadata": {},
   "outputs": [],
   "source": [
    "og2genes_only_cococonet = og2genes_pd.loc[og2genes_pd['Species'].isin(taxa_to_keep)]\n"
   ]
  },
  {
   "cell_type": "code",
   "execution_count": 7,
   "metadata": {},
   "outputs": [],
   "source": [
    "groups_present = og2genes_only_cococonet['Species'].unique()\n"
   ]
  },
  {
   "cell_type": "code",
   "execution_count": 42,
   "metadata": {},
   "outputs": [],
   "source": [
    "species_to_run_on = species_with_nets['Taxa ID'].loc[species_with_nets['Taxa ID'].isin(groups_present)].to_list()"
   ]
  },
  {
   "cell_type": "code",
   "execution_count": 43,
   "metadata": {},
   "outputs": [],
   "source": [
    "species_to_run_on.append(3694)"
   ]
  },
  {
   "cell_type": "code",
   "execution_count": 44,
   "metadata": {},
   "outputs": [],
   "source": [
    "species_combinations = list(itertools.combinations(species_to_run_on,2))"
   ]
  },
  {
   "cell_type": "code",
   "execution_count": 10,
   "metadata": {},
   "outputs": [],
   "source": [
    "ncbi_mapping = pd.read_csv('/data/passala/OrthoDB_data/NCBI_data/merged_ncbi_to_orthodb_fixed_non_genesymbol_updated_poplar.csv')"
   ]
  },
  {
   "cell_type": "code",
   "execution_count": null,
   "metadata": {},
   "outputs": [],
   "source": []
  },
  {
   "cell_type": "code",
   "execution_count": 11,
   "metadata": {},
   "outputs": [
    {
     "data": {
      "text/html": [
       "<div>\n",
       "<style scoped>\n",
       "    .dataframe tbody tr th:only-of-type {\n",
       "        vertical-align: middle;\n",
       "    }\n",
       "\n",
       "    .dataframe tbody tr th {\n",
       "        vertical-align: top;\n",
       "    }\n",
       "\n",
       "    .dataframe thead th {\n",
       "        text-align: right;\n",
       "    }\n",
       "</style>\n",
       "<table border=\"1\" class=\"dataframe\">\n",
       "  <thead>\n",
       "    <tr style=\"text-align: right;\">\n",
       "      <th></th>\n",
       "      <th>Orthogroup</th>\n",
       "      <th>Gene</th>\n",
       "      <th>Species</th>\n",
       "      <th>Ortholevel</th>\n",
       "      <th>Orthodb Gene</th>\n",
       "      <th>Symbol</th>\n",
       "    </tr>\n",
       "  </thead>\n",
       "  <tbody>\n",
       "    <tr>\n",
       "      <th>0</th>\n",
       "      <td>67026at3193</td>\n",
       "      <td>15368_0:000000</td>\n",
       "      <td>15368</td>\n",
       "      <td>3193.0</td>\n",
       "      <td>15368_0:000000</td>\n",
       "      <td>LOC100829170</td>\n",
       "    </tr>\n",
       "    <tr>\n",
       "      <th>1</th>\n",
       "      <td>7376at3193</td>\n",
       "      <td>15368_0:000001</td>\n",
       "      <td>15368</td>\n",
       "      <td>3193.0</td>\n",
       "      <td>15368_0:000001</td>\n",
       "      <td>LOC100840094</td>\n",
       "    </tr>\n",
       "    <tr>\n",
       "      <th>2</th>\n",
       "      <td>325723at3193</td>\n",
       "      <td>15368_0:000002</td>\n",
       "      <td>15368</td>\n",
       "      <td>3193.0</td>\n",
       "      <td>15368_0:000002</td>\n",
       "      <td>LOC100841678</td>\n",
       "    </tr>\n",
       "    <tr>\n",
       "      <th>3</th>\n",
       "      <td>117946at3193</td>\n",
       "      <td>15368_0:000003</td>\n",
       "      <td>15368</td>\n",
       "      <td>3193.0</td>\n",
       "      <td>15368_0:000003</td>\n",
       "      <td>LOC100844153</td>\n",
       "    </tr>\n",
       "    <tr>\n",
       "      <th>4</th>\n",
       "      <td>658893at3193</td>\n",
       "      <td>15368_0:000004</td>\n",
       "      <td>15368</td>\n",
       "      <td>3193.0</td>\n",
       "      <td>15368_0:000004</td>\n",
       "      <td>LOC100841477</td>\n",
       "    </tr>\n",
       "    <tr>\n",
       "      <th>...</th>\n",
       "      <td>...</td>\n",
       "      <td>...</td>\n",
       "      <td>...</td>\n",
       "      <td>...</td>\n",
       "      <td>...</td>\n",
       "      <td>...</td>\n",
       "    </tr>\n",
       "    <tr>\n",
       "      <th>615300</th>\n",
       "      <td>68168at3193</td>\n",
       "      <td>4577_0:0085a4</td>\n",
       "      <td>4577</td>\n",
       "      <td>3193.0</td>\n",
       "      <td>4577_0:0085a4</td>\n",
       "      <td>ZemaCp159</td>\n",
       "    </tr>\n",
       "    <tr>\n",
       "      <th>615301</th>\n",
       "      <td>868182at3193</td>\n",
       "      <td>4577_0:0085a5</td>\n",
       "      <td>4577</td>\n",
       "      <td>3193.0</td>\n",
       "      <td>4577_0:0085a5</td>\n",
       "      <td>rps19</td>\n",
       "    </tr>\n",
       "    <tr>\n",
       "      <th>615302</th>\n",
       "      <td>125785at3193</td>\n",
       "      <td>4577_0:0085a6</td>\n",
       "      <td>4577</td>\n",
       "      <td>3193.0</td>\n",
       "      <td>4577_0:0085a6</td>\n",
       "      <td>ZemaCp081</td>\n",
       "    </tr>\n",
       "    <tr>\n",
       "      <th>615303</th>\n",
       "      <td>866429at3193</td>\n",
       "      <td>4577_0:0085a7</td>\n",
       "      <td>4577</td>\n",
       "      <td>3193.0</td>\n",
       "      <td>4577_0:0085a7</td>\n",
       "      <td>petD</td>\n",
       "    </tr>\n",
       "    <tr>\n",
       "      <th>615304</th>\n",
       "      <td>NaN</td>\n",
       "      <td>NaN</td>\n",
       "      <td>4577</td>\n",
       "      <td>NaN</td>\n",
       "      <td>4577_0:0085a8</td>\n",
       "      <td>ZemaCp095</td>\n",
       "    </tr>\n",
       "  </tbody>\n",
       "</table>\n",
       "<p>615305 rows × 6 columns</p>\n",
       "</div>"
      ],
      "text/plain": [
       "          Orthogroup            Gene  Species  Ortholevel    Orthodb Gene  \\\n",
       "0        67026at3193  15368_0:000000    15368      3193.0  15368_0:000000   \n",
       "1         7376at3193  15368_0:000001    15368      3193.0  15368_0:000001   \n",
       "2       325723at3193  15368_0:000002    15368      3193.0  15368_0:000002   \n",
       "3       117946at3193  15368_0:000003    15368      3193.0  15368_0:000003   \n",
       "4       658893at3193  15368_0:000004    15368      3193.0  15368_0:000004   \n",
       "...              ...             ...      ...         ...             ...   \n",
       "615300   68168at3193   4577_0:0085a4     4577      3193.0   4577_0:0085a4   \n",
       "615301  868182at3193   4577_0:0085a5     4577      3193.0   4577_0:0085a5   \n",
       "615302  125785at3193   4577_0:0085a6     4577      3193.0   4577_0:0085a6   \n",
       "615303  866429at3193   4577_0:0085a7     4577      3193.0   4577_0:0085a7   \n",
       "615304           NaN             NaN     4577         NaN   4577_0:0085a8   \n",
       "\n",
       "              Symbol  \n",
       "0       LOC100829170  \n",
       "1       LOC100840094  \n",
       "2       LOC100841678  \n",
       "3       LOC100844153  \n",
       "4       LOC100841477  \n",
       "...              ...  \n",
       "615300     ZemaCp159  \n",
       "615301         rps19  \n",
       "615302     ZemaCp081  \n",
       "615303          petD  \n",
       "615304     ZemaCp095  \n",
       "\n",
       "[615305 rows x 6 columns]"
      ]
     },
     "execution_count": 11,
     "metadata": {},
     "output_type": "execute_result"
    }
   ],
   "source": [
    "ncbi_mapping"
   ]
  },
  {
   "cell_type": "code",
   "execution_count": 12,
   "metadata": {},
   "outputs": [
    {
     "data": {
      "text/plain": [
       "Species\n",
       "3708     71919\n",
       "3818     65719\n",
       "4097     61660\n",
       "3847     45224\n",
       "3711     40924\n",
       "3750     33120\n",
       "4577     32492\n",
       "3880     29186\n",
       "3694     28497\n",
       "4113     28350\n",
       "4558     28179\n",
       "39947    27591\n",
       "3702     27377\n",
       "15368    25478\n",
       "4081     24196\n",
       "29760    23784\n",
       "3659     19997\n",
       "4565      1612\n",
       "dtype: int64"
      ]
     },
     "execution_count": 12,
     "metadata": {},
     "output_type": "execute_result"
    }
   ],
   "source": [
    "ncbi_mapping.value_counts('Species')"
   ]
  },
  {
   "cell_type": "code",
   "execution_count": 21,
   "metadata": {},
   "outputs": [],
   "source": [
    "#og2genes_only_cococonet = og2genes_only_cococonet.merge(right = ncbi_mapping[['Orthodb Gene','Symbol']], right_on = 'Orthodb Gene',left_on='Gene')"
   ]
  },
  {
   "cell_type": "code",
   "execution_count": 13,
   "metadata": {},
   "outputs": [],
   "source": [
    "og2genes_only_cococonet = ncbi_mapping"
   ]
  },
  {
   "cell_type": "code",
   "execution_count": 14,
   "metadata": {},
   "outputs": [
    {
     "data": {
      "text/html": [
       "<div>\n",
       "<style scoped>\n",
       "    .dataframe tbody tr th:only-of-type {\n",
       "        vertical-align: middle;\n",
       "    }\n",
       "\n",
       "    .dataframe tbody tr th {\n",
       "        vertical-align: top;\n",
       "    }\n",
       "\n",
       "    .dataframe thead th {\n",
       "        text-align: right;\n",
       "    }\n",
       "</style>\n",
       "<table border=\"1\" class=\"dataframe\">\n",
       "  <thead>\n",
       "    <tr style=\"text-align: right;\">\n",
       "      <th></th>\n",
       "      <th>Orthogroup</th>\n",
       "      <th>Gene</th>\n",
       "      <th>Species</th>\n",
       "      <th>Ortholevel</th>\n",
       "      <th>Orthodb Gene</th>\n",
       "      <th>Symbol</th>\n",
       "    </tr>\n",
       "  </thead>\n",
       "  <tbody>\n",
       "    <tr>\n",
       "      <th>0</th>\n",
       "      <td>67026at3193</td>\n",
       "      <td>15368_0:000000</td>\n",
       "      <td>15368</td>\n",
       "      <td>3193.0</td>\n",
       "      <td>15368_0:000000</td>\n",
       "      <td>LOC100829170</td>\n",
       "    </tr>\n",
       "    <tr>\n",
       "      <th>1</th>\n",
       "      <td>7376at3193</td>\n",
       "      <td>15368_0:000001</td>\n",
       "      <td>15368</td>\n",
       "      <td>3193.0</td>\n",
       "      <td>15368_0:000001</td>\n",
       "      <td>LOC100840094</td>\n",
       "    </tr>\n",
       "    <tr>\n",
       "      <th>2</th>\n",
       "      <td>325723at3193</td>\n",
       "      <td>15368_0:000002</td>\n",
       "      <td>15368</td>\n",
       "      <td>3193.0</td>\n",
       "      <td>15368_0:000002</td>\n",
       "      <td>LOC100841678</td>\n",
       "    </tr>\n",
       "    <tr>\n",
       "      <th>3</th>\n",
       "      <td>117946at3193</td>\n",
       "      <td>15368_0:000003</td>\n",
       "      <td>15368</td>\n",
       "      <td>3193.0</td>\n",
       "      <td>15368_0:000003</td>\n",
       "      <td>LOC100844153</td>\n",
       "    </tr>\n",
       "    <tr>\n",
       "      <th>4</th>\n",
       "      <td>658893at3193</td>\n",
       "      <td>15368_0:000004</td>\n",
       "      <td>15368</td>\n",
       "      <td>3193.0</td>\n",
       "      <td>15368_0:000004</td>\n",
       "      <td>LOC100841477</td>\n",
       "    </tr>\n",
       "    <tr>\n",
       "      <th>...</th>\n",
       "      <td>...</td>\n",
       "      <td>...</td>\n",
       "      <td>...</td>\n",
       "      <td>...</td>\n",
       "      <td>...</td>\n",
       "      <td>...</td>\n",
       "    </tr>\n",
       "    <tr>\n",
       "      <th>615300</th>\n",
       "      <td>68168at3193</td>\n",
       "      <td>4577_0:0085a4</td>\n",
       "      <td>4577</td>\n",
       "      <td>3193.0</td>\n",
       "      <td>4577_0:0085a4</td>\n",
       "      <td>ZemaCp159</td>\n",
       "    </tr>\n",
       "    <tr>\n",
       "      <th>615301</th>\n",
       "      <td>868182at3193</td>\n",
       "      <td>4577_0:0085a5</td>\n",
       "      <td>4577</td>\n",
       "      <td>3193.0</td>\n",
       "      <td>4577_0:0085a5</td>\n",
       "      <td>rps19</td>\n",
       "    </tr>\n",
       "    <tr>\n",
       "      <th>615302</th>\n",
       "      <td>125785at3193</td>\n",
       "      <td>4577_0:0085a6</td>\n",
       "      <td>4577</td>\n",
       "      <td>3193.0</td>\n",
       "      <td>4577_0:0085a6</td>\n",
       "      <td>ZemaCp081</td>\n",
       "    </tr>\n",
       "    <tr>\n",
       "      <th>615303</th>\n",
       "      <td>866429at3193</td>\n",
       "      <td>4577_0:0085a7</td>\n",
       "      <td>4577</td>\n",
       "      <td>3193.0</td>\n",
       "      <td>4577_0:0085a7</td>\n",
       "      <td>petD</td>\n",
       "    </tr>\n",
       "    <tr>\n",
       "      <th>615304</th>\n",
       "      <td>NaN</td>\n",
       "      <td>NaN</td>\n",
       "      <td>4577</td>\n",
       "      <td>NaN</td>\n",
       "      <td>4577_0:0085a8</td>\n",
       "      <td>ZemaCp095</td>\n",
       "    </tr>\n",
       "  </tbody>\n",
       "</table>\n",
       "<p>615305 rows × 6 columns</p>\n",
       "</div>"
      ],
      "text/plain": [
       "          Orthogroup            Gene  Species  Ortholevel    Orthodb Gene  \\\n",
       "0        67026at3193  15368_0:000000    15368      3193.0  15368_0:000000   \n",
       "1         7376at3193  15368_0:000001    15368      3193.0  15368_0:000001   \n",
       "2       325723at3193  15368_0:000002    15368      3193.0  15368_0:000002   \n",
       "3       117946at3193  15368_0:000003    15368      3193.0  15368_0:000003   \n",
       "4       658893at3193  15368_0:000004    15368      3193.0  15368_0:000004   \n",
       "...              ...             ...      ...         ...             ...   \n",
       "615300   68168at3193   4577_0:0085a4     4577      3193.0   4577_0:0085a4   \n",
       "615301  868182at3193   4577_0:0085a5     4577      3193.0   4577_0:0085a5   \n",
       "615302  125785at3193   4577_0:0085a6     4577      3193.0   4577_0:0085a6   \n",
       "615303  866429at3193   4577_0:0085a7     4577      3193.0   4577_0:0085a7   \n",
       "615304           NaN             NaN     4577         NaN   4577_0:0085a8   \n",
       "\n",
       "              Symbol  \n",
       "0       LOC100829170  \n",
       "1       LOC100840094  \n",
       "2       LOC100841678  \n",
       "3       LOC100844153  \n",
       "4       LOC100841477  \n",
       "...              ...  \n",
       "615300     ZemaCp159  \n",
       "615301         rps19  \n",
       "615302     ZemaCp081  \n",
       "615303          petD  \n",
       "615304     ZemaCp095  \n",
       "\n",
       "[615305 rows x 6 columns]"
      ]
     },
     "execution_count": 14,
     "metadata": {},
     "output_type": "execute_result"
    }
   ],
   "source": [
    "og2genes_only_cococonet"
   ]
  },
  {
   "cell_type": "code",
   "execution_count": 15,
   "metadata": {},
   "outputs": [],
   "source": [
    "og2genes_only_cococonet.to_csv('/data/passala/OrthoDB_data/NCBI_data/og_2_Genes_with_network_id_modded_proably_redudant.csv',index = False)"
   ]
  },
  {
   "cell_type": "code",
   "execution_count": 24,
   "metadata": {},
   "outputs": [
    {
     "data": {
      "text/plain": [
       "39947"
      ]
     },
     "execution_count": 24,
     "metadata": {},
     "output_type": "execute_result"
    }
   ],
   "source": [
    "species_combinations[0][0]"
   ]
  },
  {
   "cell_type": "code",
   "execution_count": null,
   "metadata": {},
   "outputs": [],
   "source": []
  },
  {
   "cell_type": "code",
   "execution_count": 49,
   "metadata": {},
   "outputs": [],
   "source": [
    "only_poplar_or_rapeseed = [t for t in species_combinations if any(x in t for x in [3694, 3708])]"
   ]
  },
  {
   "cell_type": "code",
   "execution_count": null,
   "metadata": {},
   "outputs": [],
   "source": []
  },
  {
   "cell_type": "code",
   "execution_count": 50,
   "metadata": {},
   "outputs": [
    {
     "data": {
      "text/plain": [
       "[(39947, 3708),\n",
       " (39947, 3694),\n",
       " (3750, 3708),\n",
       " (3750, 3694),\n",
       " (4558, 3708),\n",
       " (4558, 3694),\n",
       " (4577, 3708),\n",
       " (4577, 3694),\n",
       " (29760, 3708),\n",
       " (29760, 3694),\n",
       " (3711, 3708),\n",
       " (3711, 3694),\n",
       " (3847, 3708),\n",
       " (3847, 3694),\n",
       " (3880, 3708),\n",
       " (3880, 3694),\n",
       " (4097, 3708),\n",
       " (4097, 3694),\n",
       " (4113, 3708),\n",
       " (4113, 3694),\n",
       " (4081, 3708),\n",
       " (4081, 3694),\n",
       " (3702, 3708),\n",
       " (3702, 3694),\n",
       " (3818, 3708),\n",
       " (3818, 3694),\n",
       " (4565, 3708),\n",
       " (4565, 3694),\n",
       " (3659, 3708),\n",
       " (3659, 3694),\n",
       " (3708, 15368),\n",
       " (3708, 3694),\n",
       " (15368, 3694)]"
      ]
     },
     "execution_count": 50,
     "metadata": {},
     "output_type": "execute_result"
    }
   ],
   "source": [
    "only_poplar_or_rapeseed"
   ]
  },
  {
   "cell_type": "code",
   "execution_count": null,
   "metadata": {},
   "outputs": [],
   "source": [
    "for combo in tq.tqdm(species_combinations,desc='outer',position = 0):\n",
    "    species_1,species_2 = combo[0],combo[1]\n",
    "\n",
    "    species_1_name = Name_resolver.species_name_resolver(species_1,desired_type='common')\n",
    "    species_2_name = Name_resolver.species_name_resolver(species_2,desired_type='common')\n",
    "\n",
    "    first_species_ortho_groups = og2genes_only_cococonet.loc[og2genes_only_cococonet['Species'] == species_1]\n",
    "    second_species_ortho_groups = og2genes_only_cococonet.loc[og2genes_only_cococonet['Species'] == species_2]\n",
    "    shared_orthogroups = np.intersect1d(first_species_ortho_groups['Orthogroup'].unique(),second_species_ortho_groups['Orthogroup'].unique())\n",
    "\n",
    "    list_of_orthogene_pds = []\n",
    "    for orthogroup in tq.tqdm(shared_orthogroups,desc ='inner_loop',position= 0,leave = False):\n",
    "        species_1_genes = first_species_ortho_groups['Gene'].loc[first_species_ortho_groups['Orthogroup']== orthogroup].to_list()\n",
    "        species_2_genes = second_species_ortho_groups['Gene'].loc[second_species_ortho_groups['Orthogroup'] == orthogroup].to_list()\n",
    "        all_gene_combos = list(itertools.product(species_1_genes,species_2_genes))\n",
    "        current_orthogroup_pd = pd.DataFrame(columns = [f'{species_1_name} OrthoGene',f'{species_2_name} OrthoGene'],data = all_gene_combos)\n",
    "        current_orthogroup_pd['Orthogroup'] = orthogroup\n",
    "        list_of_orthogene_pds.append(current_orthogroup_pd)\n",
    "\n",
    "    final_species_lineup = pd.concat(list_of_orthogene_pds)\n",
    "    ncbi_added_once = final_species_lineup.merge(right = ncbi_mapping[['Orthodb Gene','Symbol']], right_on = 'Orthodb Gene',left_on=f'{species_1_name} OrthoGene')\n",
    "    ncbi_added_once_clean= ncbi_added_once.drop(columns = 'Orthodb Gene').rename(columns = {'Symbol':f'{species_1_name} Symbol'})\n",
    "    ncbi_added_twice = ncbi_added_once_clean.merge(right = ncbi_mapping[['Orthodb Gene','Symbol']], right_on = 'Orthodb Gene',left_on=f'{species_2_name} OrthoGene')\n",
    "    full_final = ncbi_added_twice.drop(columns = 'Orthodb Gene').rename(columns = {'Symbol':f'{species_2_name} Symbol'})\n",
    "    final_species_file_name = f\"/home/passala/passala/OrthoDB_data/V_11_pairwise_maps_fixed_problem_species/{species_1_name}_to_{species_2_name}_ortholog_NM.csv\"\n",
    "    full_final.to_csv(final_species_file_name, index=False)"
   ]
  },
  {
   "cell_type": "code",
   "execution_count": 53,
   "metadata": {},
   "outputs": [
    {
     "name": "stderr",
     "output_type": "stream",
     "text": [
      "                                                                  \r"
     ]
    }
   ],
   "source": [
    "species_1,species_2 = 3702,3708\n",
    "\n",
    "species_1_name = Name_resolver.species_name_resolver(species_1,desired_type='common')\n",
    "species_2_name = Name_resolver.species_name_resolver(species_2,desired_type='common')\n",
    "\n",
    "first_species_ortho_groups = og2genes_only_cococonet.loc[og2genes_only_cococonet['Species'] == species_1]\n",
    "second_species_ortho_groups = og2genes_only_cococonet.loc[og2genes_only_cococonet['Species'] == species_2]\n",
    "shared_orthogroups = np.intersect1d(first_species_ortho_groups['Orthogroup'].unique().astype('str'),second_species_ortho_groups['Orthogroup'].unique().astype('str'))\n",
    "\n",
    "list_of_orthogene_pds = []\n",
    "for orthogroup in tq.tqdm(shared_orthogroups,desc ='inner_loop',position= 0,leave = False):\n",
    "    species_1_genes = first_species_ortho_groups['Gene'].loc[first_species_ortho_groups['Orthogroup']== orthogroup].to_list()\n",
    "    species_2_genes = second_species_ortho_groups['Gene'].loc[second_species_ortho_groups['Orthogroup'] == orthogroup].to_list()\n",
    "    all_gene_combos = list(itertools.product(species_1_genes,species_2_genes))\n",
    "    current_orthogroup_pd = pd.DataFrame(columns = [f'{species_1_name} OrthoGene',f'{species_2_name} OrthoGene'],data = all_gene_combos)\n",
    "    current_orthogroup_pd['Orthogroup'] = orthogroup\n",
    "    list_of_orthogene_pds.append(current_orthogroup_pd)\n",
    "\n",
    "final_species_lineup = pd.concat(list_of_orthogene_pds)\n",
    "ncbi_added_once = final_species_lineup.merge(right = ncbi_mapping[['Orthodb Gene','Symbol']], right_on = 'Orthodb Gene',left_on=f'{species_1_name} OrthoGene')\n",
    "ncbi_added_once_clean= ncbi_added_once.drop(columns = 'Orthodb Gene').rename(columns = {'Symbol':f'{species_1_name} Symbol'})\n",
    "ncbi_added_twice = ncbi_added_once_clean.merge(right = ncbi_mapping[['Orthodb Gene','Symbol']], right_on = 'Orthodb Gene',left_on=f'{species_2_name} OrthoGene')\n",
    "full_final = ncbi_added_twice.drop(columns = 'Orthodb Gene').rename(columns = {'Symbol':f'{species_2_name} Symbol'})\n",
    "final_species_file_name = f\"/home/passala/passala/OrthoDB_data/V_11_pairwise_maps_fixed_problem_species/{species_1_name}_to_{species_2_name}_ortholog_NM.csv\"\n",
    "full_final.to_csv(final_species_file_name, index=False)"
   ]
  },
  {
   "cell_type": "code",
   "execution_count": 54,
   "metadata": {},
   "outputs": [
    {
     "name": "stderr",
     "output_type": "stream",
     "text": [
      "outer: 100%|██████████| 33/33 [29:29<00:00, 53.62s/it]            \n"
     ]
    }
   ],
   "source": [
    "for combo in tq.tqdm(only_poplar_or_rapeseed,desc='outer',position = 0):\n",
    "    species_1,species_2 = combo[0],combo[1]\n",
    "\n",
    "    species_1_name = Name_resolver.species_name_resolver(species_1,desired_type='common')\n",
    "    species_2_name = Name_resolver.species_name_resolver(species_2,desired_type='common')\n",
    "\n",
    "    first_species_ortho_groups = og2genes_only_cococonet.loc[og2genes_only_cococonet['Species'] == species_1]\n",
    "    second_species_ortho_groups = og2genes_only_cococonet.loc[og2genes_only_cococonet['Species'] == species_2]\n",
    "    shared_orthogroups = np.intersect1d(first_species_ortho_groups['Orthogroup'].unique().astype('str'),second_species_ortho_groups['Orthogroup'].unique().astype('str'))\n",
    "\n",
    "    list_of_orthogene_pds = []\n",
    "    for orthogroup in tq.tqdm(shared_orthogroups,desc ='inner_loop',position= 0,leave = False):\n",
    "        species_1_genes = first_species_ortho_groups['Gene'].loc[first_species_ortho_groups['Orthogroup']== orthogroup].to_list()\n",
    "        species_2_genes = second_species_ortho_groups['Gene'].loc[second_species_ortho_groups['Orthogroup'] == orthogroup].to_list()\n",
    "        all_gene_combos = list(itertools.product(species_1_genes,species_2_genes))\n",
    "        current_orthogroup_pd = pd.DataFrame(columns = [f'{species_1_name} OrthoGene',f'{species_2_name} OrthoGene'],data = all_gene_combos)\n",
    "        current_orthogroup_pd['Orthogroup'] = orthogroup\n",
    "        list_of_orthogene_pds.append(current_orthogroup_pd)\n",
    "\n",
    "    final_species_lineup = pd.concat(list_of_orthogene_pds)\n",
    "    ncbi_added_once = final_species_lineup.merge(right = ncbi_mapping[['Orthodb Gene','Symbol']], right_on = 'Orthodb Gene',left_on=f'{species_1_name} OrthoGene')\n",
    "    ncbi_added_once_clean= ncbi_added_once.drop(columns = 'Orthodb Gene').rename(columns = {'Symbol':f'{species_1_name} Symbol'})\n",
    "    ncbi_added_twice = ncbi_added_once_clean.merge(right = ncbi_mapping[['Orthodb Gene','Symbol']], right_on = 'Orthodb Gene',left_on=f'{species_2_name} OrthoGene')\n",
    "    full_final = ncbi_added_twice.drop(columns = 'Orthodb Gene').rename(columns = {'Symbol':f'{species_2_name} Symbol'})\n",
    "    final_species_file_name = f\"/home/passala/passala/OrthoDB_data/V_11_pairwise_maps_fixed_problem_species/{species_1_name}_to_{species_2_name}_ortholog_NM.csv\"\n",
    "    full_final.to_csv(final_species_file_name, index=False)"
   ]
  },
  {
   "cell_type": "code",
   "execution_count": null,
   "metadata": {},
   "outputs": [],
   "source": [
    "species_1,species_2 = 3694,3847\n",
    "\n",
    "species_1_name = Name_resolver.species_name_resolver(species_1,desired_type='common')\n",
    "species_2_name = Name_resolver.species_name_resolver(species_2,desired_type='common')\n",
    "\n",
    "first_species_ortho_groups = og2genes_only_cococonet.loc[og2genes_only_cococonet['Species'] == species_1]\n",
    "second_species_ortho_groups = og2genes_only_cococonet.loc[og2genes_only_cococonet['Species'] == species_2]\n",
    "shared_orthogroups = np.intersect1d(first_species_ortho_groups['Orthogroup'].unique().astype('str'),second_species_ortho_groups['Orthogroup'].unique().astype('str'))\n",
    "\n",
    "list_of_orthogene_pds = []\n",
    "for orthogroup in tq.tqdm(shared_orthogroups,desc ='inner_loop',position= 0,leave = False):\n",
    "    species_1_genes = first_species_ortho_groups['Gene'].loc[first_species_ortho_groups['Orthogroup']== orthogroup].to_list()\n",
    "    species_2_genes = second_species_ortho_groups['Gene'].loc[second_species_ortho_groups['Orthogroup'] == orthogroup].to_list()\n",
    "    all_gene_combos = list(itertools.product(species_1_genes,species_2_genes))\n",
    "    current_orthogroup_pd = pd.DataFrame(columns = [f'{species_1_name} OrthoGene',f'{species_2_name} OrthoGene'],data = all_gene_combos)\n",
    "    current_orthogroup_pd['Orthogroup'] = orthogroup\n",
    "    list_of_orthogene_pds.append(current_orthogroup_pd)\n",
    "\n",
    "final_species_lineup = pd.concat(list_of_orthogene_pds)\n",
    "ncbi_added_once = final_species_lineup.merge(right = ncbi_mapping[['Orthodb Gene','Symbol']], right_on = 'Orthodb Gene',left_on=f'{species_1_name} OrthoGene')\n",
    "ncbi_added_once_clean= ncbi_added_once.drop(columns = 'Orthodb Gene').rename(columns = {'Symbol':f'{species_1_name} Symbol'})\n",
    "ncbi_added_twice = ncbi_added_once_clean.merge(right = ncbi_mapping[['Orthodb Gene','Symbol']], right_on = 'Orthodb Gene',left_on=f'{species_2_name} OrthoGene')\n",
    "full_final = ncbi_added_twice.drop(columns = 'Orthodb Gene').rename(columns = {'Symbol':f'{species_2_name} Symbol'})\n",
    "final_species_file_name = f\"/home/passala/passala/OrthoDB_data/V_11_pairwise_maps_fixed_problem_species/{species_1_name}_to_{species_2_name}_ortholog_NM.csv\"\n",
    "full_final.to_csv(final_species_file_name, index=False)"
   ]
  },
  {
   "cell_type": "code",
   "execution_count": null,
   "metadata": {},
   "outputs": [],
   "source": [
    "first_species_ortho_groups['Orthogroup'].unique()"
   ]
  },
  {
   "cell_type": "code",
   "execution_count": null,
   "metadata": {},
   "outputs": [],
   "source": [
    "second_species_ortho_groups['Orthogroup'].unique()"
   ]
  },
  {
   "cell_type": "code",
   "execution_count": null,
   "metadata": {},
   "outputs": [],
   "source": [
    "np.intersect1d(first_species_ortho_groups['Orthogroup'].unique(),second_species_ortho_groups['Orthogroup'].unique())"
   ]
  }
 ],
 "metadata": {
  "kernelspec": {
   "display_name": "Single_cell_data_fix",
   "language": "python",
   "name": "python3"
  },
  "language_info": {
   "codemirror_mode": {
    "name": "ipython",
    "version": 3
   },
   "file_extension": ".py",
   "mimetype": "text/x-python",
   "name": "python",
   "nbconvert_exporter": "python",
   "pygments_lexer": "ipython3",
   "version": "3.9.13"
  },
  "orig_nbformat": 4
 },
 "nbformat": 4,
 "nbformat_minor": 2
}
