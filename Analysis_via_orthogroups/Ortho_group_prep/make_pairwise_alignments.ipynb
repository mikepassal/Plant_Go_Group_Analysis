{
 "cells": [
  {
   "cell_type": "code",
   "execution_count": 41,
   "metadata": {},
   "outputs": [],
   "source": [
    "import pickle\n",
    "import pandas as pd\n",
    "import itertools\n",
    "import Name_resolver \n",
    "import numpy as np\n",
    "import tqdm.notebook as tq"
   ]
  },
  {
   "cell_type": "code",
   "execution_count": 2,
   "metadata": {},
   "outputs": [],
   "source": [
    "genes_pd = pickle.load(open('/data/passala/Generated_Tables/Comparing_all_go_groups_across_species/OrthoDB_python_files/orthodb_v11_genes.p','rb'))\n",
    "og2genes_pd = pd.read_csv('/data/passala/OrthoDB_data/embryophyta_groups.csv',names = ['Orthogroup','Gene','Species'])"
   ]
  },
  {
   "cell_type": "code",
   "execution_count": 3,
   "metadata": {},
   "outputs": [
    {
     "data": {
      "text/html": [
       "<div>\n",
       "<style scoped>\n",
       "    .dataframe tbody tr th:only-of-type {\n",
       "        vertical-align: middle;\n",
       "    }\n",
       "\n",
       "    .dataframe tbody tr th {\n",
       "        vertical-align: top;\n",
       "    }\n",
       "\n",
       "    .dataframe thead th {\n",
       "        text-align: right;\n",
       "    }\n",
       "</style>\n",
       "<table border=\"1\" class=\"dataframe\">\n",
       "  <thead>\n",
       "    <tr style=\"text-align: right;\">\n",
       "      <th></th>\n",
       "      <th>Gene</th>\n",
       "      <th>Species</th>\n",
       "      <th>Refseq</th>\n",
       "      <th>Gene Symbol</th>\n",
       "      <th>Genbank</th>\n",
       "      <th>Annotation</th>\n",
       "    </tr>\n",
       "  </thead>\n",
       "  <tbody>\n",
       "    <tr>\n",
       "      <th>0</th>\n",
       "      <td>100_0:000000</td>\n",
       "      <td>100_0</td>\n",
       "      <td>WP_131833652.1</td>\n",
       "      <td>EV667_RS01940</td>\n",
       "      <td>A0A4R1I8Y6</td>\n",
       "      <td>A0A4R1I8Y6_ANCAQ</td>\n",
       "    </tr>\n",
       "    <tr>\n",
       "      <th>1</th>\n",
       "      <td>100_0:000001</td>\n",
       "      <td>100_0</td>\n",
       "      <td>WP_131834425.1</td>\n",
       "      <td>EV667_RS06425</td>\n",
       "      <td>A0A4R1IBT8</td>\n",
       "      <td>A0A4R1IBT8_ANCAQ</td>\n",
       "    </tr>\n",
       "    <tr>\n",
       "      <th>2</th>\n",
       "      <td>100_0:000002</td>\n",
       "      <td>100_0</td>\n",
       "      <td>WP_131835073.1</td>\n",
       "      <td>EV667_RS07960</td>\n",
       "      <td>NaN</td>\n",
       "      <td>GNAT family N-acetyltransferase</td>\n",
       "    </tr>\n",
       "    <tr>\n",
       "      <th>3</th>\n",
       "      <td>100_0:000003</td>\n",
       "      <td>100_0</td>\n",
       "      <td>WP_131834175.1</td>\n",
       "      <td>EV667_RS05015</td>\n",
       "      <td>A0A4V2PK40</td>\n",
       "      <td>A0A4V2PK40_ANCAQ</td>\n",
       "    </tr>\n",
       "    <tr>\n",
       "      <th>4</th>\n",
       "      <td>100_0:000004</td>\n",
       "      <td>100_0</td>\n",
       "      <td>WP_131834578.1</td>\n",
       "      <td>EV667_RS07250</td>\n",
       "      <td>A0A4R1IAQ2</td>\n",
       "      <td>Biopolymer transport protein ExbB</td>\n",
       "    </tr>\n",
       "    <tr>\n",
       "      <th>...</th>\n",
       "      <td>...</td>\n",
       "      <td>...</td>\n",
       "      <td>...</td>\n",
       "      <td>...</td>\n",
       "      <td>...</td>\n",
       "      <td>...</td>\n",
       "    </tr>\n",
       "    <tr>\n",
       "      <th>101009655</th>\n",
       "      <td>u_694002_316:000015</td>\n",
       "      <td>u_694002_316</td>\n",
       "      <td>YP_009725308.1</td>\n",
       "      <td>YP_009725308.1</td>\n",
       "      <td>NaN</td>\n",
       "      <td>NaN</td>\n",
       "    </tr>\n",
       "    <tr>\n",
       "      <th>101009656</th>\n",
       "      <td>u_694002_316:000016</td>\n",
       "      <td>u_694002_316</td>\n",
       "      <td>YP_009725309.1</td>\n",
       "      <td>YP_009725309.1</td>\n",
       "      <td>NaN</td>\n",
       "      <td>NaN</td>\n",
       "    </tr>\n",
       "    <tr>\n",
       "      <th>101009657</th>\n",
       "      <td>u_694002_316:000017</td>\n",
       "      <td>u_694002_316</td>\n",
       "      <td>YP_009725310.1</td>\n",
       "      <td>YP_009725310.1</td>\n",
       "      <td>NaN</td>\n",
       "      <td>NaN</td>\n",
       "    </tr>\n",
       "    <tr>\n",
       "      <th>101009658</th>\n",
       "      <td>u_694002_316:000018</td>\n",
       "      <td>u_694002_316</td>\n",
       "      <td>YP_009725311.1</td>\n",
       "      <td>YP_009725311.1</td>\n",
       "      <td>NaN</td>\n",
       "      <td>NaN</td>\n",
       "    </tr>\n",
       "    <tr>\n",
       "      <th>101009659</th>\n",
       "      <td>u_694002_316:000019</td>\n",
       "      <td>u_694002_316</td>\n",
       "      <td>YP_009725312.1</td>\n",
       "      <td>YP_009725312.1</td>\n",
       "      <td>NaN</td>\n",
       "      <td>NaN</td>\n",
       "    </tr>\n",
       "  </tbody>\n",
       "</table>\n",
       "<p>101009660 rows × 6 columns</p>\n",
       "</div>"
      ],
      "text/plain": [
       "                          Gene       Species          Refseq     Gene Symbol  \\\n",
       "0                 100_0:000000         100_0  WP_131833652.1   EV667_RS01940   \n",
       "1                 100_0:000001         100_0  WP_131834425.1   EV667_RS06425   \n",
       "2                 100_0:000002         100_0  WP_131835073.1   EV667_RS07960   \n",
       "3                 100_0:000003         100_0  WP_131834175.1   EV667_RS05015   \n",
       "4                 100_0:000004         100_0  WP_131834578.1   EV667_RS07250   \n",
       "...                        ...           ...             ...             ...   \n",
       "101009655  u_694002_316:000015  u_694002_316  YP_009725308.1  YP_009725308.1   \n",
       "101009656  u_694002_316:000016  u_694002_316  YP_009725309.1  YP_009725309.1   \n",
       "101009657  u_694002_316:000017  u_694002_316  YP_009725310.1  YP_009725310.1   \n",
       "101009658  u_694002_316:000018  u_694002_316  YP_009725311.1  YP_009725311.1   \n",
       "101009659  u_694002_316:000019  u_694002_316  YP_009725312.1  YP_009725312.1   \n",
       "\n",
       "              Genbank                         Annotation  \n",
       "0          A0A4R1I8Y6                   A0A4R1I8Y6_ANCAQ  \n",
       "1          A0A4R1IBT8                   A0A4R1IBT8_ANCAQ  \n",
       "2                 NaN    GNAT family N-acetyltransferase  \n",
       "3          A0A4V2PK40                   A0A4V2PK40_ANCAQ  \n",
       "4          A0A4R1IAQ2  Biopolymer transport protein ExbB  \n",
       "...               ...                                ...  \n",
       "101009655         NaN                                NaN  \n",
       "101009656         NaN                                NaN  \n",
       "101009657         NaN                                NaN  \n",
       "101009658         NaN                                NaN  \n",
       "101009659         NaN                                NaN  \n",
       "\n",
       "[101009660 rows x 6 columns]"
      ]
     },
     "execution_count": 3,
     "metadata": {},
     "output_type": "execute_result"
    }
   ],
   "source": [
    "genes_pd"
   ]
  },
  {
   "cell_type": "code",
   "execution_count": 4,
   "metadata": {},
   "outputs": [
    {
     "data": {
      "text/html": [
       "<div>\n",
       "<style scoped>\n",
       "    .dataframe tbody tr th:only-of-type {\n",
       "        vertical-align: middle;\n",
       "    }\n",
       "\n",
       "    .dataframe tbody tr th {\n",
       "        vertical-align: top;\n",
       "    }\n",
       "\n",
       "    .dataframe thead th {\n",
       "        text-align: right;\n",
       "    }\n",
       "</style>\n",
       "<table border=\"1\" class=\"dataframe\">\n",
       "  <thead>\n",
       "    <tr style=\"text-align: right;\">\n",
       "      <th></th>\n",
       "      <th>Orthogroup</th>\n",
       "      <th>Gene</th>\n",
       "      <th>Species</th>\n",
       "    </tr>\n",
       "  </thead>\n",
       "  <tbody>\n",
       "    <tr>\n",
       "      <th>0</th>\n",
       "      <td>0at31932</td>\n",
       "      <td>1001994_1:00009e</td>\n",
       "      <td>1001994</td>\n",
       "    </tr>\n",
       "    <tr>\n",
       "      <th>1</th>\n",
       "      <td>0at31932</td>\n",
       "      <td>1470066_1:0004e4</td>\n",
       "      <td>1470066</td>\n",
       "    </tr>\n",
       "    <tr>\n",
       "      <th>2</th>\n",
       "      <td>0at31932</td>\n",
       "      <td>1580092_1:0006c0</td>\n",
       "      <td>1580092</td>\n",
       "    </tr>\n",
       "    <tr>\n",
       "      <th>3</th>\n",
       "      <td>0at31932</td>\n",
       "      <td>1582439_1:0003c8</td>\n",
       "      <td>1582439</td>\n",
       "    </tr>\n",
       "    <tr>\n",
       "      <th>4</th>\n",
       "      <td>0at31932</td>\n",
       "      <td>1776294_1:0005c6</td>\n",
       "      <td>1776294</td>\n",
       "    </tr>\n",
       "    <tr>\n",
       "      <th>...</th>\n",
       "      <td>...</td>\n",
       "      <td>...</td>\n",
       "      <td>...</td>\n",
       "    </tr>\n",
       "    <tr>\n",
       "      <th>4805413</th>\n",
       "      <td>9at31932</td>\n",
       "      <td>1229909_1:000501</td>\n",
       "      <td>1229909</td>\n",
       "    </tr>\n",
       "    <tr>\n",
       "      <th>4805414</th>\n",
       "      <td>9at31932</td>\n",
       "      <td>1470067_1:000688</td>\n",
       "      <td>1470067</td>\n",
       "    </tr>\n",
       "    <tr>\n",
       "      <th>4805415</th>\n",
       "      <td>9at31932</td>\n",
       "      <td>1582439_1:000436</td>\n",
       "      <td>1582439</td>\n",
       "    </tr>\n",
       "    <tr>\n",
       "      <th>4805416</th>\n",
       "      <td>9at31932</td>\n",
       "      <td>436308_1:0000c6</td>\n",
       "      <td>436308</td>\n",
       "    </tr>\n",
       "    <tr>\n",
       "      <th>4805417</th>\n",
       "      <td>9at31932</td>\n",
       "      <td>718286_1:00017a</td>\n",
       "      <td>718286</td>\n",
       "    </tr>\n",
       "  </tbody>\n",
       "</table>\n",
       "<p>4805418 rows × 3 columns</p>\n",
       "</div>"
      ],
      "text/plain": [
       "        Orthogroup              Gene  Species\n",
       "0         0at31932  1001994_1:00009e  1001994\n",
       "1         0at31932  1470066_1:0004e4  1470066\n",
       "2         0at31932  1580092_1:0006c0  1580092\n",
       "3         0at31932  1582439_1:0003c8  1582439\n",
       "4         0at31932  1776294_1:0005c6  1776294\n",
       "...            ...               ...      ...\n",
       "4805413   9at31932  1229909_1:000501  1229909\n",
       "4805414   9at31932  1470067_1:000688  1470067\n",
       "4805415   9at31932  1582439_1:000436  1582439\n",
       "4805416   9at31932   436308_1:0000c6   436308\n",
       "4805417   9at31932   718286_1:00017a   718286\n",
       "\n",
       "[4805418 rows x 3 columns]"
      ]
     },
     "execution_count": 4,
     "metadata": {},
     "output_type": "execute_result"
    }
   ],
   "source": [
    "og2genes_pd"
   ]
  },
  {
   "cell_type": "code",
   "execution_count": 5,
   "metadata": {},
   "outputs": [
    {
     "data": {
      "text/plain": [
       "0     31932\n",
       "1     31932\n",
       "2     31932\n",
       "3     31932\n",
       "4     31932\n",
       "      ...  \n",
       "95     3193\n",
       "96     3193\n",
       "97     3193\n",
       "98     3193\n",
       "99     3193\n",
       "Name: Orthogroup, Length: 100, dtype: object"
      ]
     },
     "execution_count": 5,
     "metadata": {},
     "output_type": "execute_result"
    }
   ],
   "source": [
    "og2genes_pd['Orthogroup'][:100].str.split('t').str[1]"
   ]
  },
  {
   "cell_type": "code",
   "execution_count": 6,
   "metadata": {},
   "outputs": [],
   "source": [
    "og2genes_pd['Ortholevel'] = og2genes_pd['Orthogroup'].str.split('t').str[1]"
   ]
  },
  {
   "cell_type": "code",
   "execution_count": 7,
   "metadata": {},
   "outputs": [
    {
     "data": {
      "text/html": [
       "<div>\n",
       "<style scoped>\n",
       "    .dataframe tbody tr th:only-of-type {\n",
       "        vertical-align: middle;\n",
       "    }\n",
       "\n",
       "    .dataframe tbody tr th {\n",
       "        vertical-align: top;\n",
       "    }\n",
       "\n",
       "    .dataframe thead th {\n",
       "        text-align: right;\n",
       "    }\n",
       "</style>\n",
       "<table border=\"1\" class=\"dataframe\">\n",
       "  <thead>\n",
       "    <tr style=\"text-align: right;\">\n",
       "      <th></th>\n",
       "      <th>Orthogroup</th>\n",
       "      <th>Gene</th>\n",
       "      <th>Species</th>\n",
       "      <th>Ortholevel</th>\n",
       "    </tr>\n",
       "  </thead>\n",
       "  <tbody>\n",
       "    <tr>\n",
       "      <th>0</th>\n",
       "      <td>0at31932</td>\n",
       "      <td>1001994_1:00009e</td>\n",
       "      <td>1001994</td>\n",
       "      <td>31932</td>\n",
       "    </tr>\n",
       "    <tr>\n",
       "      <th>1</th>\n",
       "      <td>0at31932</td>\n",
       "      <td>1470066_1:0004e4</td>\n",
       "      <td>1470066</td>\n",
       "      <td>31932</td>\n",
       "    </tr>\n",
       "    <tr>\n",
       "      <th>2</th>\n",
       "      <td>0at31932</td>\n",
       "      <td>1580092_1:0006c0</td>\n",
       "      <td>1580092</td>\n",
       "      <td>31932</td>\n",
       "    </tr>\n",
       "    <tr>\n",
       "      <th>3</th>\n",
       "      <td>0at31932</td>\n",
       "      <td>1582439_1:0003c8</td>\n",
       "      <td>1582439</td>\n",
       "      <td>31932</td>\n",
       "    </tr>\n",
       "    <tr>\n",
       "      <th>4</th>\n",
       "      <td>0at31932</td>\n",
       "      <td>1776294_1:0005c6</td>\n",
       "      <td>1776294</td>\n",
       "      <td>31932</td>\n",
       "    </tr>\n",
       "    <tr>\n",
       "      <th>...</th>\n",
       "      <td>...</td>\n",
       "      <td>...</td>\n",
       "      <td>...</td>\n",
       "      <td>...</td>\n",
       "    </tr>\n",
       "    <tr>\n",
       "      <th>4805413</th>\n",
       "      <td>9at31932</td>\n",
       "      <td>1229909_1:000501</td>\n",
       "      <td>1229909</td>\n",
       "      <td>31932</td>\n",
       "    </tr>\n",
       "    <tr>\n",
       "      <th>4805414</th>\n",
       "      <td>9at31932</td>\n",
       "      <td>1470067_1:000688</td>\n",
       "      <td>1470067</td>\n",
       "      <td>31932</td>\n",
       "    </tr>\n",
       "    <tr>\n",
       "      <th>4805415</th>\n",
       "      <td>9at31932</td>\n",
       "      <td>1582439_1:000436</td>\n",
       "      <td>1582439</td>\n",
       "      <td>31932</td>\n",
       "    </tr>\n",
       "    <tr>\n",
       "      <th>4805416</th>\n",
       "      <td>9at31932</td>\n",
       "      <td>436308_1:0000c6</td>\n",
       "      <td>436308</td>\n",
       "      <td>31932</td>\n",
       "    </tr>\n",
       "    <tr>\n",
       "      <th>4805417</th>\n",
       "      <td>9at31932</td>\n",
       "      <td>718286_1:00017a</td>\n",
       "      <td>718286</td>\n",
       "      <td>31932</td>\n",
       "    </tr>\n",
       "  </tbody>\n",
       "</table>\n",
       "<p>4805418 rows × 4 columns</p>\n",
       "</div>"
      ],
      "text/plain": [
       "        Orthogroup              Gene  Species Ortholevel\n",
       "0         0at31932  1001994_1:00009e  1001994      31932\n",
       "1         0at31932  1470066_1:0004e4  1470066      31932\n",
       "2         0at31932  1580092_1:0006c0  1580092      31932\n",
       "3         0at31932  1582439_1:0003c8  1582439      31932\n",
       "4         0at31932  1776294_1:0005c6  1776294      31932\n",
       "...            ...               ...      ...        ...\n",
       "4805413   9at31932  1229909_1:000501  1229909      31932\n",
       "4805414   9at31932  1470067_1:000688  1470067      31932\n",
       "4805415   9at31932  1582439_1:000436  1582439      31932\n",
       "4805416   9at31932   436308_1:0000c6   436308      31932\n",
       "4805417   9at31932   718286_1:00017a   718286      31932\n",
       "\n",
       "[4805418 rows x 4 columns]"
      ]
     },
     "execution_count": 7,
     "metadata": {},
     "output_type": "execute_result"
    }
   ],
   "source": [
    "og2genes_pd"
   ]
  },
  {
   "cell_type": "code",
   "execution_count": 12,
   "metadata": {},
   "outputs": [
    {
     "data": {
      "text/plain": [
       "[4530,\n",
       " 39947,\n",
       " 3750,\n",
       " 4558,\n",
       " 4577,\n",
       " 29760,\n",
       " 3711,\n",
       " 3847,\n",
       " 3880,\n",
       " 4097,\n",
       " 4113,\n",
       " 4081,\n",
       " 3702,\n",
       " 3818,\n",
       " 4565,\n",
       " 3659,\n",
       " 1753,\n",
       " 15368]"
      ]
     },
     "execution_count": 12,
     "metadata": {},
     "output_type": "execute_result"
    }
   ],
   "source": [
    "species_with_nets = pd.read_csv('/data/passala/Generated_Tables/Reference_tables/Species_name_resolver.csv')\n",
    "species_with_nets = species_with_nets[:18]\n",
    "# # species_with_nets = species_with_nets.drop(index = [13,14])\n",
    "# # species_with_nets.loc[0,'Taxa ID'] = 39947 \n",
    "taxa_to_keep = species_with_nets['Taxa ID'].to_list()\n",
    "taxa_to_keep"
   ]
  },
  {
   "cell_type": "code",
   "execution_count": 13,
   "metadata": {},
   "outputs": [
    {
     "data": {
      "text/html": [
       "<div>\n",
       "<style scoped>\n",
       "    .dataframe tbody tr th:only-of-type {\n",
       "        vertical-align: middle;\n",
       "    }\n",
       "\n",
       "    .dataframe tbody tr th {\n",
       "        vertical-align: top;\n",
       "    }\n",
       "\n",
       "    .dataframe thead th {\n",
       "        text-align: right;\n",
       "    }\n",
       "</style>\n",
       "<table border=\"1\" class=\"dataframe\">\n",
       "  <thead>\n",
       "    <tr style=\"text-align: right;\">\n",
       "      <th></th>\n",
       "      <th>Species</th>\n",
       "      <th>Taxa ID</th>\n",
       "      <th>Common Name</th>\n",
       "    </tr>\n",
       "  </thead>\n",
       "  <tbody>\n",
       "    <tr>\n",
       "      <th>0</th>\n",
       "      <td>Oryza sativa</td>\n",
       "      <td>4530</td>\n",
       "      <td>rice</td>\n",
       "    </tr>\n",
       "    <tr>\n",
       "      <th>1</th>\n",
       "      <td>Oryza sativa japonica</td>\n",
       "      <td>39947</td>\n",
       "      <td>rice_jp</td>\n",
       "    </tr>\n",
       "    <tr>\n",
       "      <th>2</th>\n",
       "      <td>Malus domestica</td>\n",
       "      <td>3750</td>\n",
       "      <td>apple</td>\n",
       "    </tr>\n",
       "    <tr>\n",
       "      <th>3</th>\n",
       "      <td>Sorghum bicolor</td>\n",
       "      <td>4558</td>\n",
       "      <td>sorghum</td>\n",
       "    </tr>\n",
       "    <tr>\n",
       "      <th>4</th>\n",
       "      <td>Zea mays</td>\n",
       "      <td>4577</td>\n",
       "      <td>maize</td>\n",
       "    </tr>\n",
       "    <tr>\n",
       "      <th>5</th>\n",
       "      <td>Vitis vinifera</td>\n",
       "      <td>29760</td>\n",
       "      <td>grape</td>\n",
       "    </tr>\n",
       "    <tr>\n",
       "      <th>6</th>\n",
       "      <td>Brassica rapa</td>\n",
       "      <td>3711</td>\n",
       "      <td>mustard</td>\n",
       "    </tr>\n",
       "    <tr>\n",
       "      <th>7</th>\n",
       "      <td>Glycine max</td>\n",
       "      <td>3847</td>\n",
       "      <td>soybean</td>\n",
       "    </tr>\n",
       "    <tr>\n",
       "      <th>8</th>\n",
       "      <td>Medicago truncatula</td>\n",
       "      <td>3880</td>\n",
       "      <td>medicago</td>\n",
       "    </tr>\n",
       "    <tr>\n",
       "      <th>9</th>\n",
       "      <td>Nicotiana tabacum</td>\n",
       "      <td>4097</td>\n",
       "      <td>tobacco</td>\n",
       "    </tr>\n",
       "    <tr>\n",
       "      <th>10</th>\n",
       "      <td>Solanum tuberosum</td>\n",
       "      <td>4113</td>\n",
       "      <td>potato</td>\n",
       "    </tr>\n",
       "    <tr>\n",
       "      <th>11</th>\n",
       "      <td>Solanum lycopersicum</td>\n",
       "      <td>4081</td>\n",
       "      <td>tomato</td>\n",
       "    </tr>\n",
       "    <tr>\n",
       "      <th>12</th>\n",
       "      <td>Arabidopsis thaliana</td>\n",
       "      <td>3702</td>\n",
       "      <td>arabidopsis</td>\n",
       "    </tr>\n",
       "    <tr>\n",
       "      <th>13</th>\n",
       "      <td>Arachis hypogaea</td>\n",
       "      <td>3818</td>\n",
       "      <td>peanut</td>\n",
       "    </tr>\n",
       "    <tr>\n",
       "      <th>14</th>\n",
       "      <td>Triticum aestivum</td>\n",
       "      <td>4565</td>\n",
       "      <td>wheat</td>\n",
       "    </tr>\n",
       "    <tr>\n",
       "      <th>15</th>\n",
       "      <td>Cucumis sativus</td>\n",
       "      <td>3659</td>\n",
       "      <td>cucumber</td>\n",
       "    </tr>\n",
       "    <tr>\n",
       "      <th>16</th>\n",
       "      <td>Brassica napus</td>\n",
       "      <td>1753</td>\n",
       "      <td>rapeseed</td>\n",
       "    </tr>\n",
       "    <tr>\n",
       "      <th>17</th>\n",
       "      <td>Brachypodium distachyon</td>\n",
       "      <td>15368</td>\n",
       "      <td>brome</td>\n",
       "    </tr>\n",
       "  </tbody>\n",
       "</table>\n",
       "</div>"
      ],
      "text/plain": [
       "                    Species  Taxa ID  Common Name\n",
       "0              Oryza sativa     4530         rice\n",
       "1     Oryza sativa japonica    39947      rice_jp\n",
       "2           Malus domestica     3750        apple\n",
       "3           Sorghum bicolor     4558      sorghum\n",
       "4                  Zea mays     4577        maize\n",
       "5            Vitis vinifera    29760        grape\n",
       "6             Brassica rapa     3711      mustard\n",
       "7               Glycine max     3847      soybean\n",
       "8       Medicago truncatula     3880     medicago\n",
       "9         Nicotiana tabacum     4097      tobacco\n",
       "10        Solanum tuberosum     4113       potato\n",
       "11     Solanum lycopersicum     4081       tomato\n",
       "12     Arabidopsis thaliana     3702  arabidopsis\n",
       "13         Arachis hypogaea     3818       peanut\n",
       "14        Triticum aestivum     4565        wheat\n",
       "15          Cucumis sativus     3659     cucumber\n",
       "16           Brassica napus     1753     rapeseed\n",
       "17  Brachypodium distachyon    15368        brome"
      ]
     },
     "execution_count": 13,
     "metadata": {},
     "output_type": "execute_result"
    }
   ],
   "source": [
    "species_with_nets"
   ]
  },
  {
   "cell_type": "code",
   "execution_count": 14,
   "metadata": {},
   "outputs": [
    {
     "data": {
      "text/plain": [
       "0          1001994\n",
       "1          1470066\n",
       "2          1580092\n",
       "3          1582439\n",
       "4          1776294\n",
       "            ...   \n",
       "4805413    1229909\n",
       "4805414    1470067\n",
       "4805415    1582439\n",
       "4805416     436308\n",
       "4805417     718286\n",
       "Name: Species, Length: 4805418, dtype: int64"
      ]
     },
     "execution_count": 14,
     "metadata": {},
     "output_type": "execute_result"
    }
   ],
   "source": [
    "og2genes_pd['Species']"
   ]
  },
  {
   "cell_type": "code",
   "execution_count": 15,
   "metadata": {},
   "outputs": [
    {
     "data": {
      "text/html": [
       "<div>\n",
       "<style scoped>\n",
       "    .dataframe tbody tr th:only-of-type {\n",
       "        vertical-align: middle;\n",
       "    }\n",
       "\n",
       "    .dataframe tbody tr th {\n",
       "        vertical-align: top;\n",
       "    }\n",
       "\n",
       "    .dataframe thead th {\n",
       "        text-align: right;\n",
       "    }\n",
       "</style>\n",
       "<table border=\"1\" class=\"dataframe\">\n",
       "  <thead>\n",
       "    <tr style=\"text-align: right;\">\n",
       "      <th></th>\n",
       "      <th>Orthogroup</th>\n",
       "      <th>Gene</th>\n",
       "      <th>Species</th>\n",
       "      <th>Ortholevel</th>\n",
       "    </tr>\n",
       "  </thead>\n",
       "  <tbody>\n",
       "    <tr>\n",
       "      <th>11</th>\n",
       "      <td>100005at3193</td>\n",
       "      <td>4565_0:00798a</td>\n",
       "      <td>4565</td>\n",
       "      <td>3193</td>\n",
       "    </tr>\n",
       "    <tr>\n",
       "      <th>12</th>\n",
       "      <td>100005at3193</td>\n",
       "      <td>4565_0:015510</td>\n",
       "      <td>4565</td>\n",
       "      <td>3193</td>\n",
       "    </tr>\n",
       "    <tr>\n",
       "      <th>17</th>\n",
       "      <td>100007at3193</td>\n",
       "      <td>4558_0:003a4f</td>\n",
       "      <td>4558</td>\n",
       "      <td>3193</td>\n",
       "    </tr>\n",
       "    <tr>\n",
       "      <th>18</th>\n",
       "      <td>100007at3193</td>\n",
       "      <td>4577_0:004254</td>\n",
       "      <td>4577</td>\n",
       "      <td>3193</td>\n",
       "    </tr>\n",
       "    <tr>\n",
       "      <th>19</th>\n",
       "      <td>100007at3193</td>\n",
       "      <td>4577_0:004e43</td>\n",
       "      <td>4577</td>\n",
       "      <td>3193</td>\n",
       "    </tr>\n",
       "    <tr>\n",
       "      <th>...</th>\n",
       "      <td>...</td>\n",
       "      <td>...</td>\n",
       "      <td>...</td>\n",
       "      <td>...</td>\n",
       "    </tr>\n",
       "    <tr>\n",
       "      <th>4805401</th>\n",
       "      <td>99963at3193</td>\n",
       "      <td>4565_0:011cad</td>\n",
       "      <td>4565</td>\n",
       "      <td>3193</td>\n",
       "    </tr>\n",
       "    <tr>\n",
       "      <th>4805404</th>\n",
       "      <td>99972at3193</td>\n",
       "      <td>4565_0:00a52c</td>\n",
       "      <td>4565</td>\n",
       "      <td>3193</td>\n",
       "    </tr>\n",
       "    <tr>\n",
       "      <th>4805408</th>\n",
       "      <td>99999at3193</td>\n",
       "      <td>39947_0:006fc4</td>\n",
       "      <td>39947</td>\n",
       "      <td>3193</td>\n",
       "    </tr>\n",
       "    <tr>\n",
       "      <th>4805410</th>\n",
       "      <td>99999at3193</td>\n",
       "      <td>4577_0:0084a4</td>\n",
       "      <td>4577</td>\n",
       "      <td>3193</td>\n",
       "    </tr>\n",
       "    <tr>\n",
       "      <th>4805411</th>\n",
       "      <td>99999at3193</td>\n",
       "      <td>4577_0:008539</td>\n",
       "      <td>4577</td>\n",
       "      <td>3193</td>\n",
       "    </tr>\n",
       "  </tbody>\n",
       "</table>\n",
       "<p>605128 rows × 4 columns</p>\n",
       "</div>"
      ],
      "text/plain": [
       "           Orthogroup            Gene  Species Ortholevel\n",
       "11       100005at3193   4565_0:00798a     4565       3193\n",
       "12       100005at3193   4565_0:015510     4565       3193\n",
       "17       100007at3193   4558_0:003a4f     4558       3193\n",
       "18       100007at3193   4577_0:004254     4577       3193\n",
       "19       100007at3193   4577_0:004e43     4577       3193\n",
       "...               ...             ...      ...        ...\n",
       "4805401   99963at3193   4565_0:011cad     4565       3193\n",
       "4805404   99972at3193   4565_0:00a52c     4565       3193\n",
       "4805408   99999at3193  39947_0:006fc4    39947       3193\n",
       "4805410   99999at3193   4577_0:0084a4     4577       3193\n",
       "4805411   99999at3193   4577_0:008539     4577       3193\n",
       "\n",
       "[605128 rows x 4 columns]"
      ]
     },
     "execution_count": 15,
     "metadata": {},
     "output_type": "execute_result"
    }
   ],
   "source": [
    "og2genes_only_cococonet = og2genes_pd.loc[og2genes_pd['Species'].isin(taxa_to_keep)]\n",
    "og2genes_only_cococonet"
   ]
  },
  {
   "cell_type": "code",
   "execution_count": 16,
   "metadata": {},
   "outputs": [
    {
     "data": {
      "text/html": [
       "<div>\n",
       "<style scoped>\n",
       "    .dataframe tbody tr th:only-of-type {\n",
       "        vertical-align: middle;\n",
       "    }\n",
       "\n",
       "    .dataframe tbody tr th {\n",
       "        vertical-align: top;\n",
       "    }\n",
       "\n",
       "    .dataframe thead th {\n",
       "        text-align: right;\n",
       "    }\n",
       "</style>\n",
       "<table border=\"1\" class=\"dataframe\">\n",
       "  <thead>\n",
       "    <tr style=\"text-align: right;\">\n",
       "      <th></th>\n",
       "      <th>Species</th>\n",
       "      <th>Taxa ID</th>\n",
       "      <th>Common Name</th>\n",
       "    </tr>\n",
       "  </thead>\n",
       "  <tbody>\n",
       "    <tr>\n",
       "      <th>1</th>\n",
       "      <td>Oryza sativa japonica</td>\n",
       "      <td>39947</td>\n",
       "      <td>rice_jp</td>\n",
       "    </tr>\n",
       "    <tr>\n",
       "      <th>2</th>\n",
       "      <td>Malus domestica</td>\n",
       "      <td>3750</td>\n",
       "      <td>apple</td>\n",
       "    </tr>\n",
       "    <tr>\n",
       "      <th>3</th>\n",
       "      <td>Sorghum bicolor</td>\n",
       "      <td>4558</td>\n",
       "      <td>sorghum</td>\n",
       "    </tr>\n",
       "    <tr>\n",
       "      <th>4</th>\n",
       "      <td>Zea mays</td>\n",
       "      <td>4577</td>\n",
       "      <td>maize</td>\n",
       "    </tr>\n",
       "    <tr>\n",
       "      <th>5</th>\n",
       "      <td>Vitis vinifera</td>\n",
       "      <td>29760</td>\n",
       "      <td>grape</td>\n",
       "    </tr>\n",
       "    <tr>\n",
       "      <th>6</th>\n",
       "      <td>Brassica rapa</td>\n",
       "      <td>3711</td>\n",
       "      <td>mustard</td>\n",
       "    </tr>\n",
       "    <tr>\n",
       "      <th>7</th>\n",
       "      <td>Glycine max</td>\n",
       "      <td>3847</td>\n",
       "      <td>soybean</td>\n",
       "    </tr>\n",
       "    <tr>\n",
       "      <th>8</th>\n",
       "      <td>Medicago truncatula</td>\n",
       "      <td>3880</td>\n",
       "      <td>medicago</td>\n",
       "    </tr>\n",
       "    <tr>\n",
       "      <th>9</th>\n",
       "      <td>Nicotiana tabacum</td>\n",
       "      <td>4097</td>\n",
       "      <td>tobacco</td>\n",
       "    </tr>\n",
       "    <tr>\n",
       "      <th>10</th>\n",
       "      <td>Solanum tuberosum</td>\n",
       "      <td>4113</td>\n",
       "      <td>potato</td>\n",
       "    </tr>\n",
       "    <tr>\n",
       "      <th>11</th>\n",
       "      <td>Solanum lycopersicum</td>\n",
       "      <td>4081</td>\n",
       "      <td>tomato</td>\n",
       "    </tr>\n",
       "    <tr>\n",
       "      <th>12</th>\n",
       "      <td>Arabidopsis thaliana</td>\n",
       "      <td>3702</td>\n",
       "      <td>arabidopsis</td>\n",
       "    </tr>\n",
       "    <tr>\n",
       "      <th>13</th>\n",
       "      <td>Arachis hypogaea</td>\n",
       "      <td>3818</td>\n",
       "      <td>peanut</td>\n",
       "    </tr>\n",
       "    <tr>\n",
       "      <th>14</th>\n",
       "      <td>Triticum aestivum</td>\n",
       "      <td>4565</td>\n",
       "      <td>wheat</td>\n",
       "    </tr>\n",
       "    <tr>\n",
       "      <th>15</th>\n",
       "      <td>Cucumis sativus</td>\n",
       "      <td>3659</td>\n",
       "      <td>cucumber</td>\n",
       "    </tr>\n",
       "    <tr>\n",
       "      <th>17</th>\n",
       "      <td>Brachypodium distachyon</td>\n",
       "      <td>15368</td>\n",
       "      <td>brome</td>\n",
       "    </tr>\n",
       "  </tbody>\n",
       "</table>\n",
       "</div>"
      ],
      "text/plain": [
       "                    Species  Taxa ID  Common Name\n",
       "1     Oryza sativa japonica    39947      rice_jp\n",
       "2           Malus domestica     3750        apple\n",
       "3           Sorghum bicolor     4558      sorghum\n",
       "4                  Zea mays     4577        maize\n",
       "5            Vitis vinifera    29760        grape\n",
       "6             Brassica rapa     3711      mustard\n",
       "7               Glycine max     3847      soybean\n",
       "8       Medicago truncatula     3880     medicago\n",
       "9         Nicotiana tabacum     4097      tobacco\n",
       "10        Solanum tuberosum     4113       potato\n",
       "11     Solanum lycopersicum     4081       tomato\n",
       "12     Arabidopsis thaliana     3702  arabidopsis\n",
       "13         Arachis hypogaea     3818       peanut\n",
       "14        Triticum aestivum     4565        wheat\n",
       "15          Cucumis sativus     3659     cucumber\n",
       "17  Brachypodium distachyon    15368        brome"
      ]
     },
     "execution_count": 16,
     "metadata": {},
     "output_type": "execute_result"
    }
   ],
   "source": [
    "groups_present = og2genes_only_cococonet['Species'].unique()\n",
    "species_with_nets.loc[species_with_nets['Taxa ID'].isin(groups_present)]"
   ]
  },
  {
   "cell_type": "code",
   "execution_count": null,
   "metadata": {},
   "outputs": [],
   "source": []
  },
  {
   "cell_type": "code",
   "execution_count": 17,
   "metadata": {},
   "outputs": [
    {
     "data": {
      "text/html": [
       "<div>\n",
       "<style scoped>\n",
       "    .dataframe tbody tr th:only-of-type {\n",
       "        vertical-align: middle;\n",
       "    }\n",
       "\n",
       "    .dataframe tbody tr th {\n",
       "        vertical-align: top;\n",
       "    }\n",
       "\n",
       "    .dataframe thead th {\n",
       "        text-align: right;\n",
       "    }\n",
       "</style>\n",
       "<table border=\"1\" class=\"dataframe\">\n",
       "  <thead>\n",
       "    <tr style=\"text-align: right;\">\n",
       "      <th></th>\n",
       "      <th>Orthogroup</th>\n",
       "      <th>Gene</th>\n",
       "      <th>Species</th>\n",
       "      <th>Ortholevel</th>\n",
       "    </tr>\n",
       "  </thead>\n",
       "  <tbody>\n",
       "    <tr>\n",
       "      <th>11</th>\n",
       "      <td>100005at3193</td>\n",
       "      <td>4565_0:00798a</td>\n",
       "      <td>4565</td>\n",
       "      <td>3193</td>\n",
       "    </tr>\n",
       "    <tr>\n",
       "      <th>12</th>\n",
       "      <td>100005at3193</td>\n",
       "      <td>4565_0:015510</td>\n",
       "      <td>4565</td>\n",
       "      <td>3193</td>\n",
       "    </tr>\n",
       "    <tr>\n",
       "      <th>17</th>\n",
       "      <td>100007at3193</td>\n",
       "      <td>4558_0:003a4f</td>\n",
       "      <td>4558</td>\n",
       "      <td>3193</td>\n",
       "    </tr>\n",
       "    <tr>\n",
       "      <th>18</th>\n",
       "      <td>100007at3193</td>\n",
       "      <td>4577_0:004254</td>\n",
       "      <td>4577</td>\n",
       "      <td>3193</td>\n",
       "    </tr>\n",
       "    <tr>\n",
       "      <th>19</th>\n",
       "      <td>100007at3193</td>\n",
       "      <td>4577_0:004e43</td>\n",
       "      <td>4577</td>\n",
       "      <td>3193</td>\n",
       "    </tr>\n",
       "    <tr>\n",
       "      <th>...</th>\n",
       "      <td>...</td>\n",
       "      <td>...</td>\n",
       "      <td>...</td>\n",
       "      <td>...</td>\n",
       "    </tr>\n",
       "    <tr>\n",
       "      <th>4805401</th>\n",
       "      <td>99963at3193</td>\n",
       "      <td>4565_0:011cad</td>\n",
       "      <td>4565</td>\n",
       "      <td>3193</td>\n",
       "    </tr>\n",
       "    <tr>\n",
       "      <th>4805404</th>\n",
       "      <td>99972at3193</td>\n",
       "      <td>4565_0:00a52c</td>\n",
       "      <td>4565</td>\n",
       "      <td>3193</td>\n",
       "    </tr>\n",
       "    <tr>\n",
       "      <th>4805408</th>\n",
       "      <td>99999at3193</td>\n",
       "      <td>39947_0:006fc4</td>\n",
       "      <td>39947</td>\n",
       "      <td>3193</td>\n",
       "    </tr>\n",
       "    <tr>\n",
       "      <th>4805410</th>\n",
       "      <td>99999at3193</td>\n",
       "      <td>4577_0:0084a4</td>\n",
       "      <td>4577</td>\n",
       "      <td>3193</td>\n",
       "    </tr>\n",
       "    <tr>\n",
       "      <th>4805411</th>\n",
       "      <td>99999at3193</td>\n",
       "      <td>4577_0:008539</td>\n",
       "      <td>4577</td>\n",
       "      <td>3193</td>\n",
       "    </tr>\n",
       "  </tbody>\n",
       "</table>\n",
       "<p>605128 rows × 4 columns</p>\n",
       "</div>"
      ],
      "text/plain": [
       "           Orthogroup            Gene  Species Ortholevel\n",
       "11       100005at3193   4565_0:00798a     4565       3193\n",
       "12       100005at3193   4565_0:015510     4565       3193\n",
       "17       100007at3193   4558_0:003a4f     4558       3193\n",
       "18       100007at3193   4577_0:004254     4577       3193\n",
       "19       100007at3193   4577_0:004e43     4577       3193\n",
       "...               ...             ...      ...        ...\n",
       "4805401   99963at3193   4565_0:011cad     4565       3193\n",
       "4805404   99972at3193   4565_0:00a52c     4565       3193\n",
       "4805408   99999at3193  39947_0:006fc4    39947       3193\n",
       "4805410   99999at3193   4577_0:0084a4     4577       3193\n",
       "4805411   99999at3193   4577_0:008539     4577       3193\n",
       "\n",
       "[605128 rows x 4 columns]"
      ]
     },
     "execution_count": 17,
     "metadata": {},
     "output_type": "execute_result"
    }
   ],
   "source": [
    "og2genes_only_cococonet"
   ]
  },
  {
   "cell_type": "code",
   "execution_count": 29,
   "metadata": {},
   "outputs": [],
   "source": [
    "species_to_run_on = species_with_nets['Taxa ID'].loc[species_with_nets['Taxa ID'].isin(groups_present)].to_list()"
   ]
  },
  {
   "cell_type": "code",
   "execution_count": 30,
   "metadata": {},
   "outputs": [
    {
     "data": {
      "text/plain": [
       "[39947,\n",
       " 3750,\n",
       " 4558,\n",
       " 4577,\n",
       " 29760,\n",
       " 3711,\n",
       " 3847,\n",
       " 3880,\n",
       " 4097,\n",
       " 4113,\n",
       " 4081,\n",
       " 3702,\n",
       " 3818,\n",
       " 4565,\n",
       " 3659,\n",
       " 15368]"
      ]
     },
     "execution_count": 30,
     "metadata": {},
     "output_type": "execute_result"
    }
   ],
   "source": [
    "species_to_run_on"
   ]
  },
  {
   "cell_type": "code",
   "execution_count": 31,
   "metadata": {},
   "outputs": [
    {
     "data": {
      "text/plain": [
       "120"
      ]
     },
     "execution_count": 31,
     "metadata": {},
     "output_type": "execute_result"
    }
   ],
   "source": [
    "species_combinations = list(itertools.combinations(species_to_run_on,2))\n",
    "len(species_combinations)"
   ]
  },
  {
   "cell_type": "code",
   "execution_count": 43,
   "metadata": {},
   "outputs": [
    {
     "data": {
      "application/vnd.jupyter.widget-view+json": {
       "model_id": "2ffdde31fb0c4f6db90b2753ea2cf9bf",
       "version_major": 2,
       "version_minor": 0
      },
      "text/plain": [
       "outer:   0%|          | 0/120 [00:00<?, ?it/s]"
      ]
     },
     "metadata": {},
     "output_type": "display_data"
    },
    {
     "data": {
      "application/vnd.jupyter.widget-view+json": {
       "model_id": "e4be6364be54465bb94c0a7f74d03d21",
       "version_major": 2,
       "version_minor": 0
      },
      "text/plain": [
       "inner_loop:   0%|          | 0/10045 [00:00<?, ?it/s]"
      ]
     },
     "metadata": {},
     "output_type": "display_data"
    },
    {
     "data": {
      "application/vnd.jupyter.widget-view+json": {
       "model_id": "abe85220e1594efd9bb03cef4706941f",
       "version_major": 2,
       "version_minor": 0
      },
      "text/plain": [
       "inner_loop:   0%|          | 0/13681 [00:00<?, ?it/s]"
      ]
     },
     "metadata": {},
     "output_type": "display_data"
    },
    {
     "data": {
      "application/vnd.jupyter.widget-view+json": {
       "model_id": "3165ce6ce736411a9ed6ebc9e33ea087",
       "version_major": 2,
       "version_minor": 0
      },
      "text/plain": [
       "inner_loop:   0%|          | 0/12916 [00:00<?, ?it/s]"
      ]
     },
     "metadata": {},
     "output_type": "display_data"
    },
    {
     "data": {
      "application/vnd.jupyter.widget-view+json": {
       "model_id": "cbcf861c419d4d91aefc96e34807eebe",
       "version_major": 2,
       "version_minor": 0
      },
      "text/plain": [
       "inner_loop:   0%|          | 0/10203 [00:00<?, ?it/s]"
      ]
     },
     "metadata": {},
     "output_type": "display_data"
    },
    {
     "data": {
      "application/vnd.jupyter.widget-view+json": {
       "model_id": "90dcb5a687174f5fb0c9ab63f3f691b2",
       "version_major": 2,
       "version_minor": 0
      },
      "text/plain": [
       "inner_loop:   0%|          | 0/9719 [00:00<?, ?it/s]"
      ]
     },
     "metadata": {},
     "output_type": "display_data"
    },
    {
     "data": {
      "application/vnd.jupyter.widget-view+json": {
       "model_id": "e789325612174b368605657e375a1626",
       "version_major": 2,
       "version_minor": 0
      },
      "text/plain": [
       "inner_loop:   0%|          | 0/10106 [00:00<?, ?it/s]"
      ]
     },
     "metadata": {},
     "output_type": "display_data"
    },
    {
     "data": {
      "application/vnd.jupyter.widget-view+json": {
       "model_id": "4af3c2e050f34fe38f924325373c0304",
       "version_major": 2,
       "version_minor": 0
      },
      "text/plain": [
       "inner_loop:   0%|          | 0/10072 [00:00<?, ?it/s]"
      ]
     },
     "metadata": {},
     "output_type": "display_data"
    },
    {
     "data": {
      "application/vnd.jupyter.widget-view+json": {
       "model_id": "681c0e561e554a3d84726699b0f72348",
       "version_major": 2,
       "version_minor": 0
      },
      "text/plain": [
       "inner_loop:   0%|          | 0/10134 [00:00<?, ?it/s]"
      ]
     },
     "metadata": {},
     "output_type": "display_data"
    },
    {
     "data": {
      "application/vnd.jupyter.widget-view+json": {
       "model_id": "262a653a1b454a92a6d0a54a94ca29ca",
       "version_major": 2,
       "version_minor": 0
      },
      "text/plain": [
       "inner_loop:   0%|          | 0/9907 [00:00<?, ?it/s]"
      ]
     },
     "metadata": {},
     "output_type": "display_data"
    },
    {
     "data": {
      "application/vnd.jupyter.widget-view+json": {
       "model_id": "27425a8d6c714f86bd34141be3c447cd",
       "version_major": 2,
       "version_minor": 0
      },
      "text/plain": [
       "inner_loop:   0%|          | 0/9927 [00:00<?, ?it/s]"
      ]
     },
     "metadata": {},
     "output_type": "display_data"
    },
    {
     "data": {
      "application/vnd.jupyter.widget-view+json": {
       "model_id": "8e9132a6afc547e79cceae58bb986e92",
       "version_major": 2,
       "version_minor": 0
      },
      "text/plain": [
       "inner_loop:   0%|          | 0/9747 [00:00<?, ?it/s]"
      ]
     },
     "metadata": {},
     "output_type": "display_data"
    },
    {
     "data": {
      "application/vnd.jupyter.widget-view+json": {
       "model_id": "84265b77b28e496db04233423c772dfe",
       "version_major": 2,
       "version_minor": 0
      },
      "text/plain": [
       "inner_loop:   0%|          | 0/10145 [00:00<?, ?it/s]"
      ]
     },
     "metadata": {},
     "output_type": "display_data"
    },
    {
     "data": {
      "application/vnd.jupyter.widget-view+json": {
       "model_id": "bdccb8d1b4b74844bf84757079aa3777",
       "version_major": 2,
       "version_minor": 0
      },
      "text/plain": [
       "inner_loop:   0%|          | 0/14110 [00:00<?, ?it/s]"
      ]
     },
     "metadata": {},
     "output_type": "display_data"
    },
    {
     "data": {
      "application/vnd.jupyter.widget-view+json": {
       "model_id": "78617fcbf4df4a22ac9b69ec31af1e3f",
       "version_major": 2,
       "version_minor": 0
      },
      "text/plain": [
       "inner_loop:   0%|          | 0/9814 [00:00<?, ?it/s]"
      ]
     },
     "metadata": {},
     "output_type": "display_data"
    },
    {
     "data": {
      "application/vnd.jupyter.widget-view+json": {
       "model_id": "4151233268dc4583aba37955477b9c3d",
       "version_major": 2,
       "version_minor": 0
      },
      "text/plain": [
       "inner_loop:   0%|          | 0/13319 [00:00<?, ?it/s]"
      ]
     },
     "metadata": {},
     "output_type": "display_data"
    },
    {
     "data": {
      "application/vnd.jupyter.widget-view+json": {
       "model_id": "357b29af0b9147b293a9945aca3b68f9",
       "version_major": 2,
       "version_minor": 0
      },
      "text/plain": [
       "inner_loop:   0%|          | 0/10048 [00:00<?, ?it/s]"
      ]
     },
     "metadata": {},
     "output_type": "display_data"
    },
    {
     "data": {
      "application/vnd.jupyter.widget-view+json": {
       "model_id": "9cbe3280c6484a2886b8ea6927eb0c64",
       "version_major": 2,
       "version_minor": 0
      },
      "text/plain": [
       "inner_loop:   0%|          | 0/9920 [00:00<?, ?it/s]"
      ]
     },
     "metadata": {},
     "output_type": "display_data"
    },
    {
     "data": {
      "application/vnd.jupyter.widget-view+json": {
       "model_id": "12ecba8ed26e492a97090e4701c3c2f2",
       "version_major": 2,
       "version_minor": 0
      },
      "text/plain": [
       "inner_loop:   0%|          | 0/11567 [00:00<?, ?it/s]"
      ]
     },
     "metadata": {},
     "output_type": "display_data"
    },
    {
     "data": {
      "application/vnd.jupyter.widget-view+json": {
       "model_id": "face420b9a744f2794f4ecf5e56cb12a",
       "version_major": 2,
       "version_minor": 0
      },
      "text/plain": [
       "inner_loop:   0%|          | 0/10730 [00:00<?, ?it/s]"
      ]
     },
     "metadata": {},
     "output_type": "display_data"
    },
    {
     "data": {
      "application/vnd.jupyter.widget-view+json": {
       "model_id": "b1556f256fe9479a82728e8122a87b87",
       "version_major": 2,
       "version_minor": 0
      },
      "text/plain": [
       "inner_loop:   0%|          | 0/11351 [00:00<?, ?it/s]"
      ]
     },
     "metadata": {},
     "output_type": "display_data"
    },
    {
     "data": {
      "application/vnd.jupyter.widget-view+json": {
       "model_id": "9bdf0af52aa742fbbdb3e494d03df237",
       "version_major": 2,
       "version_minor": 0
      },
      "text/plain": [
       "inner_loop:   0%|          | 0/11253 [00:00<?, ?it/s]"
      ]
     },
     "metadata": {},
     "output_type": "display_data"
    },
    {
     "data": {
      "application/vnd.jupyter.widget-view+json": {
       "model_id": "f8b3adc74f1247d79335a39f256d8d14",
       "version_major": 2,
       "version_minor": 0
      },
      "text/plain": [
       "inner_loop:   0%|          | 0/11366 [00:00<?, ?it/s]"
      ]
     },
     "metadata": {},
     "output_type": "display_data"
    },
    {
     "data": {
      "application/vnd.jupyter.widget-view+json": {
       "model_id": "3e87b31c3d094cad825a97b7e8e03aa3",
       "version_major": 2,
       "version_minor": 0
      },
      "text/plain": [
       "inner_loop:   0%|          | 0/11004 [00:00<?, ?it/s]"
      ]
     },
     "metadata": {},
     "output_type": "display_data"
    },
    {
     "data": {
      "application/vnd.jupyter.widget-view+json": {
       "model_id": "d9a47ab7e21e46a9a78b71aa78bbcf67",
       "version_major": 2,
       "version_minor": 0
      },
      "text/plain": [
       "inner_loop:   0%|          | 0/10990 [00:00<?, ?it/s]"
      ]
     },
     "metadata": {},
     "output_type": "display_data"
    },
    {
     "data": {
      "application/vnd.jupyter.widget-view+json": {
       "model_id": "af49d00f461642e9a3a72faee402db71",
       "version_major": 2,
       "version_minor": 0
      },
      "text/plain": [
       "inner_loop:   0%|          | 0/10661 [00:00<?, ?it/s]"
      ]
     },
     "metadata": {},
     "output_type": "display_data"
    },
    {
     "data": {
      "application/vnd.jupyter.widget-view+json": {
       "model_id": "1e9095677b7b4dc4aabfe7de16baacf3",
       "version_major": 2,
       "version_minor": 0
      },
      "text/plain": [
       "inner_loop:   0%|          | 0/11393 [00:00<?, ?it/s]"
      ]
     },
     "metadata": {},
     "output_type": "display_data"
    },
    {
     "data": {
      "application/vnd.jupyter.widget-view+json": {
       "model_id": "af1a0c94c2064a15b2e15133075f76dd",
       "version_major": 2,
       "version_minor": 0
      },
      "text/plain": [
       "inner_loop:   0%|          | 0/10227 [00:00<?, ?it/s]"
      ]
     },
     "metadata": {},
     "output_type": "display_data"
    },
    {
     "data": {
      "application/vnd.jupyter.widget-view+json": {
       "model_id": "7816a10b36c544b3bb450326f942c462",
       "version_major": 2,
       "version_minor": 0
      },
      "text/plain": [
       "inner_loop:   0%|          | 0/10846 [00:00<?, ?it/s]"
      ]
     },
     "metadata": {},
     "output_type": "display_data"
    },
    {
     "data": {
      "application/vnd.jupyter.widget-view+json": {
       "model_id": "87e28ca63b064d259f8d726107ff759d",
       "version_major": 2,
       "version_minor": 0
      },
      "text/plain": [
       "inner_loop:   0%|          | 0/9947 [00:00<?, ?it/s]"
      ]
     },
     "metadata": {},
     "output_type": "display_data"
    },
    {
     "data": {
      "application/vnd.jupyter.widget-view+json": {
       "model_id": "6d294d54b05641d69dc3bb83dd7c3aa6",
       "version_major": 2,
       "version_minor": 0
      },
      "text/plain": [
       "inner_loop:   0%|          | 0/13439 [00:00<?, ?it/s]"
      ]
     },
     "metadata": {},
     "output_type": "display_data"
    },
    {
     "data": {
      "application/vnd.jupyter.widget-view+json": {
       "model_id": "078dc77bef7e432faf0367ef2164dcc3",
       "version_major": 2,
       "version_minor": 0
      },
      "text/plain": [
       "inner_loop:   0%|          | 0/10204 [00:00<?, ?it/s]"
      ]
     },
     "metadata": {},
     "output_type": "display_data"
    },
    {
     "data": {
      "application/vnd.jupyter.widget-view+json": {
       "model_id": "e9635458b5be4812a081ae52117626be",
       "version_major": 2,
       "version_minor": 0
      },
      "text/plain": [
       "inner_loop:   0%|          | 0/9731 [00:00<?, ?it/s]"
      ]
     },
     "metadata": {},
     "output_type": "display_data"
    },
    {
     "data": {
      "application/vnd.jupyter.widget-view+json": {
       "model_id": "3f547b12ad6441eca0b37153d5fe2448",
       "version_major": 2,
       "version_minor": 0
      },
      "text/plain": [
       "inner_loop:   0%|          | 0/10133 [00:00<?, ?it/s]"
      ]
     },
     "metadata": {},
     "output_type": "display_data"
    },
    {
     "data": {
      "application/vnd.jupyter.widget-view+json": {
       "model_id": "4a4c634ff53246ceb807dfc49b0fff96",
       "version_major": 2,
       "version_minor": 0
      },
      "text/plain": [
       "inner_loop:   0%|          | 0/10070 [00:00<?, ?it/s]"
      ]
     },
     "metadata": {},
     "output_type": "display_data"
    },
    {
     "data": {
      "application/vnd.jupyter.widget-view+json": {
       "model_id": "5e5f1fac5b864f7eb75a3743fd9db4ee",
       "version_major": 2,
       "version_minor": 0
      },
      "text/plain": [
       "inner_loop:   0%|          | 0/10152 [00:00<?, ?it/s]"
      ]
     },
     "metadata": {},
     "output_type": "display_data"
    },
    {
     "data": {
      "application/vnd.jupyter.widget-view+json": {
       "model_id": "60d726b2f9ec4274b5b2600043bc890d",
       "version_major": 2,
       "version_minor": 0
      },
      "text/plain": [
       "inner_loop:   0%|          | 0/9913 [00:00<?, ?it/s]"
      ]
     },
     "metadata": {},
     "output_type": "display_data"
    },
    {
     "data": {
      "application/vnd.jupyter.widget-view+json": {
       "model_id": "7ce803757f7140b789aa895c38e6e717",
       "version_major": 2,
       "version_minor": 0
      },
      "text/plain": [
       "inner_loop:   0%|          | 0/9939 [00:00<?, ?it/s]"
      ]
     },
     "metadata": {},
     "output_type": "display_data"
    },
    {
     "data": {
      "application/vnd.jupyter.widget-view+json": {
       "model_id": "15b073b0694c482bbc98aa858064b309",
       "version_major": 2,
       "version_minor": 0
      },
      "text/plain": [
       "inner_loop:   0%|          | 0/9736 [00:00<?, ?it/s]"
      ]
     },
     "metadata": {},
     "output_type": "display_data"
    },
    {
     "data": {
      "application/vnd.jupyter.widget-view+json": {
       "model_id": "a9488b6c5a014fc68f060f72b72b9e3c",
       "version_major": 2,
       "version_minor": 0
      },
      "text/plain": [
       "inner_loop:   0%|          | 0/10143 [00:00<?, ?it/s]"
      ]
     },
     "metadata": {},
     "output_type": "display_data"
    },
    {
     "data": {
      "application/vnd.jupyter.widget-view+json": {
       "model_id": "30853cbcda624e7b8174a99f82ff90ea",
       "version_major": 2,
       "version_minor": 0
      },
      "text/plain": [
       "inner_loop:   0%|          | 0/13835 [00:00<?, ?it/s]"
      ]
     },
     "metadata": {},
     "output_type": "display_data"
    },
    {
     "data": {
      "application/vnd.jupyter.widget-view+json": {
       "model_id": "a3567ad5a6d145c3b6a388c534f8c49e",
       "version_major": 2,
       "version_minor": 0
      },
      "text/plain": [
       "inner_loop:   0%|          | 0/9815 [00:00<?, ?it/s]"
      ]
     },
     "metadata": {},
     "output_type": "display_data"
    },
    {
     "data": {
      "application/vnd.jupyter.widget-view+json": {
       "model_id": "0a453f0fae304687a09375079236e037",
       "version_major": 2,
       "version_minor": 0
      },
      "text/plain": [
       "inner_loop:   0%|          | 0/13194 [00:00<?, ?it/s]"
      ]
     },
     "metadata": {},
     "output_type": "display_data"
    },
    {
     "data": {
      "application/vnd.jupyter.widget-view+json": {
       "model_id": "59ba5c622c454c8c86e84be11362eb0d",
       "version_major": 2,
       "version_minor": 0
      },
      "text/plain": [
       "inner_loop:   0%|          | 0/10032 [00:00<?, ?it/s]"
      ]
     },
     "metadata": {},
     "output_type": "display_data"
    },
    {
     "data": {
      "application/vnd.jupyter.widget-view+json": {
       "model_id": "0fe3a540825f49609012856498396db0",
       "version_major": 2,
       "version_minor": 0
      },
      "text/plain": [
       "inner_loop:   0%|          | 0/9618 [00:00<?, ?it/s]"
      ]
     },
     "metadata": {},
     "output_type": "display_data"
    },
    {
     "data": {
      "application/vnd.jupyter.widget-view+json": {
       "model_id": "3721b0ad64f64fc0bd15bcbfb0ae10ff",
       "version_major": 2,
       "version_minor": 0
      },
      "text/plain": [
       "inner_loop:   0%|          | 0/10010 [00:00<?, ?it/s]"
      ]
     },
     "metadata": {},
     "output_type": "display_data"
    },
    {
     "data": {
      "application/vnd.jupyter.widget-view+json": {
       "model_id": "af27d2d6e2394c07b3774cc81bf349b0",
       "version_major": 2,
       "version_minor": 0
      },
      "text/plain": [
       "inner_loop:   0%|          | 0/9936 [00:00<?, ?it/s]"
      ]
     },
     "metadata": {},
     "output_type": "display_data"
    },
    {
     "data": {
      "application/vnd.jupyter.widget-view+json": {
       "model_id": "92e3cefa4cbf48c4b0e12f311aebcbda",
       "version_major": 2,
       "version_minor": 0
      },
      "text/plain": [
       "inner_loop:   0%|          | 0/10048 [00:00<?, ?it/s]"
      ]
     },
     "metadata": {},
     "output_type": "display_data"
    },
    {
     "data": {
      "application/vnd.jupyter.widget-view+json": {
       "model_id": "04bb4a4b7aa94ad6b2a5bcd5e4e277ec",
       "version_major": 2,
       "version_minor": 0
      },
      "text/plain": [
       "inner_loop:   0%|          | 0/9762 [00:00<?, ?it/s]"
      ]
     },
     "metadata": {},
     "output_type": "display_data"
    },
    {
     "data": {
      "application/vnd.jupyter.widget-view+json": {
       "model_id": "5007df8ca04b4b33950a7c05fd19b903",
       "version_major": 2,
       "version_minor": 0
      },
      "text/plain": [
       "inner_loop:   0%|          | 0/9794 [00:00<?, ?it/s]"
      ]
     },
     "metadata": {},
     "output_type": "display_data"
    },
    {
     "data": {
      "application/vnd.jupyter.widget-view+json": {
       "model_id": "20e503f8a2b04fe090aada99bb661ef5",
       "version_major": 2,
       "version_minor": 0
      },
      "text/plain": [
       "inner_loop:   0%|          | 0/9611 [00:00<?, ?it/s]"
      ]
     },
     "metadata": {},
     "output_type": "display_data"
    },
    {
     "data": {
      "application/vnd.jupyter.widget-view+json": {
       "model_id": "beb96b4ff45f4bbea4759a3caeaa2e2c",
       "version_major": 2,
       "version_minor": 0
      },
      "text/plain": [
       "inner_loop:   0%|          | 0/10006 [00:00<?, ?it/s]"
      ]
     },
     "metadata": {},
     "output_type": "display_data"
    },
    {
     "data": {
      "application/vnd.jupyter.widget-view+json": {
       "model_id": "34a7b751d358447eaf842002dc48eaf2",
       "version_major": 2,
       "version_minor": 0
      },
      "text/plain": [
       "inner_loop:   0%|          | 0/13077 [00:00<?, ?it/s]"
      ]
     },
     "metadata": {},
     "output_type": "display_data"
    },
    {
     "data": {
      "application/vnd.jupyter.widget-view+json": {
       "model_id": "3076134547dd436fac975eebaca8a08d",
       "version_major": 2,
       "version_minor": 0
      },
      "text/plain": [
       "inner_loop:   0%|          | 0/9697 [00:00<?, ?it/s]"
      ]
     },
     "metadata": {},
     "output_type": "display_data"
    },
    {
     "data": {
      "application/vnd.jupyter.widget-view+json": {
       "model_id": "408d5a6b920a4378a7a201f9d38c65a7",
       "version_major": 2,
       "version_minor": 0
      },
      "text/plain": [
       "inner_loop:   0%|          | 0/12575 [00:00<?, ?it/s]"
      ]
     },
     "metadata": {},
     "output_type": "display_data"
    },
    {
     "data": {
      "application/vnd.jupyter.widget-view+json": {
       "model_id": "2256e7f77c6e4c6ab062c681e29cbcd8",
       "version_major": 2,
       "version_minor": 0
      },
      "text/plain": [
       "inner_loop:   0%|          | 0/10785 [00:00<?, ?it/s]"
      ]
     },
     "metadata": {},
     "output_type": "display_data"
    },
    {
     "data": {
      "application/vnd.jupyter.widget-view+json": {
       "model_id": "02bc85ced3894da5aa6eaf2cd364de65",
       "version_major": 2,
       "version_minor": 0
      },
      "text/plain": [
       "inner_loop:   0%|          | 0/11595 [00:00<?, ?it/s]"
      ]
     },
     "metadata": {},
     "output_type": "display_data"
    },
    {
     "data": {
      "application/vnd.jupyter.widget-view+json": {
       "model_id": "c81dc1faf2fd4cf7a0de76cce85fad0f",
       "version_major": 2,
       "version_minor": 0
      },
      "text/plain": [
       "inner_loop:   0%|          | 0/11432 [00:00<?, ?it/s]"
      ]
     },
     "metadata": {},
     "output_type": "display_data"
    },
    {
     "data": {
      "application/vnd.jupyter.widget-view+json": {
       "model_id": "80602dbf57964863869ebfe585208708",
       "version_major": 2,
       "version_minor": 0
      },
      "text/plain": [
       "inner_loop:   0%|          | 0/11590 [00:00<?, ?it/s]"
      ]
     },
     "metadata": {},
     "output_type": "display_data"
    },
    {
     "data": {
      "application/vnd.jupyter.widget-view+json": {
       "model_id": "9e39ab1f9c8f429fa491dbc6a8e34d93",
       "version_major": 2,
       "version_minor": 0
      },
      "text/plain": [
       "inner_loop:   0%|          | 0/11225 [00:00<?, ?it/s]"
      ]
     },
     "metadata": {},
     "output_type": "display_data"
    },
    {
     "data": {
      "application/vnd.jupyter.widget-view+json": {
       "model_id": "f978b260f1204d9aafec6cc50d474e96",
       "version_major": 2,
       "version_minor": 0
      },
      "text/plain": [
       "inner_loop:   0%|          | 0/11233 [00:00<?, ?it/s]"
      ]
     },
     "metadata": {},
     "output_type": "display_data"
    },
    {
     "data": {
      "application/vnd.jupyter.widget-view+json": {
       "model_id": "93600dbd919f456c866c20cb0ed9868a",
       "version_major": 2,
       "version_minor": 0
      },
      "text/plain": [
       "inner_loop:   0%|          | 0/10777 [00:00<?, ?it/s]"
      ]
     },
     "metadata": {},
     "output_type": "display_data"
    },
    {
     "data": {
      "application/vnd.jupyter.widget-view+json": {
       "model_id": "6f4e0606d9554928b67a2fee22123718",
       "version_major": 2,
       "version_minor": 0
      },
      "text/plain": [
       "inner_loop:   0%|          | 0/11590 [00:00<?, ?it/s]"
      ]
     },
     "metadata": {},
     "output_type": "display_data"
    },
    {
     "data": {
      "application/vnd.jupyter.widget-view+json": {
       "model_id": "3be9c180a9134b46a159233c30fad54a",
       "version_major": 2,
       "version_minor": 0
      },
      "text/plain": [
       "inner_loop:   0%|          | 0/10348 [00:00<?, ?it/s]"
      ]
     },
     "metadata": {},
     "output_type": "display_data"
    },
    {
     "data": {
      "application/vnd.jupyter.widget-view+json": {
       "model_id": "b5fba4160c434a758d813af1900129b3",
       "version_major": 2,
       "version_minor": 0
      },
      "text/plain": [
       "inner_loop:   0%|          | 0/10996 [00:00<?, ?it/s]"
      ]
     },
     "metadata": {},
     "output_type": "display_data"
    },
    {
     "data": {
      "application/vnd.jupyter.widget-view+json": {
       "model_id": "f1eeb0130d55462287a177ce0adbdbc6",
       "version_major": 2,
       "version_minor": 0
      },
      "text/plain": [
       "inner_loop:   0%|          | 0/10092 [00:00<?, ?it/s]"
      ]
     },
     "metadata": {},
     "output_type": "display_data"
    },
    {
     "data": {
      "application/vnd.jupyter.widget-view+json": {
       "model_id": "1610a0829aae4cb0abc1aacda87b1b8c",
       "version_major": 2,
       "version_minor": 0
      },
      "text/plain": [
       "inner_loop:   0%|          | 0/10786 [00:00<?, ?it/s]"
      ]
     },
     "metadata": {},
     "output_type": "display_data"
    },
    {
     "data": {
      "application/vnd.jupyter.widget-view+json": {
       "model_id": "84dcef6ef046463b9986d49c174f00c5",
       "version_major": 2,
       "version_minor": 0
      },
      "text/plain": [
       "inner_loop:   0%|          | 0/10732 [00:00<?, ?it/s]"
      ]
     },
     "metadata": {},
     "output_type": "display_data"
    },
    {
     "data": {
      "application/vnd.jupyter.widget-view+json": {
       "model_id": "3fc3290fc9e343b1b31f0765c3a251c9",
       "version_major": 2,
       "version_minor": 0
      },
      "text/plain": [
       "inner_loop:   0%|          | 0/10844 [00:00<?, ?it/s]"
      ]
     },
     "metadata": {},
     "output_type": "display_data"
    },
    {
     "data": {
      "application/vnd.jupyter.widget-view+json": {
       "model_id": "de14dca320824eddb88aa513fbbbd6a9",
       "version_major": 2,
       "version_minor": 0
      },
      "text/plain": [
       "inner_loop:   0%|          | 0/10501 [00:00<?, ?it/s]"
      ]
     },
     "metadata": {},
     "output_type": "display_data"
    },
    {
     "data": {
      "application/vnd.jupyter.widget-view+json": {
       "model_id": "81452ec64aa34b359587f4c53bf54b20",
       "version_major": 2,
       "version_minor": 0
      },
      "text/plain": [
       "inner_loop:   0%|          | 0/10512 [00:00<?, ?it/s]"
      ]
     },
     "metadata": {},
     "output_type": "display_data"
    },
    {
     "data": {
      "application/vnd.jupyter.widget-view+json": {
       "model_id": "d9fcd7ea531b4b79a7b1b32f9ea060c8",
       "version_major": 2,
       "version_minor": 0
      },
      "text/plain": [
       "inner_loop:   0%|          | 0/13580 [00:00<?, ?it/s]"
      ]
     },
     "metadata": {},
     "output_type": "display_data"
    },
    {
     "data": {
      "application/vnd.jupyter.widget-view+json": {
       "model_id": "67da45a29bb640afbf4a15ba95bebb08",
       "version_major": 2,
       "version_minor": 0
      },
      "text/plain": [
       "inner_loop:   0%|          | 0/10833 [00:00<?, ?it/s]"
      ]
     },
     "metadata": {},
     "output_type": "display_data"
    },
    {
     "data": {
      "application/vnd.jupyter.widget-view+json": {
       "model_id": "33e14e93f7144e7ca6b08ac0064cb195",
       "version_major": 2,
       "version_minor": 0
      },
      "text/plain": [
       "inner_loop:   0%|          | 0/9895 [00:00<?, ?it/s]"
      ]
     },
     "metadata": {},
     "output_type": "display_data"
    },
    {
     "data": {
      "application/vnd.jupyter.widget-view+json": {
       "model_id": "963d81f74ac24df0b9f5b0bf221c3647",
       "version_major": 2,
       "version_minor": 0
      },
      "text/plain": [
       "inner_loop:   0%|          | 0/10365 [00:00<?, ?it/s]"
      ]
     },
     "metadata": {},
     "output_type": "display_data"
    },
    {
     "data": {
      "application/vnd.jupyter.widget-view+json": {
       "model_id": "58e131394e4a45f7b01518b93c706401",
       "version_major": 2,
       "version_minor": 0
      },
      "text/plain": [
       "inner_loop:   0%|          | 0/9660 [00:00<?, ?it/s]"
      ]
     },
     "metadata": {},
     "output_type": "display_data"
    },
    {
     "data": {
      "application/vnd.jupyter.widget-view+json": {
       "model_id": "241f893f19da44a6897fe37112c89c37",
       "version_major": 2,
       "version_minor": 0
      },
      "text/plain": [
       "inner_loop:   0%|          | 0/12517 [00:00<?, ?it/s]"
      ]
     },
     "metadata": {},
     "output_type": "display_data"
    },
    {
     "data": {
      "application/vnd.jupyter.widget-view+json": {
       "model_id": "4cdafd7d77fd48b7a18b8af9fb9ea345",
       "version_major": 2,
       "version_minor": 0
      },
      "text/plain": [
       "inner_loop:   0%|          | 0/11504 [00:00<?, ?it/s]"
      ]
     },
     "metadata": {},
     "output_type": "display_data"
    },
    {
     "data": {
      "application/vnd.jupyter.widget-view+json": {
       "model_id": "4da3cd62261b4eed94a73d86b5f8e573",
       "version_major": 2,
       "version_minor": 0
      },
      "text/plain": [
       "inner_loop:   0%|          | 0/11044 [00:00<?, ?it/s]"
      ]
     },
     "metadata": {},
     "output_type": "display_data"
    },
    {
     "data": {
      "application/vnd.jupyter.widget-view+json": {
       "model_id": "3aea5751dafa4b5aa9e13567d24f408f",
       "version_major": 2,
       "version_minor": 0
      },
      "text/plain": [
       "inner_loop:   0%|          | 0/11079 [00:00<?, ?it/s]"
      ]
     },
     "metadata": {},
     "output_type": "display_data"
    },
    {
     "data": {
      "application/vnd.jupyter.widget-view+json": {
       "model_id": "fbf3c86915b44f1aa811711ddf02a360",
       "version_major": 2,
       "version_minor": 0
      },
      "text/plain": [
       "inner_loop:   0%|          | 0/10710 [00:00<?, ?it/s]"
      ]
     },
     "metadata": {},
     "output_type": "display_data"
    },
    {
     "data": {
      "application/vnd.jupyter.widget-view+json": {
       "model_id": "606d2dec6b36450aa9c2af0098bffb02",
       "version_major": 2,
       "version_minor": 0
      },
      "text/plain": [
       "inner_loop:   0%|          | 0/12675 [00:00<?, ?it/s]"
      ]
     },
     "metadata": {},
     "output_type": "display_data"
    },
    {
     "data": {
      "application/vnd.jupyter.widget-view+json": {
       "model_id": "e10b84ad7afa472baf04e1b1c4beb8a5",
       "version_major": 2,
       "version_minor": 0
      },
      "text/plain": [
       "inner_loop:   0%|          | 0/10264 [00:00<?, ?it/s]"
      ]
     },
     "metadata": {},
     "output_type": "display_data"
    },
    {
     "data": {
      "application/vnd.jupyter.widget-view+json": {
       "model_id": "45310ac7ef9e4d7bb44838ddc302bbbf",
       "version_major": 2,
       "version_minor": 0
      },
      "text/plain": [
       "inner_loop:   0%|          | 0/10921 [00:00<?, ?it/s]"
      ]
     },
     "metadata": {},
     "output_type": "display_data"
    },
    {
     "data": {
      "application/vnd.jupyter.widget-view+json": {
       "model_id": "834bb14c00d2429897f1116528af7a8d",
       "version_major": 2,
       "version_minor": 0
      },
      "text/plain": [
       "inner_loop:   0%|          | 0/10014 [00:00<?, ?it/s]"
      ]
     },
     "metadata": {},
     "output_type": "display_data"
    },
    {
     "data": {
      "application/vnd.jupyter.widget-view+json": {
       "model_id": "624b9dc848924c20b373660ea9c76ef0",
       "version_major": 2,
       "version_minor": 0
      },
      "text/plain": [
       "inner_loop:   0%|          | 0/11337 [00:00<?, ?it/s]"
      ]
     },
     "metadata": {},
     "output_type": "display_data"
    },
    {
     "data": {
      "application/vnd.jupyter.widget-view+json": {
       "model_id": "1298c94275fe4794b260c96301cb57c0",
       "version_major": 2,
       "version_minor": 0
      },
      "text/plain": [
       "inner_loop:   0%|          | 0/10956 [00:00<?, ?it/s]"
      ]
     },
     "metadata": {},
     "output_type": "display_data"
    },
    {
     "data": {
      "application/vnd.jupyter.widget-view+json": {
       "model_id": "ae40b5687ce944999eb3d0b61ef1940f",
       "version_major": 2,
       "version_minor": 0
      },
      "text/plain": [
       "inner_loop:   0%|          | 0/10989 [00:00<?, ?it/s]"
      ]
     },
     "metadata": {},
     "output_type": "display_data"
    },
    {
     "data": {
      "application/vnd.jupyter.widget-view+json": {
       "model_id": "c3e9174fd01744eaafc1cc9b7b1f2081",
       "version_major": 2,
       "version_minor": 0
      },
      "text/plain": [
       "inner_loop:   0%|          | 0/10656 [00:00<?, ?it/s]"
      ]
     },
     "metadata": {},
     "output_type": "display_data"
    },
    {
     "data": {
      "application/vnd.jupyter.widget-view+json": {
       "model_id": "6d904849b7a248c4b11f98167af26432",
       "version_major": 2,
       "version_minor": 0
      },
      "text/plain": [
       "inner_loop:   0%|          | 0/12510 [00:00<?, ?it/s]"
      ]
     },
     "metadata": {},
     "output_type": "display_data"
    },
    {
     "data": {
      "application/vnd.jupyter.widget-view+json": {
       "model_id": "bfce185b8fd5487d8cafb3bb4ce19c11",
       "version_major": 2,
       "version_minor": 0
      },
      "text/plain": [
       "inner_loop:   0%|          | 0/10214 [00:00<?, ?it/s]"
      ]
     },
     "metadata": {},
     "output_type": "display_data"
    },
    {
     "data": {
      "application/vnd.jupyter.widget-view+json": {
       "model_id": "d7c65330fc51442495ba593356c5830b",
       "version_major": 2,
       "version_minor": 0
      },
      "text/plain": [
       "inner_loop:   0%|          | 0/10832 [00:00<?, ?it/s]"
      ]
     },
     "metadata": {},
     "output_type": "display_data"
    },
    {
     "data": {
      "application/vnd.jupyter.widget-view+json": {
       "model_id": "82e69fa2436e47599cc7735ac8f881de",
       "version_major": 2,
       "version_minor": 0
      },
      "text/plain": [
       "inner_loop:   0%|          | 0/9981 [00:00<?, ?it/s]"
      ]
     },
     "metadata": {},
     "output_type": "display_data"
    },
    {
     "data": {
      "application/vnd.jupyter.widget-view+json": {
       "model_id": "139ebf5548bc4723966209fafb5bdeee",
       "version_major": 2,
       "version_minor": 0
      },
      "text/plain": [
       "inner_loop:   0%|          | 0/12944 [00:00<?, ?it/s]"
      ]
     },
     "metadata": {},
     "output_type": "display_data"
    },
    {
     "data": {
      "application/vnd.jupyter.widget-view+json": {
       "model_id": "bbfb6b336c7c4aedbe6dcecbaa249355",
       "version_major": 2,
       "version_minor": 0
      },
      "text/plain": [
       "inner_loop:   0%|          | 0/12696 [00:00<?, ?it/s]"
      ]
     },
     "metadata": {},
     "output_type": "display_data"
    },
    {
     "data": {
      "application/vnd.jupyter.widget-view+json": {
       "model_id": "b194b7f61af748fbb62b3aaa1c49e667",
       "version_major": 2,
       "version_minor": 0
      },
      "text/plain": [
       "inner_loop:   0%|          | 0/10704 [00:00<?, ?it/s]"
      ]
     },
     "metadata": {},
     "output_type": "display_data"
    },
    {
     "data": {
      "application/vnd.jupyter.widget-view+json": {
       "model_id": "d51a43d4e2ad4a68a37604f32f5bb051",
       "version_major": 2,
       "version_minor": 0
      },
      "text/plain": [
       "inner_loop:   0%|          | 0/11692 [00:00<?, ?it/s]"
      ]
     },
     "metadata": {},
     "output_type": "display_data"
    },
    {
     "data": {
      "application/vnd.jupyter.widget-view+json": {
       "model_id": "d8bd8c414eb244f6bac0200d480dab4f",
       "version_major": 2,
       "version_minor": 0
      },
      "text/plain": [
       "inner_loop:   0%|          | 0/10353 [00:00<?, ?it/s]"
      ]
     },
     "metadata": {},
     "output_type": "display_data"
    },
    {
     "data": {
      "application/vnd.jupyter.widget-view+json": {
       "model_id": "f33889e877a04f8088aceb34aa8e66b3",
       "version_major": 2,
       "version_minor": 0
      },
      "text/plain": [
       "inner_loop:   0%|          | 0/10844 [00:00<?, ?it/s]"
      ]
     },
     "metadata": {},
     "output_type": "display_data"
    },
    {
     "data": {
      "application/vnd.jupyter.widget-view+json": {
       "model_id": "ca9a0037bdbd4cc08ede3e9aca8a5e48",
       "version_major": 2,
       "version_minor": 0
      },
      "text/plain": [
       "inner_loop:   0%|          | 0/10030 [00:00<?, ?it/s]"
      ]
     },
     "metadata": {},
     "output_type": "display_data"
    },
    {
     "data": {
      "application/vnd.jupyter.widget-view+json": {
       "model_id": "255b2d93c5f244818a89d9dfd11eff67",
       "version_major": 2,
       "version_minor": 0
      },
      "text/plain": [
       "inner_loop:   0%|          | 0/12829 [00:00<?, ?it/s]"
      ]
     },
     "metadata": {},
     "output_type": "display_data"
    },
    {
     "data": {
      "application/vnd.jupyter.widget-view+json": {
       "model_id": "60f44061e5eb4e33bbb8f9e350385b58",
       "version_major": 2,
       "version_minor": 0
      },
      "text/plain": [
       "inner_loop:   0%|          | 0/10466 [00:00<?, ?it/s]"
      ]
     },
     "metadata": {},
     "output_type": "display_data"
    },
    {
     "data": {
      "application/vnd.jupyter.widget-view+json": {
       "model_id": "4f563f24fdce419cb7f7630d013080e4",
       "version_major": 2,
       "version_minor": 0
      },
      "text/plain": [
       "inner_loop:   0%|          | 0/11140 [00:00<?, ?it/s]"
      ]
     },
     "metadata": {},
     "output_type": "display_data"
    },
    {
     "data": {
      "application/vnd.jupyter.widget-view+json": {
       "model_id": "095e870626ac466ca3bba1a5e32c262a",
       "version_major": 2,
       "version_minor": 0
      },
      "text/plain": [
       "inner_loop:   0%|          | 0/10009 [00:00<?, ?it/s]"
      ]
     },
     "metadata": {},
     "output_type": "display_data"
    },
    {
     "data": {
      "application/vnd.jupyter.widget-view+json": {
       "model_id": "2cc7e65491ca42cd99000cb900e80f4a",
       "version_major": 2,
       "version_minor": 0
      },
      "text/plain": [
       "inner_loop:   0%|          | 0/10580 [00:00<?, ?it/s]"
      ]
     },
     "metadata": {},
     "output_type": "display_data"
    },
    {
     "data": {
      "application/vnd.jupyter.widget-view+json": {
       "model_id": "6c405ad3fb174d57b5ba1bd6f163e75d",
       "version_major": 2,
       "version_minor": 0
      },
      "text/plain": [
       "inner_loop:   0%|          | 0/9820 [00:00<?, ?it/s]"
      ]
     },
     "metadata": {},
     "output_type": "display_data"
    },
    {
     "data": {
      "application/vnd.jupyter.widget-view+json": {
       "model_id": "49032bbcd09c432b80ca3faee9f58bb2",
       "version_major": 2,
       "version_minor": 0
      },
      "text/plain": [
       "inner_loop:   0%|          | 0/10491 [00:00<?, ?it/s]"
      ]
     },
     "metadata": {},
     "output_type": "display_data"
    },
    {
     "data": {
      "application/vnd.jupyter.widget-view+json": {
       "model_id": "fd787bb984f64bc8884eb6ceec3c7381",
       "version_major": 2,
       "version_minor": 0
      },
      "text/plain": [
       "inner_loop:   0%|          | 0/11103 [00:00<?, ?it/s]"
      ]
     },
     "metadata": {},
     "output_type": "display_data"
    },
    {
     "data": {
      "application/vnd.jupyter.widget-view+json": {
       "model_id": "f1d7ef698a564efeb5052281d733b2a0",
       "version_major": 2,
       "version_minor": 0
      },
      "text/plain": [
       "inner_loop:   0%|          | 0/10028 [00:00<?, ?it/s]"
      ]
     },
     "metadata": {},
     "output_type": "display_data"
    },
    {
     "data": {
      "application/vnd.jupyter.widget-view+json": {
       "model_id": "e44b1488cec34651a5e545a5f81d5600",
       "version_major": 2,
       "version_minor": 0
      },
      "text/plain": [
       "inner_loop:   0%|          | 0/10645 [00:00<?, ?it/s]"
      ]
     },
     "metadata": {},
     "output_type": "display_data"
    },
    {
     "data": {
      "application/vnd.jupyter.widget-view+json": {
       "model_id": "327beee536b84b93946af2f083830b9d",
       "version_major": 2,
       "version_minor": 0
      },
      "text/plain": [
       "inner_loop:   0%|          | 0/9842 [00:00<?, ?it/s]"
      ]
     },
     "metadata": {},
     "output_type": "display_data"
    },
    {
     "data": {
      "application/vnd.jupyter.widget-view+json": {
       "model_id": "2e5d2adf9ce94f64be3b1d742e1dfadf",
       "version_major": 2,
       "version_minor": 0
      },
      "text/plain": [
       "inner_loop:   0%|          | 0/10665 [00:00<?, ?it/s]"
      ]
     },
     "metadata": {},
     "output_type": "display_data"
    },
    {
     "data": {
      "application/vnd.jupyter.widget-view+json": {
       "model_id": "0cd44589a05c4ed89647669ee956ac8b",
       "version_major": 2,
       "version_minor": 0
      },
      "text/plain": [
       "inner_loop:   0%|          | 0/9844 [00:00<?, ?it/s]"
      ]
     },
     "metadata": {},
     "output_type": "display_data"
    },
    {
     "data": {
      "application/vnd.jupyter.widget-view+json": {
       "model_id": "746699078efd4befae37d01a36330643",
       "version_major": 2,
       "version_minor": 0
      },
      "text/plain": [
       "inner_loop:   0%|          | 0/10384 [00:00<?, ?it/s]"
      ]
     },
     "metadata": {},
     "output_type": "display_data"
    },
    {
     "data": {
      "application/vnd.jupyter.widget-view+json": {
       "model_id": "7b23009b74044581a323c611126db078",
       "version_major": 2,
       "version_minor": 0
      },
      "text/plain": [
       "inner_loop:   0%|          | 0/9671 [00:00<?, ?it/s]"
      ]
     },
     "metadata": {},
     "output_type": "display_data"
    },
    {
     "data": {
      "application/vnd.jupyter.widget-view+json": {
       "model_id": "54a2b135cdb2498ca9bf329a04e75288",
       "version_major": 2,
       "version_minor": 0
      },
      "text/plain": [
       "inner_loop:   0%|          | 0/10329 [00:00<?, ?it/s]"
      ]
     },
     "metadata": {},
     "output_type": "display_data"
    },
    {
     "data": {
      "application/vnd.jupyter.widget-view+json": {
       "model_id": "95dfb8bd02a549dd9e947e42cf922a8d",
       "version_major": 2,
       "version_minor": 0
      },
      "text/plain": [
       "inner_loop:   0%|          | 0/10885 [00:00<?, ?it/s]"
      ]
     },
     "metadata": {},
     "output_type": "display_data"
    },
    {
     "data": {
      "application/vnd.jupyter.widget-view+json": {
       "model_id": "c4b6927da9db4fb1929c63e3c5131082",
       "version_major": 2,
       "version_minor": 0
      },
      "text/plain": [
       "inner_loop:   0%|          | 0/10051 [00:00<?, ?it/s]"
      ]
     },
     "metadata": {},
     "output_type": "display_data"
    },
    {
     "data": {
      "application/vnd.jupyter.widget-view+json": {
       "model_id": "66cadfcd4f874ba0ac4616441689fb6b",
       "version_major": 2,
       "version_minor": 0
      },
      "text/plain": [
       "inner_loop:   0%|          | 0/9874 [00:00<?, ?it/s]"
      ]
     },
     "metadata": {},
     "output_type": "display_data"
    },
    {
     "data": {
      "application/vnd.jupyter.widget-view+json": {
       "model_id": "ce576260bd59482b9110e60780838205",
       "version_major": 2,
       "version_minor": 0
      },
      "text/plain": [
       "inner_loop:   0%|          | 0/14219 [00:00<?, ?it/s]"
      ]
     },
     "metadata": {},
     "output_type": "display_data"
    },
    {
     "data": {
      "application/vnd.jupyter.widget-view+json": {
       "model_id": "fc819eb25e634d6db7bba3f82a147316",
       "version_major": 2,
       "version_minor": 0
      },
      "text/plain": [
       "inner_loop:   0%|          | 0/9723 [00:00<?, ?it/s]"
      ]
     },
     "metadata": {},
     "output_type": "display_data"
    }
   ],
   "source": [
    "for combo in tq.tqdm(species_combinations,desc='outer',position = 0):\n",
    "    species_1,species_2 = combo[0],combo[1]\n",
    "\n",
    "    species_1_name = Name_resolver.species_name_resolver(species_1,desired_type='common')\n",
    "    species_2_name = Name_resolver.species_name_resolver(species_2,desired_type='common')\n",
    "\n",
    "    first_species_ortho_groups = og2genes_only_cococonet.loc[og2genes_only_cococonet['Species'] == species_1]\n",
    "    second_species_ortho_groups = og2genes_only_cococonet.loc[og2genes_only_cococonet['Species'] == species_2]\n",
    "    shared_orthogroups = np.intersect1d(first_species_ortho_groups['Orthogroup'].unique(),second_species_ortho_groups['Orthogroup'].unique())\n",
    "\n",
    "    list_of_orthogene_pds = []\n",
    "    for orthogroup in tq.tqdm(shared_orthogroups,desc ='inner_loop',position= 0,leave = False):\n",
    "        species_1_genes = first_species_ortho_groups['Gene'].loc[first_species_ortho_groups['Orthogroup']== orthogroup].to_list()\n",
    "        species_2_genes = second_species_ortho_groups['Gene'].loc[second_species_ortho_groups['Orthogroup'] == orthogroup].to_list()\n",
    "        all_gene_combos = list(itertools.product(species_1_genes,species_2_genes))\n",
    "        current_orthogroup_pd = pd.DataFrame(columns = [f'{species_1_name} OrthoGene',f'{species_2_name} OrthoGene'],data = all_gene_combos)\n",
    "        current_orthogroup_pd['Orthogroup'] = orthogroup\n",
    "        list_of_orthogene_pds.append(current_orthogroup_pd)\n",
    "        \n",
    "    final_species_lineup = pd.concat(list_of_orthogene_pds)\n",
    "    final_species_file_name = f\"/data/passala/OrthoDB_data/V_11_NM_maps/{species_1_name}_to_{species_2_name}_ortholog_NM.csv\"\n",
    "    final_species_lineup.to_csv(final_species_file_name, index=False)\n"
   ]
  },
  {
   "cell_type": "code",
   "execution_count": 25,
   "metadata": {},
   "outputs": [
    {
     "data": {
      "text/plain": [
       "'rice'"
      ]
     },
     "execution_count": 25,
     "metadata": {},
     "output_type": "execute_result"
    }
   ],
   "source": [
    "species_1_name"
   ]
  },
  {
   "cell_type": "code",
   "execution_count": 24,
   "metadata": {},
   "outputs": [
    {
     "data": {
      "text/plain": [
       "'rice_jp'"
      ]
     },
     "execution_count": 24,
     "metadata": {},
     "output_type": "execute_result"
    }
   ],
   "source": [
    "species_2_name"
   ]
  },
  {
   "cell_type": "code",
   "execution_count": null,
   "metadata": {},
   "outputs": [],
   "source": [
    "species_2_name"
   ]
  },
  {
   "cell_type": "code",
   "execution_count": null,
   "metadata": {},
   "outputs": [],
   "source": [
    "second_species_ortho_groups"
   ]
  },
  {
   "cell_type": "code",
   "execution_count": null,
   "metadata": {},
   "outputs": [],
   "source": [
    "first_species_ortho_groups"
   ]
  },
  {
   "cell_type": "code",
   "execution_count": null,
   "metadata": {},
   "outputs": [],
   "source": [
    "final_species_file_name"
   ]
  },
  {
   "cell_type": "code",
   "execution_count": null,
   "metadata": {},
   "outputs": [],
   "source": [
    "list_of_orthogene_pds[0]"
   ]
  },
  {
   "cell_type": "code",
   "execution_count": null,
   "metadata": {},
   "outputs": [],
   "source": [
    "genes_pd"
   ]
  },
  {
   "cell_type": "code",
   "execution_count": null,
   "metadata": {},
   "outputs": [],
   "source": [
    "pd.DataFrame(columns = [f'{species_1_name} OrthoGene',f'{species_2_name} OrthoGene'],data = all_gene_combos)\n"
   ]
  },
  {
   "cell_type": "code",
   "execution_count": null,
   "metadata": {},
   "outputs": [],
   "source": [
    "all_gene_combos"
   ]
  },
  {
   "cell_type": "code",
   "execution_count": null,
   "metadata": {},
   "outputs": [],
   "source": [
    "    # first_species_shared = first_species_ortho_groups.loc[first_species_ortho_groups['Orthogroup'].isin(shared_orthogroups)]\n",
    "    # second_species_shared = second_species_ortho_groups.loc[second_species_ortho_groups['Orthogroup'].isin(shared_orthogroups)]"
   ]
  },
  {
   "cell_type": "markdown",
   "metadata": {},
   "source": []
  },
  {
   "cell_type": "code",
   "execution_count": null,
   "metadata": {},
   "outputs": [],
   "source": [
    "shared_orthogroups"
   ]
  },
  {
   "cell_type": "code",
   "execution_count": null,
   "metadata": {},
   "outputs": [],
   "source": [
    "first_species_shared"
   ]
  },
  {
   "cell_type": "code",
   "execution_count": null,
   "metadata": {},
   "outputs": [],
   "source": [
    "len(np.intersect1d(first_species_ortho_groups['Orthogroup'].unique(),second_species_ortho_groups['Orthogroup'].unique()))"
   ]
  },
  {
   "cell_type": "code",
   "execution_count": null,
   "metadata": {},
   "outputs": [],
   "source": [
    "len(second_species_ortho_groups['Orthogroup'].unique())"
   ]
  },
  {
   "cell_type": "code",
   "execution_count": null,
   "metadata": {},
   "outputs": [],
   "source": [
    "first_species_ortho_groups"
   ]
  },
  {
   "cell_type": "code",
   "execution_count": null,
   "metadata": {},
   "outputs": [],
   "source": [
    "second_species_ortho_groups"
   ]
  },
  {
   "cell_type": "code",
   "execution_count": null,
   "metadata": {},
   "outputs": [],
   "source": [
    "species"
   ]
  },
  {
   "cell_type": "code",
   "execution_count": null,
   "metadata": {},
   "outputs": [],
   "source": [
    "current_genes"
   ]
  },
  {
   "cell_type": "code",
   "execution_count": null,
   "metadata": {},
   "outputs": [],
   "source": []
  },
  {
   "cell_type": "code",
   "execution_count": null,
   "metadata": {},
   "outputs": [],
   "source": [
    "species_with_nets"
   ]
  },
  {
   "cell_type": "code",
   "execution_count": null,
   "metadata": {},
   "outputs": [],
   "source": []
  }
 ],
 "metadata": {
  "kernelspec": {
   "display_name": "Single_cell_data_fix",
   "language": "python",
   "name": "python3"
  },
  "language_info": {
   "codemirror_mode": {
    "name": "ipython",
    "version": 3
   },
   "file_extension": ".py",
   "mimetype": "text/x-python",
   "name": "python",
   "nbconvert_exporter": "python",
   "pygments_lexer": "ipython3",
   "version": "3.9.13"
  },
  "orig_nbformat": 4
 },
 "nbformat": 4,
 "nbformat_minor": 2
}
