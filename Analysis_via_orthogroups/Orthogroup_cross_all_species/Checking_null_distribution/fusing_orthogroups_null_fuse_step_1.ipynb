{
 "cells": [
  {
   "cell_type": "code",
   "execution_count": 1,
   "metadata": {},
   "outputs": [],
   "source": [
    "import pandas as pd\n",
    "import CococoNet_reader\n",
    "import numpy as np\n",
    "import tqdm as tq\n",
    "import Name_resolver"
   ]
  },
  {
   "cell_type": "code",
   "execution_count": 2,
   "metadata": {},
   "outputs": [],
   "source": [
    "def get_fc_table(species_1,species_2):\n",
    "    \"\"\"Takes two species common names in any order and returns the N to M table for that pair with species_1 as column 1 and species_2 as column 2 \n",
    "\n",
    "    Args:\n",
    "        species_1 (str): species common name\n",
    "        species_2 (str): species common name\n",
    "\n",
    "    Returns:\n",
    "        str: All N-M gene pairs\n",
    "    \"\"\"\n",
    "    import pandas as pd\n",
    "    import os \n",
    "\n",
    "    list_of_files = os.listdir('/data/passala/Generated_Tables/Comparing_all_orthogorups_across_plants/N_M_FC_tables')\n",
    "    trimmed_to_species_1 = list(filter(lambda x:species_1 in x, list_of_files))\n",
    "    final_file = list(filter(lambda x: species_2 in x, trimmed_to_species_1))[0]\n",
    "    formatted_final_file = f\"/data/passala/Generated_Tables/Comparing_all_orthogorups_across_plants/N_M_FC_tables/{final_file}\"\n",
    "    read_in_file = pd.read_csv(formatted_final_file, index_col= 0)\n",
    "\n",
    "    return read_in_file"
   ]
  },
  {
   "cell_type": "code",
   "execution_count": 3,
   "metadata": {},
   "outputs": [],
   "source": [
    "def get_ncbi_clean_og2gene_for_species(species_1, og2genes_only_cococonet, ncbi_mapping):\n",
    "\n",
    "\n",
    "    species_1_name = Name_resolver.species_name_resolver(species_1,desired_type='common')\n",
    "\n",
    "    first_species_ortho_groups = og2genes_only_cococonet.loc[og2genes_only_cococonet['Species'] == species_1]\n",
    "    shared_orthogroups = first_species_ortho_groups['Orthogroup'].unique()\n",
    "\n",
    "    list_of_orthogene_pds = []\n",
    "    for orthogroup in tq.tqdm(shared_orthogroups,desc ='inner_loop',position= 0,leave = False):\n",
    "        species_1_genes = first_species_ortho_groups['Gene'].loc[first_species_ortho_groups['Orthogroup']== orthogroup].to_list()\n",
    "        all_gene_combos = species_1_genes\n",
    "        current_orthogroup_pd = pd.DataFrame(columns = [f'{species_1_name} OrthoGene'], data = all_gene_combos)\n",
    "        current_orthogroup_pd['Orthogroup'] = orthogroup\n",
    "        list_of_orthogene_pds.append(current_orthogroup_pd)\n",
    "\n",
    "    final_species_lineup = pd.concat(list_of_orthogene_pds)\n",
    "    ncbi_added_once = final_species_lineup.merge(right = ncbi_mapping[['Orthodb Gene','Symbol']], right_on = 'Orthodb Gene',left_on=f'{species_1_name} OrthoGene')\n",
    "    ncbi_added_once_clean= ncbi_added_once.drop(columns = 'Orthodb Gene')\n",
    "    return ncbi_added_once_clean"
   ]
  },
  {
   "cell_type": "code",
   "execution_count": 4,
   "metadata": {},
   "outputs": [
    {
     "data": {
      "text/html": [
       "<div>\n",
       "<style scoped>\n",
       "    .dataframe tbody tr th:only-of-type {\n",
       "        vertical-align: middle;\n",
       "    }\n",
       "\n",
       "    .dataframe tbody tr th {\n",
       "        vertical-align: top;\n",
       "    }\n",
       "\n",
       "    .dataframe thead th {\n",
       "        text-align: right;\n",
       "    }\n",
       "</style>\n",
       "<table border=\"1\" class=\"dataframe\">\n",
       "  <thead>\n",
       "    <tr style=\"text-align: right;\">\n",
       "      <th></th>\n",
       "      <th>Orthogroup</th>\n",
       "      <th>Gene</th>\n",
       "      <th>Species</th>\n",
       "      <th>Ortholevel</th>\n",
       "      <th>Orthodb Gene</th>\n",
       "      <th>Symbol</th>\n",
       "    </tr>\n",
       "  </thead>\n",
       "  <tbody>\n",
       "    <tr>\n",
       "      <th>0</th>\n",
       "      <td>100007at3193</td>\n",
       "      <td>4558_0:003a4f</td>\n",
       "      <td>4558</td>\n",
       "      <td>3193</td>\n",
       "      <td>4558_0:003a4f</td>\n",
       "      <td>LOC110434333</td>\n",
       "    </tr>\n",
       "    <tr>\n",
       "      <th>1</th>\n",
       "      <td>100007at3193</td>\n",
       "      <td>4577_0:004254</td>\n",
       "      <td>4577</td>\n",
       "      <td>3193</td>\n",
       "      <td>4577_0:004254</td>\n",
       "      <td>LOC100276500</td>\n",
       "    </tr>\n",
       "    <tr>\n",
       "      <th>2</th>\n",
       "      <td>100007at3193</td>\n",
       "      <td>4577_0:004e43</td>\n",
       "      <td>4577</td>\n",
       "      <td>3193</td>\n",
       "      <td>4577_0:004e43</td>\n",
       "      <td>LOC100275058</td>\n",
       "    </tr>\n",
       "    <tr>\n",
       "      <th>3</th>\n",
       "      <td>100067at3193</td>\n",
       "      <td>4558_0:00439a</td>\n",
       "      <td>4558</td>\n",
       "      <td>3193</td>\n",
       "      <td>4558_0:00439a</td>\n",
       "      <td>LOC8071983</td>\n",
       "    </tr>\n",
       "    <tr>\n",
       "      <th>4</th>\n",
       "      <td>100085at3193</td>\n",
       "      <td>4558_0:002fd8</td>\n",
       "      <td>4558</td>\n",
       "      <td>3193</td>\n",
       "      <td>4558_0:002fd8</td>\n",
       "      <td>LOC8086335</td>\n",
       "    </tr>\n",
       "    <tr>\n",
       "      <th>...</th>\n",
       "      <td>...</td>\n",
       "      <td>...</td>\n",
       "      <td>...</td>\n",
       "      <td>...</td>\n",
       "      <td>...</td>\n",
       "      <td>...</td>\n",
       "    </tr>\n",
       "    <tr>\n",
       "      <th>502887</th>\n",
       "      <td>9969at3193</td>\n",
       "      <td>15368_0:000e9a</td>\n",
       "      <td>15368</td>\n",
       "      <td>3193</td>\n",
       "      <td>15368_0:000e9a</td>\n",
       "      <td>LOC100834561</td>\n",
       "    </tr>\n",
       "    <tr>\n",
       "      <th>502888</th>\n",
       "      <td>99917at3193</td>\n",
       "      <td>39947_0:006297</td>\n",
       "      <td>39947</td>\n",
       "      <td>3193</td>\n",
       "      <td>39947_0:006297</td>\n",
       "      <td>LOC107276177</td>\n",
       "    </tr>\n",
       "    <tr>\n",
       "      <th>502889</th>\n",
       "      <td>99917at3193</td>\n",
       "      <td>39947_0:00634f</td>\n",
       "      <td>39947</td>\n",
       "      <td>3193</td>\n",
       "      <td>39947_0:00634f</td>\n",
       "      <td>LOC9269479</td>\n",
       "    </tr>\n",
       "    <tr>\n",
       "      <th>502890</th>\n",
       "      <td>99917at3193</td>\n",
       "      <td>39947_0:006629</td>\n",
       "      <td>39947</td>\n",
       "      <td>3193</td>\n",
       "      <td>39947_0:006629</td>\n",
       "      <td>LOC9269626</td>\n",
       "    </tr>\n",
       "    <tr>\n",
       "      <th>502891</th>\n",
       "      <td>99999at3193</td>\n",
       "      <td>39947_0:006fc4</td>\n",
       "      <td>39947</td>\n",
       "      <td>3193</td>\n",
       "      <td>39947_0:006fc4</td>\n",
       "      <td>orf173</td>\n",
       "    </tr>\n",
       "  </tbody>\n",
       "</table>\n",
       "<p>502892 rows × 6 columns</p>\n",
       "</div>"
      ],
      "text/plain": [
       "          Orthogroup            Gene  Species  Ortholevel    Orthodb Gene  \\\n",
       "0       100007at3193   4558_0:003a4f     4558        3193   4558_0:003a4f   \n",
       "1       100007at3193   4577_0:004254     4577        3193   4577_0:004254   \n",
       "2       100007at3193   4577_0:004e43     4577        3193   4577_0:004e43   \n",
       "3       100067at3193   4558_0:00439a     4558        3193   4558_0:00439a   \n",
       "4       100085at3193   4558_0:002fd8     4558        3193   4558_0:002fd8   \n",
       "...              ...             ...      ...         ...             ...   \n",
       "502887    9969at3193  15368_0:000e9a    15368        3193  15368_0:000e9a   \n",
       "502888   99917at3193  39947_0:006297    39947        3193  39947_0:006297   \n",
       "502889   99917at3193  39947_0:00634f    39947        3193  39947_0:00634f   \n",
       "502890   99917at3193  39947_0:006629    39947        3193  39947_0:006629   \n",
       "502891   99999at3193  39947_0:006fc4    39947        3193  39947_0:006fc4   \n",
       "\n",
       "              Symbol  \n",
       "0       LOC110434333  \n",
       "1       LOC100276500  \n",
       "2       LOC100275058  \n",
       "3         LOC8071983  \n",
       "4         LOC8086335  \n",
       "...              ...  \n",
       "502887  LOC100834561  \n",
       "502888  LOC107276177  \n",
       "502889    LOC9269479  \n",
       "502890    LOC9269626  \n",
       "502891        orf173  \n",
       "\n",
       "[502892 rows x 6 columns]"
      ]
     },
     "execution_count": 4,
     "metadata": {},
     "output_type": "execute_result"
    }
   ],
   "source": [
    "og_groups = pd.read_csv('/data/passala/OrthoDB_data/NCBI_data/og_2_Genes_with_ncbi_symbol.csv')\n",
    "og_groups"
   ]
  },
  {
   "cell_type": "code",
   "execution_count": 5,
   "metadata": {},
   "outputs": [],
   "source": [
    "for species in og_groups['Species'].unique():\n",
    "        # Get the species-specific data\n",
    "        species_mask = og_groups['Species'] == species\n",
    "        \n",
    "        # Get the current orthogroups and shuffle them in place\n",
    "        one_species_ogs = og_groups.loc[species_mask]\n",
    "        \n",
    "        shuffled_orthogroups = one_species_ogs['Orthogroup'].sample(frac = 1).values\n",
    "        \n",
    "        # Assign the shuffled orthogroups back\n",
    "        og_groups.loc[species_mask,'Orthogroup'] = shuffled_orthogroups"
   ]
  },
  {
   "cell_type": "code",
   "execution_count": 6,
   "metadata": {},
   "outputs": [
    {
     "data": {
      "text/html": [
       "<div>\n",
       "<style scoped>\n",
       "    .dataframe tbody tr th:only-of-type {\n",
       "        vertical-align: middle;\n",
       "    }\n",
       "\n",
       "    .dataframe tbody tr th {\n",
       "        vertical-align: top;\n",
       "    }\n",
       "\n",
       "    .dataframe thead th {\n",
       "        text-align: right;\n",
       "    }\n",
       "</style>\n",
       "<table border=\"1\" class=\"dataframe\">\n",
       "  <thead>\n",
       "    <tr style=\"text-align: right;\">\n",
       "      <th></th>\n",
       "      <th>Orthogroup</th>\n",
       "      <th>Gene</th>\n",
       "      <th>Species</th>\n",
       "      <th>Ortholevel</th>\n",
       "      <th>Orthodb Gene</th>\n",
       "      <th>Symbol</th>\n",
       "    </tr>\n",
       "  </thead>\n",
       "  <tbody>\n",
       "    <tr>\n",
       "      <th>0</th>\n",
       "      <td>54153at3193</td>\n",
       "      <td>4558_0:003a4f</td>\n",
       "      <td>4558</td>\n",
       "      <td>3193</td>\n",
       "      <td>4558_0:003a4f</td>\n",
       "      <td>LOC110434333</td>\n",
       "    </tr>\n",
       "    <tr>\n",
       "      <th>1</th>\n",
       "      <td>2918at3193</td>\n",
       "      <td>4577_0:004254</td>\n",
       "      <td>4577</td>\n",
       "      <td>3193</td>\n",
       "      <td>4577_0:004254</td>\n",
       "      <td>LOC100276500</td>\n",
       "    </tr>\n",
       "    <tr>\n",
       "      <th>2</th>\n",
       "      <td>877701at3193</td>\n",
       "      <td>4577_0:004e43</td>\n",
       "      <td>4577</td>\n",
       "      <td>3193</td>\n",
       "      <td>4577_0:004e43</td>\n",
       "      <td>LOC100275058</td>\n",
       "    </tr>\n",
       "    <tr>\n",
       "      <th>3</th>\n",
       "      <td>881236at3193</td>\n",
       "      <td>4558_0:00439a</td>\n",
       "      <td>4558</td>\n",
       "      <td>3193</td>\n",
       "      <td>4558_0:00439a</td>\n",
       "      <td>LOC8071983</td>\n",
       "    </tr>\n",
       "    <tr>\n",
       "      <th>4</th>\n",
       "      <td>80578at3193</td>\n",
       "      <td>4558_0:002fd8</td>\n",
       "      <td>4558</td>\n",
       "      <td>3193</td>\n",
       "      <td>4558_0:002fd8</td>\n",
       "      <td>LOC8086335</td>\n",
       "    </tr>\n",
       "    <tr>\n",
       "      <th>...</th>\n",
       "      <td>...</td>\n",
       "      <td>...</td>\n",
       "      <td>...</td>\n",
       "      <td>...</td>\n",
       "      <td>...</td>\n",
       "      <td>...</td>\n",
       "    </tr>\n",
       "    <tr>\n",
       "      <th>502887</th>\n",
       "      <td>885521at3193</td>\n",
       "      <td>15368_0:000e9a</td>\n",
       "      <td>15368</td>\n",
       "      <td>3193</td>\n",
       "      <td>15368_0:000e9a</td>\n",
       "      <td>LOC100834561</td>\n",
       "    </tr>\n",
       "    <tr>\n",
       "      <th>502888</th>\n",
       "      <td>886813at3193</td>\n",
       "      <td>39947_0:006297</td>\n",
       "      <td>39947</td>\n",
       "      <td>3193</td>\n",
       "      <td>39947_0:006297</td>\n",
       "      <td>LOC107276177</td>\n",
       "    </tr>\n",
       "    <tr>\n",
       "      <th>502889</th>\n",
       "      <td>36207at3193</td>\n",
       "      <td>39947_0:00634f</td>\n",
       "      <td>39947</td>\n",
       "      <td>3193</td>\n",
       "      <td>39947_0:00634f</td>\n",
       "      <td>LOC9269479</td>\n",
       "    </tr>\n",
       "    <tr>\n",
       "      <th>502890</th>\n",
       "      <td>16768at3193</td>\n",
       "      <td>39947_0:006629</td>\n",
       "      <td>39947</td>\n",
       "      <td>3193</td>\n",
       "      <td>39947_0:006629</td>\n",
       "      <td>LOC9269626</td>\n",
       "    </tr>\n",
       "    <tr>\n",
       "      <th>502891</th>\n",
       "      <td>68313at3193</td>\n",
       "      <td>39947_0:006fc4</td>\n",
       "      <td>39947</td>\n",
       "      <td>3193</td>\n",
       "      <td>39947_0:006fc4</td>\n",
       "      <td>orf173</td>\n",
       "    </tr>\n",
       "  </tbody>\n",
       "</table>\n",
       "<p>502892 rows × 6 columns</p>\n",
       "</div>"
      ],
      "text/plain": [
       "          Orthogroup            Gene  Species  Ortholevel    Orthodb Gene  \\\n",
       "0        54153at3193   4558_0:003a4f     4558        3193   4558_0:003a4f   \n",
       "1         2918at3193   4577_0:004254     4577        3193   4577_0:004254   \n",
       "2       877701at3193   4577_0:004e43     4577        3193   4577_0:004e43   \n",
       "3       881236at3193   4558_0:00439a     4558        3193   4558_0:00439a   \n",
       "4        80578at3193   4558_0:002fd8     4558        3193   4558_0:002fd8   \n",
       "...              ...             ...      ...         ...             ...   \n",
       "502887  885521at3193  15368_0:000e9a    15368        3193  15368_0:000e9a   \n",
       "502888  886813at3193  39947_0:006297    39947        3193  39947_0:006297   \n",
       "502889   36207at3193  39947_0:00634f    39947        3193  39947_0:00634f   \n",
       "502890   16768at3193  39947_0:006629    39947        3193  39947_0:006629   \n",
       "502891   68313at3193  39947_0:006fc4    39947        3193  39947_0:006fc4   \n",
       "\n",
       "              Symbol  \n",
       "0       LOC110434333  \n",
       "1       LOC100276500  \n",
       "2       LOC100275058  \n",
       "3         LOC8071983  \n",
       "4         LOC8086335  \n",
       "...              ...  \n",
       "502887  LOC100834561  \n",
       "502888  LOC107276177  \n",
       "502889    LOC9269479  \n",
       "502890    LOC9269626  \n",
       "502891        orf173  \n",
       "\n",
       "[502892 rows x 6 columns]"
      ]
     },
     "execution_count": 6,
     "metadata": {},
     "output_type": "execute_result"
    }
   ],
   "source": [
    "og_groups"
   ]
  },
  {
   "cell_type": "code",
   "execution_count": 7,
   "metadata": {},
   "outputs": [],
   "source": [
    "ncbi_mapping = pd.read_csv('/data/passala/OrthoDB_data/NCBI_data/merged_ncbi_to_orthodb_fixed_non_genesymbol.csv')"
   ]
  },
  {
   "cell_type": "code",
   "execution_count": 8,
   "metadata": {},
   "outputs": [],
   "source": [
    "# cleaned_og = get_ncbi_clean_og2gene_for_species(4577,og_groups,ncbi_mapping=ncbi_mapping)\n",
    "\n",
    "# current_coconet = CococoNet_reader.read_cococonet(species_1=4577)\n",
    "# in_coconet = cleaned_og.loc[cleaned_og['Symbol'].isin(current_coconet.index)]\n",
    "\n",
    "# dict_version = in_coconet[['Orthogroup','Symbol']].set_index('Symbol').to_dict()\n",
    "# true_dict = dict_version['Orthogroup']\n",
    "# current_coconet.groupby(by = true_dict).mean().groupby(by = true_dict,axis = 1).mean()"
   ]
  },
  {
   "cell_type": "code",
   "execution_count": 9,
   "metadata": {},
   "outputs": [
    {
     "data": {
      "text/html": [
       "<div>\n",
       "<style scoped>\n",
       "    .dataframe tbody tr th:only-of-type {\n",
       "        vertical-align: middle;\n",
       "    }\n",
       "\n",
       "    .dataframe tbody tr th {\n",
       "        vertical-align: top;\n",
       "    }\n",
       "\n",
       "    .dataframe thead th {\n",
       "        text-align: right;\n",
       "    }\n",
       "</style>\n",
       "<table border=\"1\" class=\"dataframe\">\n",
       "  <thead>\n",
       "    <tr style=\"text-align: right;\">\n",
       "      <th></th>\n",
       "      <th>Species</th>\n",
       "      <th>Taxa ID</th>\n",
       "      <th>Common Name</th>\n",
       "    </tr>\n",
       "  </thead>\n",
       "  <tbody>\n",
       "    <tr>\n",
       "      <th>0</th>\n",
       "      <td>Oryza sativa japonica</td>\n",
       "      <td>39947</td>\n",
       "      <td>rice_jp</td>\n",
       "    </tr>\n",
       "    <tr>\n",
       "      <th>1</th>\n",
       "      <td>Malus domestica</td>\n",
       "      <td>3750</td>\n",
       "      <td>apple</td>\n",
       "    </tr>\n",
       "    <tr>\n",
       "      <th>2</th>\n",
       "      <td>Sorghum bicolor</td>\n",
       "      <td>4558</td>\n",
       "      <td>sorghum</td>\n",
       "    </tr>\n",
       "    <tr>\n",
       "      <th>3</th>\n",
       "      <td>Zea mays</td>\n",
       "      <td>4577</td>\n",
       "      <td>maize</td>\n",
       "    </tr>\n",
       "    <tr>\n",
       "      <th>4</th>\n",
       "      <td>Vitis vinifera</td>\n",
       "      <td>29760</td>\n",
       "      <td>grape</td>\n",
       "    </tr>\n",
       "    <tr>\n",
       "      <th>5</th>\n",
       "      <td>Brassica rapa</td>\n",
       "      <td>3711</td>\n",
       "      <td>mustard</td>\n",
       "    </tr>\n",
       "    <tr>\n",
       "      <th>6</th>\n",
       "      <td>Glycine max</td>\n",
       "      <td>3847</td>\n",
       "      <td>soybean</td>\n",
       "    </tr>\n",
       "    <tr>\n",
       "      <th>7</th>\n",
       "      <td>Medicago truncatula</td>\n",
       "      <td>3880</td>\n",
       "      <td>medicago</td>\n",
       "    </tr>\n",
       "    <tr>\n",
       "      <th>8</th>\n",
       "      <td>Nicotiana tabacum</td>\n",
       "      <td>4097</td>\n",
       "      <td>tobacco</td>\n",
       "    </tr>\n",
       "    <tr>\n",
       "      <th>9</th>\n",
       "      <td>Solanum tuberosum</td>\n",
       "      <td>4113</td>\n",
       "      <td>potato</td>\n",
       "    </tr>\n",
       "    <tr>\n",
       "      <th>10</th>\n",
       "      <td>Solanum lycopersicum</td>\n",
       "      <td>4081</td>\n",
       "      <td>tomato</td>\n",
       "    </tr>\n",
       "    <tr>\n",
       "      <th>11</th>\n",
       "      <td>Arabidopsis thaliana</td>\n",
       "      <td>3702</td>\n",
       "      <td>arabidopsis</td>\n",
       "    </tr>\n",
       "    <tr>\n",
       "      <th>12</th>\n",
       "      <td>Arachis hypogaea</td>\n",
       "      <td>3818</td>\n",
       "      <td>peanut</td>\n",
       "    </tr>\n",
       "    <tr>\n",
       "      <th>13</th>\n",
       "      <td>Cucumis sativus</td>\n",
       "      <td>3659</td>\n",
       "      <td>cucumber</td>\n",
       "    </tr>\n",
       "    <tr>\n",
       "      <th>14</th>\n",
       "      <td>Brachypodium distachyon</td>\n",
       "      <td>15368</td>\n",
       "      <td>brome</td>\n",
       "    </tr>\n",
       "  </tbody>\n",
       "</table>\n",
       "</div>"
      ],
      "text/plain": [
       "                    Species  Taxa ID  Common Name\n",
       "0     Oryza sativa japonica    39947      rice_jp\n",
       "1           Malus domestica     3750        apple\n",
       "2           Sorghum bicolor     4558      sorghum\n",
       "3                  Zea mays     4577        maize\n",
       "4            Vitis vinifera    29760        grape\n",
       "5             Brassica rapa     3711      mustard\n",
       "6               Glycine max     3847      soybean\n",
       "7       Medicago truncatula     3880     medicago\n",
       "8         Nicotiana tabacum     4097      tobacco\n",
       "9         Solanum tuberosum     4113       potato\n",
       "10     Solanum lycopersicum     4081       tomato\n",
       "11     Arabidopsis thaliana     3702  arabidopsis\n",
       "12         Arachis hypogaea     3818       peanut\n",
       "13          Cucumis sativus     3659     cucumber\n",
       "14  Brachypodium distachyon    15368        brome"
      ]
     },
     "execution_count": 9,
     "metadata": {},
     "output_type": "execute_result"
    }
   ],
   "source": [
    "species_with_nets_to_run = pd.read_csv('/data/passala/Generated_Tables/Reference_tables/species_for_running_cross_ortho_analysis.csv')\n",
    "species_with_nets_to_run"
   ]
  },
  {
   "cell_type": "code",
   "execution_count": 10,
   "metadata": {},
   "outputs": [],
   "source": [
    "taxa_list = species_with_nets_to_run['Taxa ID'].to_list()\n"
   ]
  },
  {
   "cell_type": "code",
   "execution_count": 11,
   "metadata": {},
   "outputs": [],
   "source": [
    "import pickle\n"
   ]
  },
  {
   "cell_type": "code",
   "execution_count": 12,
   "metadata": {},
   "outputs": [
    {
     "name": "stderr",
     "output_type": "stream",
     "text": [
      "inner_loop:   0%|          | 0/15757 [00:00<?, ?it/s]"
     ]
    },
    {
     "name": "stderr",
     "output_type": "stream",
     "text": [
      "                                                                  \r"
     ]
    },
    {
     "name": "stdout",
     "output_type": "stream",
     "text": [
      "rice_jp\n",
      "Calculating Table\n",
      "Saving\n"
     ]
    },
    {
     "name": "stderr",
     "output_type": "stream",
     "text": [
      "                                                                  \r"
     ]
    },
    {
     "name": "stdout",
     "output_type": "stream",
     "text": [
      "apple\n",
      "Calculating Table\n",
      "Saving\n"
     ]
    },
    {
     "name": "stderr",
     "output_type": "stream",
     "text": [
      "                                                                  \r"
     ]
    },
    {
     "name": "stdout",
     "output_type": "stream",
     "text": [
      "sorghum\n",
      "Calculating Table\n",
      "Saving\n"
     ]
    },
    {
     "name": "stderr",
     "output_type": "stream",
     "text": [
      "                                                                  \r"
     ]
    },
    {
     "name": "stdout",
     "output_type": "stream",
     "text": [
      "maize\n",
      "Calculating Table\n",
      "Saving\n"
     ]
    },
    {
     "name": "stderr",
     "output_type": "stream",
     "text": [
      "                                                                  \r"
     ]
    },
    {
     "name": "stdout",
     "output_type": "stream",
     "text": [
      "grape\n",
      "Calculating Table\n",
      "Saving\n"
     ]
    },
    {
     "name": "stderr",
     "output_type": "stream",
     "text": [
      "                                                                  \r"
     ]
    },
    {
     "name": "stdout",
     "output_type": "stream",
     "text": [
      "mustard\n",
      "Calculating Table\n",
      "Saving\n"
     ]
    },
    {
     "name": "stderr",
     "output_type": "stream",
     "text": [
      "                                                                  \r"
     ]
    },
    {
     "name": "stdout",
     "output_type": "stream",
     "text": [
      "soybean\n",
      "Calculating Table\n",
      "Saving\n"
     ]
    },
    {
     "name": "stderr",
     "output_type": "stream",
     "text": [
      "                                                                  \r"
     ]
    },
    {
     "name": "stdout",
     "output_type": "stream",
     "text": [
      "medicago\n",
      "Calculating Table\n",
      "Saving\n"
     ]
    },
    {
     "name": "stderr",
     "output_type": "stream",
     "text": [
      "                                                                  \r"
     ]
    },
    {
     "name": "stdout",
     "output_type": "stream",
     "text": [
      "tobacco\n",
      "Calculating Table\n",
      "Saving\n"
     ]
    },
    {
     "name": "stderr",
     "output_type": "stream",
     "text": [
      "                                                                  \r"
     ]
    },
    {
     "name": "stdout",
     "output_type": "stream",
     "text": [
      "potato\n",
      "Calculating Table\n",
      "Saving\n"
     ]
    },
    {
     "name": "stderr",
     "output_type": "stream",
     "text": [
      "                                                                  \r"
     ]
    },
    {
     "name": "stdout",
     "output_type": "stream",
     "text": [
      "tomato\n",
      "Calculating Table\n",
      "Saving\n"
     ]
    },
    {
     "name": "stderr",
     "output_type": "stream",
     "text": [
      "                                                                  \r"
     ]
    },
    {
     "name": "stdout",
     "output_type": "stream",
     "text": [
      "arabidopsis\n",
      "Calculating Table\n",
      "Saving\n"
     ]
    },
    {
     "name": "stderr",
     "output_type": "stream",
     "text": [
      "                                                                  \r"
     ]
    },
    {
     "name": "stdout",
     "output_type": "stream",
     "text": [
      "peanut\n",
      "Calculating Table\n",
      "Saving\n"
     ]
    },
    {
     "name": "stderr",
     "output_type": "stream",
     "text": [
      "                                                                  \r"
     ]
    },
    {
     "name": "stdout",
     "output_type": "stream",
     "text": [
      "cucumber\n",
      "Calculating Table\n",
      "Saving\n"
     ]
    },
    {
     "name": "stderr",
     "output_type": "stream",
     "text": [
      "                                                                  \r"
     ]
    },
    {
     "name": "stdout",
     "output_type": "stream",
     "text": [
      "brome\n",
      "Calculating Table\n",
      "Saving\n"
     ]
    }
   ],
   "source": [
    "for species in taxa_list:\n",
    "\n",
    "    cleaned_og = get_ncbi_clean_og2gene_for_species(species,og_groups,ncbi_mapping=ncbi_mapping)\n",
    "    species_name = Name_resolver.species_name_resolver(species,'common')\n",
    "    print(species_name)\n",
    "    current_coconet = CococoNet_reader.read_cococonet(species_1=species)\n",
    "    in_coconet = cleaned_og.loc[cleaned_og['Symbol'].isin(current_coconet.index)]\n",
    "\n",
    "    dict_version = in_coconet[['Orthogroup','Symbol']].set_index('Symbol').to_dict()\n",
    "    true_dict = dict_version['Orthogroup']\n",
    "    print(\"Calculating Table\")\n",
    "    final_coconet = current_coconet.groupby(by = true_dict).mean().groupby(by = true_dict,axis = 1).mean()\n",
    "    print('Saving')\n",
    "    final_coconet.to_csv(f'/data/passala/Post_dump_files/Generated_Tables/Comparing_all_orthogorups_across_plants/Orthogroup_based_coconets_null/{species_name}_merged_cococonet_null.csv')\n",
    "    pickle.dump( final_coconet, open( f'/data/passala/Post_dump_files/Generated_Tables/Comparing_all_orthogorups_across_plants/Orthogroup_based_coconets_null/{species_name}_merged_cococonet_pickle_null.p', \"wb\" ))"
   ]
  },
  {
   "cell_type": "code",
   "execution_count": null,
   "metadata": {},
   "outputs": [],
   "source": []
  }
 ],
 "metadata": {
  "kernelspec": {
   "display_name": "Single_cell_data_fix",
   "language": "python",
   "name": "python3"
  },
  "language_info": {
   "codemirror_mode": {
    "name": "ipython",
    "version": 3
   },
   "file_extension": ".py",
   "mimetype": "text/x-python",
   "name": "python",
   "nbconvert_exporter": "python",
   "pygments_lexer": "ipython3",
   "version": "3.9.13"
  },
  "orig_nbformat": 4
 },
 "nbformat": 4,
 "nbformat_minor": 2
}
