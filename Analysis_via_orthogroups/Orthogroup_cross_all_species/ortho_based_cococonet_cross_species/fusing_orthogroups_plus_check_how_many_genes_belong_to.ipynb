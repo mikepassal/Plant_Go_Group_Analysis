{
 "cells": [
  {
   "cell_type": "code",
   "execution_count": 1,
   "metadata": {},
   "outputs": [],
   "source": [
    "import pandas as pd\n",
    "import CococoNet_reader\n",
    "import numpy as np\n",
    "import tqdm as tq\n",
    "import Name_resolver"
   ]
  },
  {
   "cell_type": "code",
   "execution_count": 2,
   "metadata": {},
   "outputs": [],
   "source": [
    "def get_fc_table(species_1,species_2):\n",
    "    \"\"\"Takes two species common names in any order and returns the N to M table for that pair with species_1 as column 1 and species_2 as column 2 \n",
    "\n",
    "    Args:\n",
    "        species_1 (str): species common name\n",
    "        species_2 (str): species common name\n",
    "\n",
    "    Returns:\n",
    "        str: All N-M gene pairs\n",
    "    \"\"\"\n",
    "    import pandas as pd\n",
    "    import os \n",
    "\n",
    "    list_of_files = os.listdir('/data/passala/Generated_Tables/Comparing_all_orthogorups_across_plants/N_M_FC_tables')\n",
    "    trimmed_to_species_1 = list(filter(lambda x:species_1 in x, list_of_files))\n",
    "    final_file = list(filter(lambda x: species_2 in x, trimmed_to_species_1))[0]\n",
    "    formatted_final_file = f\"/data/passala/Generated_Tables/Comparing_all_orthogorups_across_plants/N_M_FC_tables/{final_file}\"\n",
    "    read_in_file = pd.read_csv(formatted_final_file, index_col= 0)\n",
    "\n",
    "    return read_in_file"
   ]
  },
  {
   "cell_type": "code",
   "execution_count": 3,
   "metadata": {},
   "outputs": [],
   "source": [
    "def get_ncbi_clean_og2gene_for_species(species_1, og2genes_only_cococonet, ncbi_mapping):\n",
    "\n",
    "\n",
    "    species_1_name = Name_resolver.species_name_resolver(species_1,desired_type='common')\n",
    "\n",
    "    first_species_ortho_groups = og2genes_only_cococonet.loc[og2genes_only_cococonet['Species'] == species_1]\n",
    "    shared_orthogroups = first_species_ortho_groups['Orthogroup'].unique()\n",
    "\n",
    "    list_of_orthogene_pds = []\n",
    "    for orthogroup in tq.tqdm(shared_orthogroups,desc ='inner_loop',position= 0,leave = False):\n",
    "        species_1_genes = first_species_ortho_groups['Gene'].loc[first_species_ortho_groups['Orthogroup']== orthogroup].to_list()\n",
    "        all_gene_combos = species_1_genes\n",
    "        current_orthogroup_pd = pd.DataFrame(columns = [f'{species_1_name} OrthoGene'], data = all_gene_combos)\n",
    "        current_orthogroup_pd['Orthogroup'] = orthogroup\n",
    "        list_of_orthogene_pds.append(current_orthogroup_pd)\n",
    "\n",
    "    final_species_lineup = pd.concat(list_of_orthogene_pds)\n",
    "    ncbi_added_once = final_species_lineup.merge(right = ncbi_mapping[['Orthodb Gene','Symbol']], right_on = 'Orthodb Gene',left_on=f'{species_1_name} OrthoGene')\n",
    "    ncbi_added_once_clean= ncbi_added_once.drop(columns = 'Orthodb Gene')\n",
    "    return ncbi_added_once_clean"
   ]
  },
  {
   "cell_type": "code",
   "execution_count": 4,
   "metadata": {},
   "outputs": [
    {
     "data": {
      "text/html": [
       "<div>\n",
       "<style scoped>\n",
       "    .dataframe tbody tr th:only-of-type {\n",
       "        vertical-align: middle;\n",
       "    }\n",
       "\n",
       "    .dataframe tbody tr th {\n",
       "        vertical-align: top;\n",
       "    }\n",
       "\n",
       "    .dataframe thead th {\n",
       "        text-align: right;\n",
       "    }\n",
       "</style>\n",
       "<table border=\"1\" class=\"dataframe\">\n",
       "  <thead>\n",
       "    <tr style=\"text-align: right;\">\n",
       "      <th></th>\n",
       "      <th>Orthogroup</th>\n",
       "      <th>Gene</th>\n",
       "      <th>Species</th>\n",
       "      <th>Ortholevel</th>\n",
       "      <th>Orthodb Gene</th>\n",
       "      <th>Symbol</th>\n",
       "    </tr>\n",
       "  </thead>\n",
       "  <tbody>\n",
       "    <tr>\n",
       "      <th>0</th>\n",
       "      <td>100007at3193</td>\n",
       "      <td>4558_0:003a4f</td>\n",
       "      <td>4558</td>\n",
       "      <td>3193</td>\n",
       "      <td>4558_0:003a4f</td>\n",
       "      <td>LOC110434333</td>\n",
       "    </tr>\n",
       "    <tr>\n",
       "      <th>1</th>\n",
       "      <td>100007at3193</td>\n",
       "      <td>4577_0:004254</td>\n",
       "      <td>4577</td>\n",
       "      <td>3193</td>\n",
       "      <td>4577_0:004254</td>\n",
       "      <td>LOC100276500</td>\n",
       "    </tr>\n",
       "    <tr>\n",
       "      <th>2</th>\n",
       "      <td>100007at3193</td>\n",
       "      <td>4577_0:004e43</td>\n",
       "      <td>4577</td>\n",
       "      <td>3193</td>\n",
       "      <td>4577_0:004e43</td>\n",
       "      <td>LOC100275058</td>\n",
       "    </tr>\n",
       "    <tr>\n",
       "      <th>3</th>\n",
       "      <td>100067at3193</td>\n",
       "      <td>4558_0:00439a</td>\n",
       "      <td>4558</td>\n",
       "      <td>3193</td>\n",
       "      <td>4558_0:00439a</td>\n",
       "      <td>LOC8071983</td>\n",
       "    </tr>\n",
       "    <tr>\n",
       "      <th>4</th>\n",
       "      <td>100085at3193</td>\n",
       "      <td>4558_0:002fd8</td>\n",
       "      <td>4558</td>\n",
       "      <td>3193</td>\n",
       "      <td>4558_0:002fd8</td>\n",
       "      <td>LOC8086335</td>\n",
       "    </tr>\n",
       "    <tr>\n",
       "      <th>...</th>\n",
       "      <td>...</td>\n",
       "      <td>...</td>\n",
       "      <td>...</td>\n",
       "      <td>...</td>\n",
       "      <td>...</td>\n",
       "      <td>...</td>\n",
       "    </tr>\n",
       "    <tr>\n",
       "      <th>502887</th>\n",
       "      <td>9969at3193</td>\n",
       "      <td>15368_0:000e9a</td>\n",
       "      <td>15368</td>\n",
       "      <td>3193</td>\n",
       "      <td>15368_0:000e9a</td>\n",
       "      <td>LOC100834561</td>\n",
       "    </tr>\n",
       "    <tr>\n",
       "      <th>502888</th>\n",
       "      <td>99917at3193</td>\n",
       "      <td>39947_0:006297</td>\n",
       "      <td>39947</td>\n",
       "      <td>3193</td>\n",
       "      <td>39947_0:006297</td>\n",
       "      <td>LOC107276177</td>\n",
       "    </tr>\n",
       "    <tr>\n",
       "      <th>502889</th>\n",
       "      <td>99917at3193</td>\n",
       "      <td>39947_0:00634f</td>\n",
       "      <td>39947</td>\n",
       "      <td>3193</td>\n",
       "      <td>39947_0:00634f</td>\n",
       "      <td>LOC9269479</td>\n",
       "    </tr>\n",
       "    <tr>\n",
       "      <th>502890</th>\n",
       "      <td>99917at3193</td>\n",
       "      <td>39947_0:006629</td>\n",
       "      <td>39947</td>\n",
       "      <td>3193</td>\n",
       "      <td>39947_0:006629</td>\n",
       "      <td>LOC9269626</td>\n",
       "    </tr>\n",
       "    <tr>\n",
       "      <th>502891</th>\n",
       "      <td>99999at3193</td>\n",
       "      <td>39947_0:006fc4</td>\n",
       "      <td>39947</td>\n",
       "      <td>3193</td>\n",
       "      <td>39947_0:006fc4</td>\n",
       "      <td>orf173</td>\n",
       "    </tr>\n",
       "  </tbody>\n",
       "</table>\n",
       "<p>502892 rows × 6 columns</p>\n",
       "</div>"
      ],
      "text/plain": [
       "          Orthogroup            Gene  Species  Ortholevel    Orthodb Gene  \\\n",
       "0       100007at3193   4558_0:003a4f     4558        3193   4558_0:003a4f   \n",
       "1       100007at3193   4577_0:004254     4577        3193   4577_0:004254   \n",
       "2       100007at3193   4577_0:004e43     4577        3193   4577_0:004e43   \n",
       "3       100067at3193   4558_0:00439a     4558        3193   4558_0:00439a   \n",
       "4       100085at3193   4558_0:002fd8     4558        3193   4558_0:002fd8   \n",
       "...              ...             ...      ...         ...             ...   \n",
       "502887    9969at3193  15368_0:000e9a    15368        3193  15368_0:000e9a   \n",
       "502888   99917at3193  39947_0:006297    39947        3193  39947_0:006297   \n",
       "502889   99917at3193  39947_0:00634f    39947        3193  39947_0:00634f   \n",
       "502890   99917at3193  39947_0:006629    39947        3193  39947_0:006629   \n",
       "502891   99999at3193  39947_0:006fc4    39947        3193  39947_0:006fc4   \n",
       "\n",
       "              Symbol  \n",
       "0       LOC110434333  \n",
       "1       LOC100276500  \n",
       "2       LOC100275058  \n",
       "3         LOC8071983  \n",
       "4         LOC8086335  \n",
       "...              ...  \n",
       "502887  LOC100834561  \n",
       "502888  LOC107276177  \n",
       "502889    LOC9269479  \n",
       "502890    LOC9269626  \n",
       "502891        orf173  \n",
       "\n",
       "[502892 rows x 6 columns]"
      ]
     },
     "execution_count": 4,
     "metadata": {},
     "output_type": "execute_result"
    }
   ],
   "source": [
    "og_groups = pd.read_csv('/data/passala/OrthoDB_data/NCBI_data/og_2_Genes_with_ncbi_symbol.csv')\n",
    "og_groups"
   ]
  },
  {
   "cell_type": "code",
   "execution_count": 5,
   "metadata": {},
   "outputs": [],
   "source": [
    "ncbi_mapping = pd.read_csv('/data/passala/OrthoDB_data/NCBI_data/merged_ncbi_to_orthodb_fixed_non_genesymbol.csv')"
   ]
  },
  {
   "cell_type": "code",
   "execution_count": 7,
   "metadata": {},
   "outputs": [
    {
     "name": "stderr",
     "output_type": "stream",
     "text": [
      "inner_loop:   0%|          | 0/14596 [00:00<?, ?it/s]"
     ]
    },
    {
     "name": "stderr",
     "output_type": "stream",
     "text": [
      "                                                                  \r"
     ]
    },
    {
     "ename": "KeyboardInterrupt",
     "evalue": "",
     "output_type": "error",
     "traceback": [
      "\u001b[0;31m---------------------------------------------------------------------------\u001b[0m",
      "\u001b[0;31mKeyboardInterrupt\u001b[0m                         Traceback (most recent call last)",
      "\u001b[1;32m/data/passala/git/Plant_Go_Group_Analysis/Analysis_via_orthogroups/Orthogroup_cross_all_species/ortho_based_cococonet_cross_species/fusing_orthogroups_plus_check_how_many_genes_belong_to.ipynb Cell 6\u001b[0m in \u001b[0;36m<cell line: 8>\u001b[0;34m()\u001b[0m\n\u001b[1;32m      <a href='vscode-notebook-cell://ssh-remote%2Brugen20/data/passala/git/Plant_Go_Group_Analysis/Analysis_via_orthogroups/Orthogroup_cross_all_species/ortho_based_cococonet_cross_species/fusing_orthogroups_plus_check_how_many_genes_belong_to.ipynb#W5sdnNjb2RlLXJlbW90ZQ%3D%3D?line=5'>6</a>\u001b[0m dict_version \u001b[39m=\u001b[39m in_coconet[[\u001b[39m'\u001b[39m\u001b[39mOrthogroup\u001b[39m\u001b[39m'\u001b[39m,\u001b[39m'\u001b[39m\u001b[39mSymbol\u001b[39m\u001b[39m'\u001b[39m]]\u001b[39m.\u001b[39mset_index(\u001b[39m'\u001b[39m\u001b[39mSymbol\u001b[39m\u001b[39m'\u001b[39m)\u001b[39m.\u001b[39mto_dict()\n\u001b[1;32m      <a href='vscode-notebook-cell://ssh-remote%2Brugen20/data/passala/git/Plant_Go_Group_Analysis/Analysis_via_orthogroups/Orthogroup_cross_all_species/ortho_based_cococonet_cross_species/fusing_orthogroups_plus_check_how_many_genes_belong_to.ipynb#W5sdnNjb2RlLXJlbW90ZQ%3D%3D?line=6'>7</a>\u001b[0m true_dict \u001b[39m=\u001b[39m dict_version[\u001b[39m'\u001b[39m\u001b[39mOrthogroup\u001b[39m\u001b[39m'\u001b[39m]\n\u001b[0;32m----> <a href='vscode-notebook-cell://ssh-remote%2Brugen20/data/passala/git/Plant_Go_Group_Analysis/Analysis_via_orthogroups/Orthogroup_cross_all_species/ortho_based_cococonet_cross_species/fusing_orthogroups_plus_check_how_many_genes_belong_to.ipynb#W5sdnNjb2RlLXJlbW90ZQ%3D%3D?line=7'>8</a>\u001b[0m current_coconet\u001b[39m.\u001b[39;49mgroupby(by \u001b[39m=\u001b[39;49m true_dict)\u001b[39m.\u001b[39;49mmean()\u001b[39m.\u001b[39;49mgroupby(by \u001b[39m=\u001b[39;49m true_dict,axis \u001b[39m=\u001b[39;49m \u001b[39m1\u001b[39;49m)\u001b[39m.\u001b[39;49mmean()\n",
      "File \u001b[0;32m~/miniconda3/envs/Single_cell_data_fix/lib/python3.9/site-packages/pandas/core/groupby/groupby.py:2183\u001b[0m, in \u001b[0;36mGroupBy.mean\u001b[0;34m(self, numeric_only, engine, engine_kwargs)\u001b[0m\n\u001b[1;32m   2181\u001b[0m     \u001b[39mreturn\u001b[39;00m \u001b[39mself\u001b[39m\u001b[39m.\u001b[39m_numba_agg_general(sliding_mean, engine_kwargs)\n\u001b[1;32m   2182\u001b[0m \u001b[39melse\u001b[39;00m:\n\u001b[0;32m-> 2183\u001b[0m     result \u001b[39m=\u001b[39m \u001b[39mself\u001b[39;49m\u001b[39m.\u001b[39;49m_cython_agg_general(\n\u001b[1;32m   2184\u001b[0m         \u001b[39m\"\u001b[39;49m\u001b[39mmean\u001b[39;49m\u001b[39m\"\u001b[39;49m,\n\u001b[1;32m   2185\u001b[0m         alt\u001b[39m=\u001b[39;49m\u001b[39mlambda\u001b[39;49;00m x: Series(x)\u001b[39m.\u001b[39;49mmean(numeric_only\u001b[39m=\u001b[39;49mnumeric_only_bool),\n\u001b[1;32m   2186\u001b[0m         numeric_only\u001b[39m=\u001b[39;49mnumeric_only,\n\u001b[1;32m   2187\u001b[0m     )\n\u001b[1;32m   2188\u001b[0m     \u001b[39mreturn\u001b[39;00m result\u001b[39m.\u001b[39m__finalize__(\u001b[39mself\u001b[39m\u001b[39m.\u001b[39mobj, method\u001b[39m=\u001b[39m\u001b[39m\"\u001b[39m\u001b[39mgroupby\u001b[39m\u001b[39m\"\u001b[39m)\n",
      "File \u001b[0;32m~/miniconda3/envs/Single_cell_data_fix/lib/python3.9/site-packages/pandas/core/groupby/groupby.py:1810\u001b[0m, in \u001b[0;36mGroupBy._cython_agg_general\u001b[0;34m(self, how, alt, numeric_only, min_count, ignore_failures, **kwargs)\u001b[0m\n\u001b[1;32m   1806\u001b[0m     \u001b[39mreturn\u001b[39;00m result\n\u001b[1;32m   1808\u001b[0m \u001b[39m# TypeError -> we may have an exception in trying to aggregate\u001b[39;00m\n\u001b[1;32m   1809\u001b[0m \u001b[39m#  continue and exclude the block\u001b[39;00m\n\u001b[0;32m-> 1810\u001b[0m new_mgr \u001b[39m=\u001b[39m data\u001b[39m.\u001b[39;49mgrouped_reduce(array_func, ignore_failures\u001b[39m=\u001b[39;49mignore_failures)\n\u001b[1;32m   1812\u001b[0m \u001b[39mif\u001b[39;00m \u001b[39mnot\u001b[39;00m is_ser \u001b[39mand\u001b[39;00m \u001b[39mlen\u001b[39m(new_mgr) \u001b[39m<\u001b[39m orig_len:\n\u001b[1;32m   1813\u001b[0m     warn_dropping_nuisance_columns_deprecated(\u001b[39mtype\u001b[39m(\u001b[39mself\u001b[39m), how, numeric_only)\n",
      "File \u001b[0;32m~/miniconda3/envs/Single_cell_data_fix/lib/python3.9/site-packages/pandas/core/internals/managers.py:1527\u001b[0m, in \u001b[0;36mBlockManager.grouped_reduce\u001b[0;34m(self, func, ignore_failures)\u001b[0m\n\u001b[1;32m   1525\u001b[0m \u001b[39melse\u001b[39;00m:\n\u001b[1;32m   1526\u001b[0m     \u001b[39mtry\u001b[39;00m:\n\u001b[0;32m-> 1527\u001b[0m         applied \u001b[39m=\u001b[39m blk\u001b[39m.\u001b[39;49mapply(func)\n\u001b[1;32m   1528\u001b[0m     \u001b[39mexcept\u001b[39;00m (\u001b[39mTypeError\u001b[39;00m, \u001b[39mNotImplementedError\u001b[39;00m):\n\u001b[1;32m   1529\u001b[0m         \u001b[39mif\u001b[39;00m \u001b[39mnot\u001b[39;00m ignore_failures:\n",
      "File \u001b[0;32m~/miniconda3/envs/Single_cell_data_fix/lib/python3.9/site-packages/pandas/core/internals/blocks.py:351\u001b[0m, in \u001b[0;36mBlock.apply\u001b[0;34m(self, func, **kwargs)\u001b[0m\n\u001b[1;32m    345\u001b[0m \u001b[39m@final\u001b[39m\n\u001b[1;32m    346\u001b[0m \u001b[39mdef\u001b[39;00m \u001b[39mapply\u001b[39m(\u001b[39mself\u001b[39m, func, \u001b[39m*\u001b[39m\u001b[39m*\u001b[39mkwargs) \u001b[39m-\u001b[39m\u001b[39m>\u001b[39m \u001b[39mlist\u001b[39m[Block]:\n\u001b[1;32m    347\u001b[0m     \u001b[39m\"\"\"\u001b[39;00m\n\u001b[1;32m    348\u001b[0m \u001b[39m    apply the function to my values; return a block if we are not\u001b[39;00m\n\u001b[1;32m    349\u001b[0m \u001b[39m    one\u001b[39;00m\n\u001b[1;32m    350\u001b[0m \u001b[39m    \"\"\"\u001b[39;00m\n\u001b[0;32m--> 351\u001b[0m     result \u001b[39m=\u001b[39m func(\u001b[39mself\u001b[39;49m\u001b[39m.\u001b[39;49mvalues, \u001b[39m*\u001b[39;49m\u001b[39m*\u001b[39;49mkwargs)\n\u001b[1;32m    353\u001b[0m     \u001b[39mreturn\u001b[39;00m \u001b[39mself\u001b[39m\u001b[39m.\u001b[39m_split_op_result(result)\n",
      "File \u001b[0;32m~/miniconda3/envs/Single_cell_data_fix/lib/python3.9/site-packages/pandas/core/groupby/groupby.py:1791\u001b[0m, in \u001b[0;36mGroupBy._cython_agg_general.<locals>.array_func\u001b[0;34m(values)\u001b[0m\n\u001b[1;32m   1789\u001b[0m \u001b[39mdef\u001b[39;00m \u001b[39marray_func\u001b[39m(values: ArrayLike) \u001b[39m-\u001b[39m\u001b[39m>\u001b[39m ArrayLike:\n\u001b[1;32m   1790\u001b[0m     \u001b[39mtry\u001b[39;00m:\n\u001b[0;32m-> 1791\u001b[0m         result \u001b[39m=\u001b[39m \u001b[39mself\u001b[39;49m\u001b[39m.\u001b[39;49mgrouper\u001b[39m.\u001b[39;49m_cython_operation(\n\u001b[1;32m   1792\u001b[0m             \u001b[39m\"\u001b[39;49m\u001b[39maggregate\u001b[39;49m\u001b[39m\"\u001b[39;49m,\n\u001b[1;32m   1793\u001b[0m             values,\n\u001b[1;32m   1794\u001b[0m             how,\n\u001b[1;32m   1795\u001b[0m             axis\u001b[39m=\u001b[39;49mdata\u001b[39m.\u001b[39;49mndim \u001b[39m-\u001b[39;49m \u001b[39m1\u001b[39;49m,\n\u001b[1;32m   1796\u001b[0m             min_count\u001b[39m=\u001b[39;49mmin_count,\n\u001b[1;32m   1797\u001b[0m             \u001b[39m*\u001b[39;49m\u001b[39m*\u001b[39;49mkwargs,\n\u001b[1;32m   1798\u001b[0m         )\n\u001b[1;32m   1799\u001b[0m     \u001b[39mexcept\u001b[39;00m \u001b[39mNotImplementedError\u001b[39;00m:\n\u001b[1;32m   1800\u001b[0m         \u001b[39m# generally if we have numeric_only=False\u001b[39;00m\n\u001b[1;32m   1801\u001b[0m         \u001b[39m# and non-applicable functions\u001b[39;00m\n\u001b[1;32m   1802\u001b[0m         \u001b[39m# try to python agg\u001b[39;00m\n\u001b[1;32m   1803\u001b[0m         \u001b[39m# TODO: shouldn't min_count matter?\u001b[39;00m\n\u001b[1;32m   1804\u001b[0m         result \u001b[39m=\u001b[39m \u001b[39mself\u001b[39m\u001b[39m.\u001b[39m_agg_py_fallback(values, ndim\u001b[39m=\u001b[39mdata\u001b[39m.\u001b[39mndim, alt\u001b[39m=\u001b[39malt)\n",
      "File \u001b[0;32m~/miniconda3/envs/Single_cell_data_fix/lib/python3.9/site-packages/pandas/core/groupby/ops.py:1039\u001b[0m, in \u001b[0;36mBaseGrouper._cython_operation\u001b[0;34m(self, kind, values, how, axis, min_count, **kwargs)\u001b[0m\n\u001b[1;32m   1037\u001b[0m ids, _, _ \u001b[39m=\u001b[39m \u001b[39mself\u001b[39m\u001b[39m.\u001b[39mgroup_info\n\u001b[1;32m   1038\u001b[0m ngroups \u001b[39m=\u001b[39m \u001b[39mself\u001b[39m\u001b[39m.\u001b[39mngroups\n\u001b[0;32m-> 1039\u001b[0m \u001b[39mreturn\u001b[39;00m cy_op\u001b[39m.\u001b[39;49mcython_operation(\n\u001b[1;32m   1040\u001b[0m     values\u001b[39m=\u001b[39;49mvalues,\n\u001b[1;32m   1041\u001b[0m     axis\u001b[39m=\u001b[39;49maxis,\n\u001b[1;32m   1042\u001b[0m     min_count\u001b[39m=\u001b[39;49mmin_count,\n\u001b[1;32m   1043\u001b[0m     comp_ids\u001b[39m=\u001b[39;49mids,\n\u001b[1;32m   1044\u001b[0m     ngroups\u001b[39m=\u001b[39;49mngroups,\n\u001b[1;32m   1045\u001b[0m     \u001b[39m*\u001b[39;49m\u001b[39m*\u001b[39;49mkwargs,\n\u001b[1;32m   1046\u001b[0m )\n",
      "File \u001b[0;32m~/miniconda3/envs/Single_cell_data_fix/lib/python3.9/site-packages/pandas/core/groupby/ops.py:708\u001b[0m, in \u001b[0;36mWrappedCythonOp.cython_operation\u001b[0;34m(self, values, axis, min_count, comp_ids, ngroups, **kwargs)\u001b[0m\n\u001b[1;32m    698\u001b[0m \u001b[39mif\u001b[39;00m \u001b[39mnot\u001b[39;00m \u001b[39misinstance\u001b[39m(values, np\u001b[39m.\u001b[39mndarray):\n\u001b[1;32m    699\u001b[0m     \u001b[39m# i.e. ExtensionArray\u001b[39;00m\n\u001b[1;32m    700\u001b[0m     \u001b[39mreturn\u001b[39;00m \u001b[39mself\u001b[39m\u001b[39m.\u001b[39m_ea_wrap_cython_operation(\n\u001b[1;32m    701\u001b[0m         values,\n\u001b[1;32m    702\u001b[0m         min_count\u001b[39m=\u001b[39mmin_count,\n\u001b[0;32m   (...)\u001b[0m\n\u001b[1;32m    705\u001b[0m         \u001b[39m*\u001b[39m\u001b[39m*\u001b[39mkwargs,\n\u001b[1;32m    706\u001b[0m     )\n\u001b[0;32m--> 708\u001b[0m \u001b[39mreturn\u001b[39;00m \u001b[39mself\u001b[39;49m\u001b[39m.\u001b[39;49m_cython_op_ndim_compat(\n\u001b[1;32m    709\u001b[0m     values,\n\u001b[1;32m    710\u001b[0m     min_count\u001b[39m=\u001b[39;49mmin_count,\n\u001b[1;32m    711\u001b[0m     ngroups\u001b[39m=\u001b[39;49mngroups,\n\u001b[1;32m    712\u001b[0m     comp_ids\u001b[39m=\u001b[39;49mcomp_ids,\n\u001b[1;32m    713\u001b[0m     mask\u001b[39m=\u001b[39;49m\u001b[39mNone\u001b[39;49;00m,\n\u001b[1;32m    714\u001b[0m     \u001b[39m*\u001b[39;49m\u001b[39m*\u001b[39;49mkwargs,\n\u001b[1;32m    715\u001b[0m )\n",
      "File \u001b[0;32m~/miniconda3/envs/Single_cell_data_fix/lib/python3.9/site-packages/pandas/core/groupby/ops.py:527\u001b[0m, in \u001b[0;36mWrappedCythonOp._cython_op_ndim_compat\u001b[0;34m(self, values, min_count, ngroups, comp_ids, mask, result_mask, **kwargs)\u001b[0m\n\u001b[1;32m    524\u001b[0m     \u001b[39m# otherwise we have OHLC\u001b[39;00m\n\u001b[1;32m    525\u001b[0m     \u001b[39mreturn\u001b[39;00m res\u001b[39m.\u001b[39mT\n\u001b[0;32m--> 527\u001b[0m \u001b[39mreturn\u001b[39;00m \u001b[39mself\u001b[39;49m\u001b[39m.\u001b[39;49m_call_cython_op(\n\u001b[1;32m    528\u001b[0m     values,\n\u001b[1;32m    529\u001b[0m     min_count\u001b[39m=\u001b[39;49mmin_count,\n\u001b[1;32m    530\u001b[0m     ngroups\u001b[39m=\u001b[39;49mngroups,\n\u001b[1;32m    531\u001b[0m     comp_ids\u001b[39m=\u001b[39;49mcomp_ids,\n\u001b[1;32m    532\u001b[0m     mask\u001b[39m=\u001b[39;49mmask,\n\u001b[1;32m    533\u001b[0m     result_mask\u001b[39m=\u001b[39;49mresult_mask,\n\u001b[1;32m    534\u001b[0m     \u001b[39m*\u001b[39;49m\u001b[39m*\u001b[39;49mkwargs,\n\u001b[1;32m    535\u001b[0m )\n",
      "File \u001b[0;32m~/miniconda3/envs/Single_cell_data_fix/lib/python3.9/site-packages/pandas/core/groupby/ops.py:579\u001b[0m, in \u001b[0;36mWrappedCythonOp._call_cython_op\u001b[0;34m(self, values, min_count, ngroups, comp_ids, mask, result_mask, **kwargs)\u001b[0m\n\u001b[1;32m    577\u001b[0m counts \u001b[39m=\u001b[39m np\u001b[39m.\u001b[39mzeros(ngroups, dtype\u001b[39m=\u001b[39mnp\u001b[39m.\u001b[39mint64)\n\u001b[1;32m    578\u001b[0m \u001b[39mif\u001b[39;00m \u001b[39mself\u001b[39m\u001b[39m.\u001b[39mhow \u001b[39min\u001b[39;00m [\u001b[39m\"\u001b[39m\u001b[39mmin\u001b[39m\u001b[39m\"\u001b[39m, \u001b[39m\"\u001b[39m\u001b[39mmax\u001b[39m\u001b[39m\"\u001b[39m, \u001b[39m\"\u001b[39m\u001b[39mmean\u001b[39m\u001b[39m\"\u001b[39m, \u001b[39m\"\u001b[39m\u001b[39mlast\u001b[39m\u001b[39m\"\u001b[39m, \u001b[39m\"\u001b[39m\u001b[39mfirst\u001b[39m\u001b[39m\"\u001b[39m]:\n\u001b[0;32m--> 579\u001b[0m     func(\n\u001b[1;32m    580\u001b[0m         out\u001b[39m=\u001b[39;49mresult,\n\u001b[1;32m    581\u001b[0m         counts\u001b[39m=\u001b[39;49mcounts,\n\u001b[1;32m    582\u001b[0m         values\u001b[39m=\u001b[39;49mvalues,\n\u001b[1;32m    583\u001b[0m         labels\u001b[39m=\u001b[39;49mcomp_ids,\n\u001b[1;32m    584\u001b[0m         min_count\u001b[39m=\u001b[39;49mmin_count,\n\u001b[1;32m    585\u001b[0m         mask\u001b[39m=\u001b[39;49mmask,\n\u001b[1;32m    586\u001b[0m         result_mask\u001b[39m=\u001b[39;49mresult_mask,\n\u001b[1;32m    587\u001b[0m         is_datetimelike\u001b[39m=\u001b[39;49mis_datetimelike,\n\u001b[1;32m    588\u001b[0m     )\n\u001b[1;32m    589\u001b[0m \u001b[39melif\u001b[39;00m \u001b[39mself\u001b[39m\u001b[39m.\u001b[39mhow \u001b[39min\u001b[39;00m [\u001b[39m\"\u001b[39m\u001b[39msum\u001b[39m\u001b[39m\"\u001b[39m]:\n\u001b[1;32m    590\u001b[0m     \u001b[39m# We support datetimelike\u001b[39;00m\n\u001b[1;32m    591\u001b[0m     func(\n\u001b[1;32m    592\u001b[0m         out\u001b[39m=\u001b[39mresult,\n\u001b[1;32m    593\u001b[0m         counts\u001b[39m=\u001b[39mcounts,\n\u001b[0;32m   (...)\u001b[0m\n\u001b[1;32m    599\u001b[0m         is_datetimelike\u001b[39m=\u001b[39mis_datetimelike,\n\u001b[1;32m    600\u001b[0m     )\n",
      "\u001b[0;31mKeyboardInterrupt\u001b[0m: "
     ]
    }
   ],
   "source": [
    "# cleaned_og = get_ncbi_clean_og2gene_for_species(4577,og_groups,ncbi_mapping=ncbi_mapping)\n",
    "\n",
    "# current_coconet = CococoNet_reader.read_cococonet(species_1=4577)\n",
    "# in_coconet = cleaned_og.loc[cleaned_og['Symbol'].isin(current_coconet.index)]\n",
    "\n",
    "# dict_version = in_coconet[['Orthogroup','Symbol']].set_index('Symbol').to_dict()\n",
    "# true_dict = dict_version['Orthogroup']\n",
    "# current_coconet.groupby(by = true_dict).mean().groupby(by = true_dict,axis = 1).mean()"
   ]
  },
  {
   "cell_type": "code",
   "execution_count": 6,
   "metadata": {},
   "outputs": [
    {
     "data": {
      "text/html": [
       "<div>\n",
       "<style scoped>\n",
       "    .dataframe tbody tr th:only-of-type {\n",
       "        vertical-align: middle;\n",
       "    }\n",
       "\n",
       "    .dataframe tbody tr th {\n",
       "        vertical-align: top;\n",
       "    }\n",
       "\n",
       "    .dataframe thead th {\n",
       "        text-align: right;\n",
       "    }\n",
       "</style>\n",
       "<table border=\"1\" class=\"dataframe\">\n",
       "  <thead>\n",
       "    <tr style=\"text-align: right;\">\n",
       "      <th></th>\n",
       "      <th>Species</th>\n",
       "      <th>Taxa ID</th>\n",
       "      <th>Common Name</th>\n",
       "    </tr>\n",
       "  </thead>\n",
       "  <tbody>\n",
       "    <tr>\n",
       "      <th>0</th>\n",
       "      <td>Oryza sativa japonica</td>\n",
       "      <td>39947</td>\n",
       "      <td>rice_jp</td>\n",
       "    </tr>\n",
       "    <tr>\n",
       "      <th>1</th>\n",
       "      <td>Malus domestica</td>\n",
       "      <td>3750</td>\n",
       "      <td>apple</td>\n",
       "    </tr>\n",
       "    <tr>\n",
       "      <th>2</th>\n",
       "      <td>Sorghum bicolor</td>\n",
       "      <td>4558</td>\n",
       "      <td>sorghum</td>\n",
       "    </tr>\n",
       "    <tr>\n",
       "      <th>3</th>\n",
       "      <td>Zea mays</td>\n",
       "      <td>4577</td>\n",
       "      <td>maize</td>\n",
       "    </tr>\n",
       "    <tr>\n",
       "      <th>4</th>\n",
       "      <td>Vitis vinifera</td>\n",
       "      <td>29760</td>\n",
       "      <td>grape</td>\n",
       "    </tr>\n",
       "    <tr>\n",
       "      <th>5</th>\n",
       "      <td>Brassica rapa</td>\n",
       "      <td>3711</td>\n",
       "      <td>mustard</td>\n",
       "    </tr>\n",
       "    <tr>\n",
       "      <th>6</th>\n",
       "      <td>Glycine max</td>\n",
       "      <td>3847</td>\n",
       "      <td>soybean</td>\n",
       "    </tr>\n",
       "    <tr>\n",
       "      <th>7</th>\n",
       "      <td>Medicago truncatula</td>\n",
       "      <td>3880</td>\n",
       "      <td>medicago</td>\n",
       "    </tr>\n",
       "    <tr>\n",
       "      <th>8</th>\n",
       "      <td>Nicotiana tabacum</td>\n",
       "      <td>4097</td>\n",
       "      <td>tobacco</td>\n",
       "    </tr>\n",
       "    <tr>\n",
       "      <th>9</th>\n",
       "      <td>Solanum tuberosum</td>\n",
       "      <td>4113</td>\n",
       "      <td>potato</td>\n",
       "    </tr>\n",
       "    <tr>\n",
       "      <th>10</th>\n",
       "      <td>Solanum lycopersicum</td>\n",
       "      <td>4081</td>\n",
       "      <td>tomato</td>\n",
       "    </tr>\n",
       "    <tr>\n",
       "      <th>11</th>\n",
       "      <td>Arabidopsis thaliana</td>\n",
       "      <td>3702</td>\n",
       "      <td>arabidopsis</td>\n",
       "    </tr>\n",
       "    <tr>\n",
       "      <th>12</th>\n",
       "      <td>Arachis hypogaea</td>\n",
       "      <td>3818</td>\n",
       "      <td>peanut</td>\n",
       "    </tr>\n",
       "    <tr>\n",
       "      <th>13</th>\n",
       "      <td>Cucumis sativus</td>\n",
       "      <td>3659</td>\n",
       "      <td>cucumber</td>\n",
       "    </tr>\n",
       "    <tr>\n",
       "      <th>14</th>\n",
       "      <td>Brachypodium distachyon</td>\n",
       "      <td>15368</td>\n",
       "      <td>brome</td>\n",
       "    </tr>\n",
       "  </tbody>\n",
       "</table>\n",
       "</div>"
      ],
      "text/plain": [
       "                    Species  Taxa ID  Common Name\n",
       "0     Oryza sativa japonica    39947      rice_jp\n",
       "1           Malus domestica     3750        apple\n",
       "2           Sorghum bicolor     4558      sorghum\n",
       "3                  Zea mays     4577        maize\n",
       "4            Vitis vinifera    29760        grape\n",
       "5             Brassica rapa     3711      mustard\n",
       "6               Glycine max     3847      soybean\n",
       "7       Medicago truncatula     3880     medicago\n",
       "8         Nicotiana tabacum     4097      tobacco\n",
       "9         Solanum tuberosum     4113       potato\n",
       "10     Solanum lycopersicum     4081       tomato\n",
       "11     Arabidopsis thaliana     3702  arabidopsis\n",
       "12         Arachis hypogaea     3818       peanut\n",
       "13          Cucumis sativus     3659     cucumber\n",
       "14  Brachypodium distachyon    15368        brome"
      ]
     },
     "execution_count": 6,
     "metadata": {},
     "output_type": "execute_result"
    }
   ],
   "source": [
    "species_with_nets_to_run = pd.read_csv('/data/passala/Generated_Tables/Reference_tables/species_for_running_cross_ortho_analysis.csv')\n",
    "species_with_nets_to_run"
   ]
  },
  {
   "cell_type": "code",
   "execution_count": 7,
   "metadata": {},
   "outputs": [],
   "source": [
    "taxa_list = species_with_nets_to_run['Taxa ID'].to_list()\n"
   ]
  },
  {
   "cell_type": "code",
   "execution_count": 8,
   "metadata": {},
   "outputs": [],
   "source": [
    "import pickle\n"
   ]
  },
  {
   "cell_type": "code",
   "execution_count": 11,
   "metadata": {},
   "outputs": [
    {
     "name": "stderr",
     "output_type": "stream",
     "text": [
      "inner_loop:   0%|          | 0/15757 [00:00<?, ?it/s]"
     ]
    },
    {
     "name": "stderr",
     "output_type": "stream",
     "text": [
      "                                                                  \r"
     ]
    },
    {
     "name": "stdout",
     "output_type": "stream",
     "text": [
      "rice_jp\n",
      "Calculating Table\n",
      "Saving\n"
     ]
    },
    {
     "name": "stderr",
     "output_type": "stream",
     "text": [
      "                                                                  \r"
     ]
    },
    {
     "name": "stdout",
     "output_type": "stream",
     "text": [
      "apple\n",
      "Calculating Table\n",
      "Saving\n"
     ]
    },
    {
     "name": "stderr",
     "output_type": "stream",
     "text": [
      "                                                                  \r"
     ]
    },
    {
     "name": "stdout",
     "output_type": "stream",
     "text": [
      "sorghum\n",
      "Calculating Table\n",
      "Saving\n"
     ]
    },
    {
     "name": "stderr",
     "output_type": "stream",
     "text": [
      "                                                                  \r"
     ]
    },
    {
     "name": "stdout",
     "output_type": "stream",
     "text": [
      "maize\n",
      "Calculating Table\n",
      "Saving\n"
     ]
    },
    {
     "name": "stderr",
     "output_type": "stream",
     "text": [
      "                                                                  \r"
     ]
    },
    {
     "name": "stdout",
     "output_type": "stream",
     "text": [
      "grape\n",
      "Calculating Table\n",
      "Saving\n"
     ]
    },
    {
     "name": "stderr",
     "output_type": "stream",
     "text": [
      "                                                                  \r"
     ]
    },
    {
     "name": "stdout",
     "output_type": "stream",
     "text": [
      "mustard\n",
      "Calculating Table\n",
      "Saving\n"
     ]
    },
    {
     "name": "stderr",
     "output_type": "stream",
     "text": [
      "                                                                  \r"
     ]
    },
    {
     "name": "stdout",
     "output_type": "stream",
     "text": [
      "soybean\n",
      "Calculating Table\n",
      "Saving\n"
     ]
    },
    {
     "name": "stderr",
     "output_type": "stream",
     "text": [
      "                                                                  \r"
     ]
    },
    {
     "name": "stdout",
     "output_type": "stream",
     "text": [
      "medicago\n",
      "Calculating Table\n",
      "Saving\n"
     ]
    },
    {
     "name": "stderr",
     "output_type": "stream",
     "text": [
      "                                                                  \r"
     ]
    },
    {
     "name": "stdout",
     "output_type": "stream",
     "text": [
      "tobacco\n",
      "Calculating Table\n",
      "Saving\n"
     ]
    },
    {
     "name": "stderr",
     "output_type": "stream",
     "text": [
      "                                                                  \r"
     ]
    },
    {
     "name": "stdout",
     "output_type": "stream",
     "text": [
      "potato\n",
      "Calculating Table\n",
      "Saving\n"
     ]
    },
    {
     "name": "stderr",
     "output_type": "stream",
     "text": [
      "                                                                  \r"
     ]
    },
    {
     "name": "stdout",
     "output_type": "stream",
     "text": [
      "tomato\n",
      "Calculating Table\n",
      "Saving\n"
     ]
    },
    {
     "name": "stderr",
     "output_type": "stream",
     "text": [
      "                                                                  \r"
     ]
    },
    {
     "name": "stdout",
     "output_type": "stream",
     "text": [
      "arabidopsis\n",
      "Calculating Table\n",
      "Saving\n"
     ]
    },
    {
     "name": "stderr",
     "output_type": "stream",
     "text": [
      "                                                                  \r"
     ]
    },
    {
     "name": "stdout",
     "output_type": "stream",
     "text": [
      "peanut\n",
      "Calculating Table\n",
      "Saving\n"
     ]
    },
    {
     "name": "stderr",
     "output_type": "stream",
     "text": [
      "                                                                  \r"
     ]
    },
    {
     "name": "stdout",
     "output_type": "stream",
     "text": [
      "cucumber\n",
      "Calculating Table\n",
      "Saving\n"
     ]
    },
    {
     "name": "stderr",
     "output_type": "stream",
     "text": [
      "                                                                  \r"
     ]
    },
    {
     "name": "stdout",
     "output_type": "stream",
     "text": [
      "brome\n",
      "Calculating Table\n",
      "Saving\n"
     ]
    }
   ],
   "source": [
    "for species in taxa_list:\n",
    "\n",
    "    cleaned_og = get_ncbi_clean_og2gene_for_species(species,og_groups,ncbi_mapping=ncbi_mapping)\n",
    "    species_name = Name_resolver.species_name_resolver(species,'common')\n",
    "    print(species_name)\n",
    "    current_coconet = CococoNet_reader.read_cococonet(species_1=species)\n",
    "    in_coconet = cleaned_og.loc[cleaned_og['Symbol'].isin(current_coconet.index)]\n",
    "\n",
    "    dict_version = in_coconet[['Orthogroup','Symbol']].set_index('Symbol').to_dict()\n",
    "    true_dict = dict_version['Orthogroup']\n",
    "    print(\"Calculating Table\")\n",
    "    final_coconet = current_coconet.groupby(by = true_dict).mean().groupby(by = true_dict,axis = 1).mean()\n",
    "    print('Saving')\n",
    "    final_coconet.to_csv(f'/data/passala/Generated_Tables/Comparing_all_orthogorups_across_plants/Orthogroup_based_coconets/{species_name}_merged_cococonet.csv')\n",
    "    pickle.dump( final_coconet, open( f'/data/passala/Generated_Tables/Comparing_all_orthogorups_across_plants/Orthogroup_based_coconets/{species_name}_merged_cococonet_pickle.p', \"wb\" ))"
   ]
  },
  {
   "cell_type": "code",
   "execution_count": null,
   "metadata": {},
   "outputs": [],
   "source": []
  }
 ],
 "metadata": {
  "kernelspec": {
   "display_name": "Single_cell_data_fix",
   "language": "python",
   "name": "python3"
  },
  "language_info": {
   "codemirror_mode": {
    "name": "ipython",
    "version": 3
   },
   "file_extension": ".py",
   "mimetype": "text/x-python",
   "name": "python",
   "nbconvert_exporter": "python",
   "pygments_lexer": "ipython3",
   "version": "3.9.13"
  },
  "orig_nbformat": 4
 },
 "nbformat": 4,
 "nbformat_minor": 2
}
