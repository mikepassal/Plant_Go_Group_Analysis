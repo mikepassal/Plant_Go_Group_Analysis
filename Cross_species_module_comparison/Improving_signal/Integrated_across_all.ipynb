{
 "cells": [
  {
   "cell_type": "code",
   "execution_count": 1,
   "metadata": {},
   "outputs": [],
   "source": [
    "import pandas as pd\n",
    "import numpy as np \n",
    "import matplotlib.pyplot as plt\n",
    "import seaborn as sns\n"
   ]
  },
  {
   "cell_type": "code",
   "execution_count": 2,
   "metadata": {},
   "outputs": [],
   "source": [
    "ages = [160, 11.2,117,108,160,49,120]\n",
    "genewise_concordance = [3.06,22.5,1.67,1.66,.5,5.22,2.98]\n",
    "orthogroupwise_concordance = [5.125,25,1.73,9.5,4,6,4.64]\n"
   ]
  },
  {
   "cell_type": "code",
   "execution_count": 3,
   "metadata": {},
   "outputs": [
    {
     "data": {
      "text/html": [
       "<div>\n",
       "<style scoped>\n",
       "    .dataframe tbody tr th:only-of-type {\n",
       "        vertical-align: middle;\n",
       "    }\n",
       "\n",
       "    .dataframe tbody tr th {\n",
       "        vertical-align: top;\n",
       "    }\n",
       "\n",
       "    .dataframe thead th {\n",
       "        text-align: right;\n",
       "    }\n",
       "</style>\n",
       "<table border=\"1\" class=\"dataframe\">\n",
       "  <thead>\n",
       "    <tr style=\"text-align: right;\">\n",
       "      <th></th>\n",
       "      <th>Age</th>\n",
       "      <th>Genewise Condcordant Ratio</th>\n",
       "      <th>Orthogroupwise Concordant Ratio</th>\n",
       "    </tr>\n",
       "  </thead>\n",
       "  <tbody>\n",
       "    <tr>\n",
       "      <th>0</th>\n",
       "      <td>160.0</td>\n",
       "      <td>3.06</td>\n",
       "      <td>5.125</td>\n",
       "    </tr>\n",
       "    <tr>\n",
       "      <th>1</th>\n",
       "      <td>11.2</td>\n",
       "      <td>22.50</td>\n",
       "      <td>25.000</td>\n",
       "    </tr>\n",
       "    <tr>\n",
       "      <th>2</th>\n",
       "      <td>117.0</td>\n",
       "      <td>1.67</td>\n",
       "      <td>1.730</td>\n",
       "    </tr>\n",
       "    <tr>\n",
       "      <th>3</th>\n",
       "      <td>108.0</td>\n",
       "      <td>1.66</td>\n",
       "      <td>9.500</td>\n",
       "    </tr>\n",
       "    <tr>\n",
       "      <th>4</th>\n",
       "      <td>160.0</td>\n",
       "      <td>0.50</td>\n",
       "      <td>4.000</td>\n",
       "    </tr>\n",
       "    <tr>\n",
       "      <th>5</th>\n",
       "      <td>49.0</td>\n",
       "      <td>5.22</td>\n",
       "      <td>6.000</td>\n",
       "    </tr>\n",
       "    <tr>\n",
       "      <th>6</th>\n",
       "      <td>120.0</td>\n",
       "      <td>2.98</td>\n",
       "      <td>4.640</td>\n",
       "    </tr>\n",
       "  </tbody>\n",
       "</table>\n",
       "</div>"
      ],
      "text/plain": [
       "     Age  Genewise Condcordant Ratio  Orthogroupwise Concordant Ratio\n",
       "0  160.0                        3.06                            5.125\n",
       "1   11.2                       22.50                           25.000\n",
       "2  117.0                        1.67                            1.730\n",
       "3  108.0                        1.66                            9.500\n",
       "4  160.0                        0.50                            4.000\n",
       "5   49.0                        5.22                            6.000\n",
       "6  120.0                        2.98                            4.640"
      ]
     },
     "execution_count": 3,
     "metadata": {},
     "output_type": "execute_result"
    }
   ],
   "source": [
    "plotting_df = pd.DataFrame(columns = ['Age','Genewise Condcordant Ratio','Orthogroupwise Concordant Ratio'], data = zip(ages,genewise_concordance,orthogroupwise_concordance) )\n",
    "plotting_df"
   ]
  },
  {
   "cell_type": "code",
   "execution_count": 4,
   "metadata": {},
   "outputs": [],
   "source": [
    "plotting_df['Difference in Performance'] = plotting_df['Orthogroupwise Concordant Ratio'] - plotting_df['Genewise Condcordant Ratio']\n",
    "plotting_df['Percent Improvement'] = plotting_df['Difference in Performance']/plotting_df['Genewise Condcordant Ratio']*100"
   ]
  },
  {
   "cell_type": "code",
   "execution_count": 5,
   "metadata": {},
   "outputs": [
    {
     "data": {
      "text/html": [
       "<div>\n",
       "<style scoped>\n",
       "    .dataframe tbody tr th:only-of-type {\n",
       "        vertical-align: middle;\n",
       "    }\n",
       "\n",
       "    .dataframe tbody tr th {\n",
       "        vertical-align: top;\n",
       "    }\n",
       "\n",
       "    .dataframe thead th {\n",
       "        text-align: right;\n",
       "    }\n",
       "</style>\n",
       "<table border=\"1\" class=\"dataframe\">\n",
       "  <thead>\n",
       "    <tr style=\"text-align: right;\">\n",
       "      <th></th>\n",
       "      <th>Age</th>\n",
       "      <th>Genewise Condcordant Ratio</th>\n",
       "      <th>Orthogroupwise Concordant Ratio</th>\n",
       "      <th>Difference in Performance</th>\n",
       "      <th>Percent Improvement</th>\n",
       "    </tr>\n",
       "  </thead>\n",
       "  <tbody>\n",
       "    <tr>\n",
       "      <th>0</th>\n",
       "      <td>160.0</td>\n",
       "      <td>3.06</td>\n",
       "      <td>5.125</td>\n",
       "      <td>2.065</td>\n",
       "      <td>67.483660</td>\n",
       "    </tr>\n",
       "    <tr>\n",
       "      <th>1</th>\n",
       "      <td>11.2</td>\n",
       "      <td>22.50</td>\n",
       "      <td>25.000</td>\n",
       "      <td>2.500</td>\n",
       "      <td>11.111111</td>\n",
       "    </tr>\n",
       "    <tr>\n",
       "      <th>2</th>\n",
       "      <td>117.0</td>\n",
       "      <td>1.67</td>\n",
       "      <td>1.730</td>\n",
       "      <td>0.060</td>\n",
       "      <td>3.592814</td>\n",
       "    </tr>\n",
       "    <tr>\n",
       "      <th>3</th>\n",
       "      <td>108.0</td>\n",
       "      <td>1.66</td>\n",
       "      <td>9.500</td>\n",
       "      <td>7.840</td>\n",
       "      <td>472.289157</td>\n",
       "    </tr>\n",
       "    <tr>\n",
       "      <th>4</th>\n",
       "      <td>160.0</td>\n",
       "      <td>0.50</td>\n",
       "      <td>4.000</td>\n",
       "      <td>3.500</td>\n",
       "      <td>700.000000</td>\n",
       "    </tr>\n",
       "    <tr>\n",
       "      <th>5</th>\n",
       "      <td>49.0</td>\n",
       "      <td>5.22</td>\n",
       "      <td>6.000</td>\n",
       "      <td>0.780</td>\n",
       "      <td>14.942529</td>\n",
       "    </tr>\n",
       "    <tr>\n",
       "      <th>6</th>\n",
       "      <td>120.0</td>\n",
       "      <td>2.98</td>\n",
       "      <td>4.640</td>\n",
       "      <td>1.660</td>\n",
       "      <td>55.704698</td>\n",
       "    </tr>\n",
       "  </tbody>\n",
       "</table>\n",
       "</div>"
      ],
      "text/plain": [
       "     Age  Genewise Condcordant Ratio  Orthogroupwise Concordant Ratio  \\\n",
       "0  160.0                        3.06                            5.125   \n",
       "1   11.2                       22.50                           25.000   \n",
       "2  117.0                        1.67                            1.730   \n",
       "3  108.0                        1.66                            9.500   \n",
       "4  160.0                        0.50                            4.000   \n",
       "5   49.0                        5.22                            6.000   \n",
       "6  120.0                        2.98                            4.640   \n",
       "\n",
       "   Difference in Performance  Percent Improvement  \n",
       "0                      2.065            67.483660  \n",
       "1                      2.500            11.111111  \n",
       "2                      0.060             3.592814  \n",
       "3                      7.840           472.289157  \n",
       "4                      3.500           700.000000  \n",
       "5                      0.780            14.942529  \n",
       "6                      1.660            55.704698  "
      ]
     },
     "execution_count": 5,
     "metadata": {},
     "output_type": "execute_result"
    }
   ],
   "source": [
    "plotting_df"
   ]
  },
  {
   "cell_type": "code",
   "execution_count": 16,
   "metadata": {},
   "outputs": [
    {
     "data": {
      "image/png": "[encoded data removed]",
      "text/plain": [
       "<Figure size 864x576 with 1 Axes>"
      ]
     },
     "metadata": {},
     "output_type": "display_data"
    }
   ],
   "source": [
    "fig, ax = plt.subplots(figsize = (12,8))\n",
    "fig.patch.set_facecolor('white')\n",
    "sns.scatterplot(data = plotting_df, x = 'Age',y = 'Percent Improvement', s = 100)\n",
    "plt.xlabel(\"Age\", fontsize = 20)\n",
    "plt.ylabel(\"Percent Improvement in Concordance Score\", fontsize = 20)\n",
    "sns.despine()\n",
    "ax.set(yscale = 'log')\n",
    "ax.grid(False)\n",
    "ax.spines[\"bottom\"].set_color(\"black\")\n",
    "ax.spines[\"left\"].set_color(\"black\")\n",
    "#plt.xlim((0,3))\n",
    "#plt.ylim((0, 3))\n",
    "#handles, labels  =  ax.get_legend_handles_labels()\n",
    "#ax.legend(handles, ['Accepted Coexpressolog', 'Rejected Coexpressolog'], loc='lower right')\n",
    "#plt.title(\"Current Threshold is 31\", fontsize = 20)\n",
    "#plt.xticks(fontsize = 12, rotation = 25)\n",
    "#plt.yticks(fontsize = 11)\n",
    "#ax.plot([0,1],[0,1], transform=ax.transAxes, linestyle = 'dashed', color = 'k', linewidth = 1.5)"
   ]
  },
  {
   "cell_type": "markdown",
   "metadata": {},
   "source": []
  }
 ],
 "metadata": {
  "kernelspec": {
   "display_name": "Single_cell_data_fix",
   "language": "python",
   "name": "python3"
  },
  "language_info": {
   "codemirror_mode": {
    "name": "ipython",
    "version": 3
   },
   "file_extension": ".py",
   "mimetype": "text/x-python",
   "name": "python",
   "nbconvert_exporter": "python",
   "pygments_lexer": "ipython3",
   "version": "3.9.13"
  }
 },
 "nbformat": 4,
 "nbformat_minor": 2
}
