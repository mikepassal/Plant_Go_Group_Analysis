{
 "cells": [
  {
   "cell_type": "code",
   "execution_count": null,
   "metadata": {},
   "outputs": [],
   "source": []
  },
  {
   "cell_type": "code",
   "execution_count": 1,
   "metadata": {},
   "outputs": [
    {
     "name": "stdout",
     "output_type": "stream",
     "text": [
      "/data/passala/git/Plant_Go_Group_Analysis/Cross_species_module_comparison/Sorghum_rice_heat\n"
     ]
    }
   ],
   "source": [
    "%%bash \n",
    "pwd"
   ]
  },
  {
   "cell_type": "code",
   "execution_count": null,
   "metadata": {},
   "outputs": [],
   "source": [
    "fasterq-dump --split-files SRR5796956"
   ]
  },
  {
   "cell_type": "code",
   "execution_count": null,
   "metadata": {},
   "outputs": [],
   "source": [
    "%%bash \n",
    "conda activate Genomealign\n",
    "cd /data/\n",
    "./STAR  --runThreadN 24 --runMode genomeGenerate --genomeDir /data/passala/Genomes/Sorghum_bicolor --genomeFastaFiles /data/passala/Genomes/Sorghum_bicolor/sorghum.fna --sjdbGTFfile /data/passala/Genomes/Sorghum_bicolor/sorghum.gtf --sjdbOverhang 100"
   ]
  },
  {
   "cell_type": "markdown",
   "metadata": {},
   "source": [
    "fasterq-dump --split-files SRR10003669"
   ]
  },
  {
   "cell_type": "markdown",
   "metadata": {},
   "source": []
  },
  {
   "cell_type": "code",
   "execution_count": null,
   "metadata": {},
   "outputs": [],
   "source": [
    "./STAR --runThreadN 30 --genomeDir /data/passala/Genomes/Glycine_max --readFilesIn /data/passala/Module_paper_data/Sorghum_rice_heat_stress/Sorghum/control_time_9/SRR23555278_1.fastq --outSAMtype None --outFileNamePrefix /data/passala/Module_paper_data/Sorghum_rice_heat_stress/Sorghum/control_time_9/sorg_control_1 --quantMode GeneCounts"
   ]
  },
  {
   "cell_type": "code",
   "execution_count": 1,
   "metadata": {},
   "outputs": [
    {
     "ename": "SyntaxError",
     "evalue": "invalid syntax (<ipython-input-1-254e3dc429e5>, line 1)",
     "output_type": "error",
     "traceback": [
      "\u001b[1;36m  File \u001b[1;32m\"<ipython-input-1-254e3dc429e5>\"\u001b[1;36m, line \u001b[1;32m1\u001b[0m\n\u001b[1;33m    ./STAR --runThreadN 30 --genomeDir /data/passala/Genomes/Glycine_max --readFilesIn /data/passala/Module_paper_data/Glycine_medicago_salt/Glycine_max/Salt_2_hrs/SRR16093008_1.fastq /data/passala/Module_paper_data/Glycine_medicago_salt/Glycine_max/Salt_2_hrs/SRR16093008_2.fastq  --outSAMtype None --outFileNamePrefix /data/passala/Module_paper_data/Glycine_medicago_salt/Glycine_max/Salt_2_hrs --quantMode GeneCounts\u001b[0m\n\u001b[1;37m    ^\u001b[0m\n\u001b[1;31mSyntaxError\u001b[0m\u001b[1;31m:\u001b[0m invalid syntax\n"
     ]
    }
   ],
   "source": [
    "./STAR --runThreadN 30 --genomeDir /data/passala/Genomes/Glycine_max --readFilesIn /data/passala/Module_paper_data/Glycine_medicago_salt/Glycine_max/Salt_2_hrs/SRR16093008_1.fastq /data/passala/Module_paper_data/Glycine_medicago_salt/Glycine_max/Salt_2_hrs/SRR16093008_2.fastq  --outSAMtype None --outFileNamePrefix /data/passala/Module_paper_data/Glycine_medicago_salt/Glycine_max/Salt_2_hrs --quantMode GeneCounts"
   ]
  },
  {
   "cell_type": "code",
   "execution_count": null,
   "metadata": {},
   "outputs": [],
   "source": []
  },
  {
   "cell_type": "markdown",
   "metadata": {},
   "source": [
    "./STAR --runThreadN 30 --genomeDir /data/passala/Genomes/Medicago_truncatula --readFilesIn /data/passala/Module_paper_data/Glycine_medicago_salt/Medicago_truncatula/Control/SRR13709464_1.fastq /data/passala/Module_paper_data/Glycine_medicago_salt/Medicago_truncatula/Control/SRR13709464_2.fastq  --outSAMtype None --outFileNamePrefix /data/passala/Module_paper_data/Glycine_medicago_salt/Medicago_truncatula/Control/Medi_control_rep_3 --quantMode GeneCounts"
   ]
  },
  {
   "cell_type": "code",
   "execution_count": null,
   "metadata": {},
   "outputs": [],
   "source": []
  },
  {
   "cell_type": "markdown",
   "metadata": {},
   "source": [
    "./STAR --runThreadN 30 --genomeDir /data/passala/Genomes/Medicago_truncatula --readFilesIn /data/passala/Module_paper_data/Medicago_grape_Redo_salt_pinot/Medicago/control/SRR13709470_1.fastq /data/passala/Module_paper_data/Medicago_grape_Redo_salt_pinot/Medicago/control/SRR13709470_2.fastq  --outSAMtype None --outFileNamePrefix /data/passala/Module_paper_data/Medicago_grape_Redo_salt_pinot/Medicago/control/Medi_control_rep_3 --quantMode GeneCounts"
   ]
  },
  {
   "cell_type": "markdown",
   "metadata": {},
   "source": [
    "./STAR --runThreadN 30 --genomeDir /data/passala/Genomes/Vitis_vinifera --readFilesIn /data/passala/Module_paper_data/Glycine_medicago_salt/Vitis_vinifera/Control/SRR18189706_1.fastq /data/passala/Module_paper_data/Glycine_medicago_salt/Vitis_vinifera/Control/SRR18189706_2.fastq  --outSAMtype None --outFileNamePrefix /data/passala/Module_paper_data/Glycine_medicago_salt/Vitis_vinifera/Control/grape_control_rep_3 --quantMode GeneCounts"
   ]
  },
  {
   "cell_type": "markdown",
   "metadata": {},
   "source": [
    "./STAR --runThreadN 30 --genomeDir /data/passala/Genomes/Vitis_vinifera --readFilesIn /data/passala/Module_paper_data/Glycine_medicago_salt/Vitis_vinifera/Salt/SRR18189703_1.fastq /data/passala/Module_paper_data/Glycine_medicago_salt/Vitis_vinifera/Salt/SRR18189703_2.fastq  --outSAMtype None --outFileNamePrefix /data/passala/Module_paper_data/Glycine_medicago_salt/Vitis_vinifera/Salt/grape_control_rep_3 --quantMode GeneCounts"
   ]
  },
  {
   "cell_type": "markdown",
   "metadata": {},
   "source": [
    "./STAR --runThreadN 30 --genomeDir /data/passala/Genomes/Vitis_vinifera --readFilesIn /data/passala/Module_paper_data/Medicago_grape_Redo_salt_pinot/Pinot_Grape/control/SRR25409328_1.fastq /data/passala/Module_paper_data/Medicago_grape_Redo_salt_pinot/Pinot_Grape/control/SRR25409328_2.fastq  --outSAMtype None --outFileNamePrefix /data/passala/Module_paper_data/Medicago_grape_Redo_salt_pinot/Pinot_Grape/control/grape_pinot_control_1 --quantMode GeneCounts"
   ]
  },
  {
   "cell_type": "markdown",
   "metadata": {},
   "source": [
    "./STAR --runThreadN 30 --genomeDir /data/passala/Genomes/Vitis_vinifera --readFilesIn /data/passala/Module_paper_data/Medicago_grape_Redo_salt_pinot/Pinot_Grape/salt/SRR25409327_1.fastq /data/passala/Module_paper_data/Medicago_grape_Redo_salt_pinot/Pinot_Grape/salt/SRR25409327_2.fastq  --outSAMtype None --outFileNamePrefix /data/passala/Module_paper_data/Medicago_grape_Redo_salt_pinot/Pinot_Grape/salt/grape_pinot_salt_3 --quantMode GeneCounts"
   ]
  },
  {
   "cell_type": "markdown",
   "metadata": {},
   "source": [
    "./STAR --runThreadN 30 --genomeDir /data/passala/Genomes/Medicago_truncatula --readFilesIn /data/passala/Module_paper_data/Medicago_grape_Redo_salt_pinot/Medicago/salt/SRR13709473_1.fastq /data/passala/Module_paper_data/Medicago_grape_Redo_salt_pinot/Medicago/salt/SRR13709473_2.fastq  --outSAMtype None --outFileNamePrefix /data/passala/Module_paper_data/Medicago_grape_Redo_salt_pinot/Medicago/salt/Medi_salt_rep_3 --quantMode GeneCounts"
   ]
  },
  {
   "cell_type": "code",
   "execution_count": null,
   "metadata": {},
   "outputs": [],
   "source": [
    "./STAR --runThreadN 30 --genomeDir /data/passala/Genomes/Oryza_sativa_japonica_NCBI_ref/Oryza_sativa/star --readFilesIn /data/passala/Module_paper_data/Sorghum_rice_heat_stress/Rice/heat_1hr50/SRR5796956.fastq --outSAMtype None --outFileNamePrefix /data/passala/Module_paper_data/Sorghum_rice_heat_stress/Rice/heat_1hr50/rice_heat_1 --quantMode GeneCounts"
   ]
  },
  {
   "cell_type": "markdown",
   "metadata": {},
   "source": [
    "aws s3 ls s3://sra-pub-src-3/SRR16093012/A34021A_1.fq.gz.1 --no-sign-request"
   ]
  }
 ],
 "metadata": {
  "kernelspec": {
   "display_name": "Genomealign",
   "language": "python",
   "name": "python3"
  },
  "language_info": {
   "codemirror_mode": {
    "name": "ipython",
    "version": 2
   },
   "file_extension": ".py",
   "mimetype": "text/x-python",
   "name": "python",
   "nbconvert_exporter": "python",
   "pygments_lexer": "ipython2",
   "version": "2.7.undefined"
  }
 },
 "nbformat": 4,
 "nbformat_minor": 2
}
