{
 "cells": [
  {
   "cell_type": "code",
   "execution_count": null,
   "metadata": {},
   "outputs": [],
   "source": []
  },
  {
   "cell_type": "code",
   "execution_count": 1,
   "metadata": {},
   "outputs": [
    {
     "name": "stdout",
     "output_type": "stream",
     "text": [
      "/data/passala/git/Plant_Go_Group_Analysis/Cross_species_module_comparison/Sorghum_rice_heat\n"
     ]
    }
   ],
   "source": [
    "%%bash \n",
    "pwd"
   ]
  },
  {
   "cell_type": "code",
   "execution_count": null,
   "metadata": {},
   "outputs": [],
   "source": [
    "%%bash \n",
    "conda activate Genomealign\n",
    "cd /data/\n",
    "./STAR  --runThreadN 24 --runMode genomeGenerate --genomeDir /data/passala/Genomes/Sorghum_bicolor --genomeFastaFiles /data/passala/Genomes/Sorghum_bicolor/sorghum.fna --sjdbGTFfile /data/passala/Genomes/Sorghum_bicolor/sorghum.gtf --sjdbOverhang 100"
   ]
  },
  {
   "cell_type": "markdown",
   "metadata": {},
   "source": [
    "fasterq-dump --split-files SRR10003669"
   ]
  },
  {
   "cell_type": "markdown",
   "metadata": {},
   "source": []
  },
  {
   "cell_type": "code",
   "execution_count": null,
   "metadata": {},
   "outputs": [],
   "source": [
    "./STAR --runThreadN 30 --genomeDir /data/passala/Genomes/Glycine_max --readFilesIn /data/passala/Module_paper_data/Sorghum_rice_heat_stress/Sorghum/control_time_9/SRR23555278_1.fastq --outSAMtype None --outFileNamePrefix /data/passala/Module_paper_data/Sorghum_rice_heat_stress/Sorghum/control_time_9/sorg_control_1 --quantMode GeneCounts"
   ]
  },
  {
   "cell_type": "code",
   "execution_count": null,
   "metadata": {},
   "outputs": [],
   "source": [
    "./STAR --runThreadN 30 --genomeDir /data/passala/Genomes/Oryza_sativa_japonica_NCBI_ref/Oryza_sativa/star --readFilesIn /data/passala/Module_paper_data/Sorghum_rice_heat_stress/Rice/heat_1hr50/SRR5796956.fastq --outSAMtype None --outFileNamePrefix /data/passala/Module_paper_data/Sorghum_rice_heat_stress/Rice/heat_1hr50/rice_heat_1 --quantMode GeneCounts"
   ]
  }
 ],
 "metadata": {
  "kernelspec": {
   "display_name": "Genomealign",
   "language": "python",
   "name": "python3"
  },
  "language_info": {
   "codemirror_mode": {
    "name": "ipython",
    "version": 2
   },
   "file_extension": ".py",
   "mimetype": "text/x-python",
   "name": "python",
   "nbconvert_exporter": "python",
   "pygments_lexer": "ipython2",
   "version": "2.7.undefined"
  }
 },
 "nbformat": 4,
 "nbformat_minor": 2
}
