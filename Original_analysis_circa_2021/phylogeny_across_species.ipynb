{
 "cells": [
  {
   "cell_type": "code",
   "execution_count": 2,
   "metadata": {},
   "outputs": [],
   "source": [
    "import pandas as pd \n",
    "\n",
    "import matplotlib.pyplot as plt\n",
    "\n",
    "import scipy"
   ]
  },
  {
   "cell_type": "code",
   "execution_count": 3,
   "metadata": {},
   "outputs": [],
   "source": [
    "distance_matrix = pd.read_csv('/home/passala/Gene_duplication_project/Data_from_others/full_distance_matrix.csv')\n",
    "linkage_map_pd = distance_matrix.melt(id_vars = ['Unnamed: 0']).dropna()\n",
    "linkage_dictionary = {}\n",
    "for index, species_pair in linkage_map_pd.iterrows():\n",
    "    linkage_dictionary[species_pair[0],species_pair[1]] = species_pair[2]\n",
    "keys = [sorted(k) for k in linkage_dictionary.keys()]\n",
    "values = linkage_dictionary.values()\n",
    "sorted_keys,distances = zip(*sorted(zip(keys,values)))"
   ]
  },
  {
   "cell_type": "code",
   "execution_count": 19,
   "metadata": {},
   "outputs": [
    {
     "data": {
      "text/plain": [
       "{'icoord': [[5.0, 5.0, 15.0, 15.0],\n",
       "  [25.0, 25.0, 35.0, 35.0],\n",
       "  [10.0, 10.0, 30.0, 30.0],\n",
       "  [55.0, 55.0, 65.0, 65.0],\n",
       "  [45.0, 45.0, 60.0, 60.0],\n",
       "  [115.0, 115.0, 125.0, 125.0],\n",
       "  [105.0, 105.0, 120.0, 120.0],\n",
       "  [145.0, 145.0, 155.0, 155.0],\n",
       "  [135.0, 135.0, 150.0, 150.0],\n",
       "  [112.5, 112.5, 142.5, 142.5],\n",
       "  [95.0, 95.0, 127.5, 127.5],\n",
       "  [85.0, 85.0, 111.25, 111.25],\n",
       "  [75.0, 75.0, 98.125, 98.125],\n",
       "  [52.5, 52.5, 86.5625, 86.5625],\n",
       "  [20.0, 20.0, 69.53125, 69.53125]],\n",
       " 'dcoord': [[0.0, 12.19, 12.19, 0.0],\n",
       "  [0.0, 50.0, 50.0, 0.0],\n",
       "  [12.19, 50.0, 50.0, 50.0],\n",
       "  [0.0, 7.67, 7.67, 0.0],\n",
       "  [0.0, 29.8, 29.8, 7.67],\n",
       "  [0.0, 2.02, 2.02, 0.0],\n",
       "  [0.0, 25.6, 25.6, 2.02],\n",
       "  [0.0, 53.0, 53.0, 0.0],\n",
       "  [0.0, 55.6, 55.6, 53.0],\n",
       "  [25.6, 106.0, 106.0, 55.6],\n",
       "  [0.0, 106.0, 106.0, 106.0],\n",
       "  [0.0, 106.0, 106.0, 106.0],\n",
       "  [0.0, 110.0, 110.0, 106.0],\n",
       "  [29.8, 117.0, 117.0, 110.0],\n",
       "  [50.0, 160.0, 160.0, 117.0]],\n",
       " 'ivl': ['Sorghum bicolor',\n",
       "  'Zea mays',\n",
       "  'Brachypodium distachyon',\n",
       "  'Oryza sativa',\n",
       "  'Nicotiana tabacum',\n",
       "  'Solanum lycopersicum',\n",
       "  'Solanum tuberosum',\n",
       "  'Vitis vinifera',\n",
       "  'Malus domestica',\n",
       "  'Cucumis sativus',\n",
       "  'Arabidopsis thaliana',\n",
       "  'Brassica napus',\n",
       "  'Brassica rapa',\n",
       "  'Arachis hypogaea',\n",
       "  'Glycine max',\n",
       "  'Medicago truncatula'],\n",
       " 'leaves': [13, 15, 2, 10, 9, 11, 12, 14, 7, 5, 0, 3, 4, 1, 6, 8],\n",
       " 'color_list': ['C1',\n",
       "  'C1',\n",
       "  'C1',\n",
       "  'C2',\n",
       "  'C2',\n",
       "  'C3',\n",
       "  'C3',\n",
       "  'C3',\n",
       "  'C3',\n",
       "  'C3',\n",
       "  'C3',\n",
       "  'C3',\n",
       "  'C3',\n",
       "  'C0',\n",
       "  'C0'],\n",
       " 'leaves_color_list': ['C1',\n",
       "  'C1',\n",
       "  'C1',\n",
       "  'C1',\n",
       "  'C2',\n",
       "  'C2',\n",
       "  'C2',\n",
       "  'C3',\n",
       "  'C3',\n",
       "  'C3',\n",
       "  'C3',\n",
       "  'C3',\n",
       "  'C3',\n",
       "  'C3',\n",
       "  'C3',\n",
       "  'C3']}"
      ]
     },
     "execution_count": 19,
     "metadata": {},
     "output_type": "execute_result"
    },
    {
     "data": {
      "image/png": "[encoded data removed]",
      "text/plain": [
       "<Figure size 360x864 with 1 Axes>"
      ]
     },
     "metadata": {
      "needs_background": "light"
     },
     "output_type": "display_data"
    }
   ],
   "source": [
    "Z = scipy.cluster.hierarchy.linkage(distances)\n",
    "labels = sorted(set([key[0] for key in sorted_keys] + [sorted_keys[-1][-1]]))\n",
    "plt.figure(num =None, figsize = (5,12))\n",
    "scipy.cluster.hierarchy.dendrogram(Z, labels = labels,leaf_font_size= 10, orientation= 'left' )"
   ]
  },
  {
   "cell_type": "code",
   "execution_count": null,
   "metadata": {},
   "outputs": [],
   "source": []
  }
 ],
 "metadata": {
  "interpreter": {
   "hash": "f93c29658645656ddf74fdc6defd4f46a7768ecfaa7860185abc92b53642b34c"
  },
  "kernelspec": {
   "display_name": "Python 3.9.7 ('py39')",
   "language": "python",
   "name": "python3"
  },
  "language_info": {
   "codemirror_mode": {
    "name": "ipython",
    "version": 3
   },
   "file_extension": ".py",
   "mimetype": "text/x-python",
   "name": "python",
   "nbconvert_exporter": "python",
   "pygments_lexer": "ipython3",
   "version": "3.9.7"
  },
  "orig_nbformat": 4
 },
 "nbformat": 4,
 "nbformat_minor": 2
}
